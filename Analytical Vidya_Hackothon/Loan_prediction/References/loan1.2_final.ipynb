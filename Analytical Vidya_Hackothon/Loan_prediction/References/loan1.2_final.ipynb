{
 "cells": [
  {
   "cell_type": "markdown",
   "id": "6a1ca6a8",
   "metadata": {},
   "source": [
    "### <center><h1>Loan Approval Prediction</h1></center>\n"
   ]
  },
  {
   "cell_type": "markdown",
   "id": "411924b0",
   "metadata": {},
   "source": [
    "## Project Title: Loan Approval Prediction\n",
    "\n",
    "## Introduction:\n",
    "Welcome to the Loan Approval Prediction project! In this project, we will analyze a dataset containing information about loan applicants to predict whether a loan application will be approved or not. By exploring various features and using machine learning algorithms, we aim to build a predictive model that can assist in making loan approval decisions.\n"
   ]
  },
  {
   "cell_type": "markdown",
   "id": "fb2d2248",
   "metadata": {},
   "source": [
    "\n",
    "## Dataset and Features:\n",
    "The dataset used for this project consists of the following columns:\n",
    "\n",
    "1. Loan_ID: Unique identifier for each loan application\n",
    "2. Gender: Gender of the applicant (Male/Female)\n",
    "3. Married: Marital status of the applicant (Yes/No)\n",
    "4. Dependents: Number of dependents the applicant has\n",
    "5. Education: Education level of the applicant (Graduate/Not Graduate)\n",
    "6. Self_Employed: Indicates whether the applicant is self-employed (Yes/No)\n",
    "7. ApplicantIncome: Income of the applicant\n",
    "8. CoapplicantIncome: Income of the co-applicant (if any)\n",
    "9. LoanAmount: Loan amount requested by the applicant\n",
    "10. Loan_Amount_Term: Term (in months) of the loan\n",
    "11. Credit_History: Credit history of the applicant (1: Good, 0: Bad)\n",
    "12. Property_Area: Area type of the property (Urban/Semiurban/Rural)\n",
    "13. Loan_Status: Approval status of the loan (Y: Approved, N: Not Approved)\n",
    "\n",
    "## Objective:\n",
    "The main objective of this project is to develop a machine learning model that can accurately predict whether a loan application will be approved or not based on the given features. This can help banks and financial institutions streamline their loan approval process and make informed decisions.\n",
    "\n",
    "Now, let's dive into the data exploration, analysis, and prediction modeling to achieve our objective!\n"
   ]
  },
  {
   "cell_type": "code",
   "execution_count": 1,
   "id": "4727c6f5",
   "metadata": {
    "scrolled": true
   },
   "outputs": [],
   "source": [
    "#Import Preprocessing Libraries  \n",
    "import pandas as pd\n",
    "import numpy as np\n",
    "import matplotlib.pyplot as plt \n",
    "import seaborn as sns\n",
    "%matplotlib inline\n",
    "\n",
    "# import Sickit-learn \n",
    "from sklearn.preprocessing import MinMaxScaler\n",
    "from sklearn.preprocessing import LabelEncoder\n",
    "from sklearn.model_selection import train_test_split\n",
    "from sklearn.metrics import confusion_matrix\n",
    "from sklearn.metrics import classification_report\n",
    "from sklearn.metrics import accuracy_score\n",
    "\n",
    "# Models from sklearn \n",
    "from sklearn.linear_model import LogisticRegression\n",
    "from sklearn.svm import SVC"
   ]
  },
  {
   "cell_type": "markdown",
   "id": "f7b59f52",
   "metadata": {},
   "source": [
    "# 1) Data Preprocessing & EDA "
   ]
  },
  {
   "cell_type": "markdown",
   "id": "75e9f97e",
   "metadata": {},
   "source": [
    "# > Initial data preparation\n",
    "\n",
    "## 1.1) Data Loading"
   ]
  },
  {
   "cell_type": "code",
   "execution_count": 2,
   "id": "c4c3dd74",
   "metadata": {
    "scrolled": true
   },
   "outputs": [],
   "source": [
    "loan = pd.read_csv('../Data/train_ctrUa4K.csv')"
   ]
  },
  {
   "cell_type": "code",
   "execution_count": 3,
   "id": "ed3f3197",
   "metadata": {
    "scrolled": false
   },
   "outputs": [
    {
     "data": {
      "application/vnd.microsoft.datawrangler.viewer.v0+json": {
       "columns": [
        {
         "name": "index",
         "rawType": "object",
         "type": "string"
        },
        {
         "name": "0",
         "rawType": "object",
         "type": "unknown"
        },
        {
         "name": "1",
         "rawType": "object",
         "type": "unknown"
        },
        {
         "name": "2",
         "rawType": "object",
         "type": "unknown"
        },
        {
         "name": "3",
         "rawType": "object",
         "type": "unknown"
        },
        {
         "name": "4",
         "rawType": "object",
         "type": "unknown"
        }
       ],
       "conversionMethod": "pd.DataFrame",
       "ref": "20319075-e6c1-41c2-ba2d-5a74351fdb60",
       "rows": [
        [
         "Loan_ID",
         "LP001002",
         "LP001003",
         "LP001005",
         "LP001006",
         "LP001008"
        ],
        [
         "Gender",
         "Male",
         "Male",
         "Male",
         "Male",
         "Male"
        ],
        [
         "Married",
         "No",
         "Yes",
         "Yes",
         "Yes",
         "No"
        ],
        [
         "Dependents",
         "0",
         "1",
         "0",
         "0",
         "0"
        ],
        [
         "Education",
         "Graduate",
         "Graduate",
         "Graduate",
         "Not Graduate",
         "Graduate"
        ],
        [
         "Self_Employed",
         "No",
         "No",
         "Yes",
         "No",
         "No"
        ],
        [
         "ApplicantIncome",
         "5849",
         "4583",
         "3000",
         "2583",
         "6000"
        ],
        [
         "CoapplicantIncome",
         "0.0",
         "1508.0",
         "0.0",
         "2358.0",
         "0.0"
        ],
        [
         "LoanAmount",
         null,
         "128.0",
         "66.0",
         "120.0",
         "141.0"
        ],
        [
         "Loan_Amount_Term",
         "360.0",
         "360.0",
         "360.0",
         "360.0",
         "360.0"
        ],
        [
         "Credit_History",
         "1.0",
         "1.0",
         "1.0",
         "1.0",
         "1.0"
        ],
        [
         "Property_Area",
         "Urban",
         "Rural",
         "Urban",
         "Urban",
         "Urban"
        ],
        [
         "Loan_Status",
         "Y",
         "N",
         "Y",
         "Y",
         "Y"
        ]
       ],
       "shape": {
        "columns": 5,
        "rows": 13
       }
      },
      "text/html": [
       "<div>\n",
       "<style scoped>\n",
       "    .dataframe tbody tr th:only-of-type {\n",
       "        vertical-align: middle;\n",
       "    }\n",
       "\n",
       "    .dataframe tbody tr th {\n",
       "        vertical-align: top;\n",
       "    }\n",
       "\n",
       "    .dataframe thead th {\n",
       "        text-align: right;\n",
       "    }\n",
       "</style>\n",
       "<table border=\"1\" class=\"dataframe\">\n",
       "  <thead>\n",
       "    <tr style=\"text-align: right;\">\n",
       "      <th></th>\n",
       "      <th>0</th>\n",
       "      <th>1</th>\n",
       "      <th>2</th>\n",
       "      <th>3</th>\n",
       "      <th>4</th>\n",
       "    </tr>\n",
       "  </thead>\n",
       "  <tbody>\n",
       "    <tr>\n",
       "      <th>Loan_ID</th>\n",
       "      <td>LP001002</td>\n",
       "      <td>LP001003</td>\n",
       "      <td>LP001005</td>\n",
       "      <td>LP001006</td>\n",
       "      <td>LP001008</td>\n",
       "    </tr>\n",
       "    <tr>\n",
       "      <th>Gender</th>\n",
       "      <td>Male</td>\n",
       "      <td>Male</td>\n",
       "      <td>Male</td>\n",
       "      <td>Male</td>\n",
       "      <td>Male</td>\n",
       "    </tr>\n",
       "    <tr>\n",
       "      <th>Married</th>\n",
       "      <td>No</td>\n",
       "      <td>Yes</td>\n",
       "      <td>Yes</td>\n",
       "      <td>Yes</td>\n",
       "      <td>No</td>\n",
       "    </tr>\n",
       "    <tr>\n",
       "      <th>Dependents</th>\n",
       "      <td>0</td>\n",
       "      <td>1</td>\n",
       "      <td>0</td>\n",
       "      <td>0</td>\n",
       "      <td>0</td>\n",
       "    </tr>\n",
       "    <tr>\n",
       "      <th>Education</th>\n",
       "      <td>Graduate</td>\n",
       "      <td>Graduate</td>\n",
       "      <td>Graduate</td>\n",
       "      <td>Not Graduate</td>\n",
       "      <td>Graduate</td>\n",
       "    </tr>\n",
       "    <tr>\n",
       "      <th>Self_Employed</th>\n",
       "      <td>No</td>\n",
       "      <td>No</td>\n",
       "      <td>Yes</td>\n",
       "      <td>No</td>\n",
       "      <td>No</td>\n",
       "    </tr>\n",
       "    <tr>\n",
       "      <th>ApplicantIncome</th>\n",
       "      <td>5849</td>\n",
       "      <td>4583</td>\n",
       "      <td>3000</td>\n",
       "      <td>2583</td>\n",
       "      <td>6000</td>\n",
       "    </tr>\n",
       "    <tr>\n",
       "      <th>CoapplicantIncome</th>\n",
       "      <td>0.0</td>\n",
       "      <td>1508.0</td>\n",
       "      <td>0.0</td>\n",
       "      <td>2358.0</td>\n",
       "      <td>0.0</td>\n",
       "    </tr>\n",
       "    <tr>\n",
       "      <th>LoanAmount</th>\n",
       "      <td>NaN</td>\n",
       "      <td>128.0</td>\n",
       "      <td>66.0</td>\n",
       "      <td>120.0</td>\n",
       "      <td>141.0</td>\n",
       "    </tr>\n",
       "    <tr>\n",
       "      <th>Loan_Amount_Term</th>\n",
       "      <td>360.0</td>\n",
       "      <td>360.0</td>\n",
       "      <td>360.0</td>\n",
       "      <td>360.0</td>\n",
       "      <td>360.0</td>\n",
       "    </tr>\n",
       "    <tr>\n",
       "      <th>Credit_History</th>\n",
       "      <td>1.0</td>\n",
       "      <td>1.0</td>\n",
       "      <td>1.0</td>\n",
       "      <td>1.0</td>\n",
       "      <td>1.0</td>\n",
       "    </tr>\n",
       "    <tr>\n",
       "      <th>Property_Area</th>\n",
       "      <td>Urban</td>\n",
       "      <td>Rural</td>\n",
       "      <td>Urban</td>\n",
       "      <td>Urban</td>\n",
       "      <td>Urban</td>\n",
       "    </tr>\n",
       "    <tr>\n",
       "      <th>Loan_Status</th>\n",
       "      <td>Y</td>\n",
       "      <td>N</td>\n",
       "      <td>Y</td>\n",
       "      <td>Y</td>\n",
       "      <td>Y</td>\n",
       "    </tr>\n",
       "  </tbody>\n",
       "</table>\n",
       "</div>"
      ],
      "text/plain": [
       "                          0         1         2             3         4\n",
       "Loan_ID            LP001002  LP001003  LP001005      LP001006  LP001008\n",
       "Gender                 Male      Male      Male          Male      Male\n",
       "Married                  No       Yes       Yes           Yes        No\n",
       "Dependents                0         1         0             0         0\n",
       "Education          Graduate  Graduate  Graduate  Not Graduate  Graduate\n",
       "Self_Employed            No        No       Yes            No        No\n",
       "ApplicantIncome        5849      4583      3000          2583      6000\n",
       "CoapplicantIncome       0.0    1508.0       0.0        2358.0       0.0\n",
       "LoanAmount              NaN     128.0      66.0         120.0     141.0\n",
       "Loan_Amount_Term      360.0     360.0     360.0         360.0     360.0\n",
       "Credit_History          1.0       1.0       1.0           1.0       1.0\n",
       "Property_Area         Urban     Rural     Urban         Urban     Urban\n",
       "Loan_Status               Y         N         Y             Y         Y"
      ]
     },
     "execution_count": 3,
     "metadata": {},
     "output_type": "execute_result"
    }
   ],
   "source": [
    "loans = loan.copy()\n",
    "loans.head().T"
   ]
  },
  {
   "cell_type": "code",
   "execution_count": 4,
   "id": "cc273b80",
   "metadata": {},
   "outputs": [
    {
     "data": {
      "text/plain": [
       "Index(['Loan_ID', 'Gender', 'Married', 'Dependents', 'Education',\n",
       "       'Self_Employed', 'ApplicantIncome', 'CoapplicantIncome', 'LoanAmount',\n",
       "       'Loan_Amount_Term', 'Credit_History', 'Property_Area', 'Loan_Status'],\n",
       "      dtype='object')"
      ]
     },
     "execution_count": 4,
     "metadata": {},
     "output_type": "execute_result"
    }
   ],
   "source": [
    "loan.columns\n"
   ]
  },
  {
   "cell_type": "code",
   "execution_count": 5,
   "id": "d3b58225",
   "metadata": {
    "scrolled": true
   },
   "outputs": [
    {
     "data": {
      "text/plain": [
       "(614, 13)"
      ]
     },
     "execution_count": 5,
     "metadata": {},
     "output_type": "execute_result"
    }
   ],
   "source": [
    "# shape of data\n",
    "loans.shape"
   ]
  },
  {
   "cell_type": "code",
   "execution_count": 6,
   "id": "06db549c",
   "metadata": {
    "scrolled": false
   },
   "outputs": [
    {
     "data": {
      "text/plain": [
       "Loan_ID               object\n",
       "Gender                object\n",
       "Married               object\n",
       "Dependents            object\n",
       "Education             object\n",
       "Self_Employed         object\n",
       "ApplicantIncome        int64\n",
       "CoapplicantIncome    float64\n",
       "LoanAmount           float64\n",
       "Loan_Amount_Term     float64\n",
       "Credit_History       float64\n",
       "Property_Area         object\n",
       "Loan_Status           object\n",
       "dtype: object"
      ]
     },
     "execution_count": 6,
     "metadata": {},
     "output_type": "execute_result"
    }
   ],
   "source": [
    "# columns type of Dataset\n",
    "loans.dtypes"
   ]
  },
  {
   "cell_type": "markdown",
   "id": "9ff13299",
   "metadata": {},
   "source": [
    "# 1.2)  Data Cleansing "
   ]
  },
  {
   "cell_type": "markdown",
   "id": "7578ead0",
   "metadata": {},
   "source": [
    "- ### Uniform columns name and  values "
   ]
  },
  {
   "cell_type": "code",
   "execution_count": 7,
   "id": "8b796e0e",
   "metadata": {
    "scrolled": true
   },
   "outputs": [
    {
     "data": {
      "text/plain": [
       "Index(['loan_id', 'gender', 'married', 'dependents', 'education',\n",
       "       'self_employed', 'applicantincome', 'coapplicantincome', 'loanamount',\n",
       "       'loan_amount_term', 'credit_history', 'property_area', 'loan_status'],\n",
       "      dtype='object')"
      ]
     },
     "execution_count": 7,
     "metadata": {},
     "output_type": "execute_result"
    }
   ],
   "source": [
    "# Uniform name of columns \n",
    "loans.columns = loans.columns.str.lower().str.replace(\" \",\"_\")\n",
    "loans.columns"
   ]
  },
  {
   "cell_type": "code",
   "execution_count": 8,
   "id": "48de0113",
   "metadata": {
    "scrolled": true
   },
   "outputs": [],
   "source": [
    "# String Columns  \n",
    "string_columns = list(loans.dtypes[loans.dtypes == 'object'].index)\n",
    "\n",
    "# drop Loan_ID from String columns\n",
    "string_columns = [\n",
    " 'gender',\n",
    " 'married',\n",
    " 'dependents',\n",
    " 'education',\n",
    " 'self_employed',\n",
    " 'property_area',\n",
    " 'loan_status']"
   ]
  },
  {
   "cell_type": "code",
   "execution_count": 9,
   "id": "f80db910",
   "metadata": {
    "scrolled": true
   },
   "outputs": [
    {
     "data": {
      "application/vnd.microsoft.datawrangler.viewer.v0+json": {
       "columns": [
        {
         "name": "index",
         "rawType": "int64",
         "type": "integer"
        },
        {
         "name": "loan_id",
         "rawType": "object",
         "type": "string"
        },
        {
         "name": "gender",
         "rawType": "object",
         "type": "string"
        },
        {
         "name": "married",
         "rawType": "object",
         "type": "string"
        },
        {
         "name": "dependents",
         "rawType": "object",
         "type": "string"
        },
        {
         "name": "education",
         "rawType": "object",
         "type": "string"
        },
        {
         "name": "self_employed",
         "rawType": "object",
         "type": "string"
        },
        {
         "name": "applicantincome",
         "rawType": "int64",
         "type": "integer"
        },
        {
         "name": "coapplicantincome",
         "rawType": "float64",
         "type": "float"
        },
        {
         "name": "loanamount",
         "rawType": "float64",
         "type": "float"
        },
        {
         "name": "loan_amount_term",
         "rawType": "float64",
         "type": "float"
        },
        {
         "name": "credit_history",
         "rawType": "float64",
         "type": "float"
        },
        {
         "name": "property_area",
         "rawType": "object",
         "type": "string"
        },
        {
         "name": "loan_status",
         "rawType": "object",
         "type": "string"
        }
       ],
       "conversionMethod": "pd.DataFrame",
       "ref": "aa2fa3b6-0ff0-4585-8ea9-a0639727abec",
       "rows": [
        [
         "0",
         "LP001002",
         "male",
         "no",
         "0",
         "graduate",
         "no",
         "5849",
         "0.0",
         null,
         "360.0",
         "1.0",
         "urban",
         "y"
        ],
        [
         "1",
         "LP001003",
         "male",
         "yes",
         "1",
         "graduate",
         "no",
         "4583",
         "1508.0",
         "128.0",
         "360.0",
         "1.0",
         "rural",
         "n"
        ],
        [
         "2",
         "LP001005",
         "male",
         "yes",
         "0",
         "graduate",
         "yes",
         "3000",
         "0.0",
         "66.0",
         "360.0",
         "1.0",
         "urban",
         "y"
        ],
        [
         "3",
         "LP001006",
         "male",
         "yes",
         "0",
         "not_graduate",
         "no",
         "2583",
         "2358.0",
         "120.0",
         "360.0",
         "1.0",
         "urban",
         "y"
        ],
        [
         "4",
         "LP001008",
         "male",
         "no",
         "0",
         "graduate",
         "no",
         "6000",
         "0.0",
         "141.0",
         "360.0",
         "1.0",
         "urban",
         "y"
        ]
       ],
       "shape": {
        "columns": 13,
        "rows": 5
       }
      },
      "text/html": [
       "<div>\n",
       "<style scoped>\n",
       "    .dataframe tbody tr th:only-of-type {\n",
       "        vertical-align: middle;\n",
       "    }\n",
       "\n",
       "    .dataframe tbody tr th {\n",
       "        vertical-align: top;\n",
       "    }\n",
       "\n",
       "    .dataframe thead th {\n",
       "        text-align: right;\n",
       "    }\n",
       "</style>\n",
       "<table border=\"1\" class=\"dataframe\">\n",
       "  <thead>\n",
       "    <tr style=\"text-align: right;\">\n",
       "      <th></th>\n",
       "      <th>loan_id</th>\n",
       "      <th>gender</th>\n",
       "      <th>married</th>\n",
       "      <th>dependents</th>\n",
       "      <th>education</th>\n",
       "      <th>self_employed</th>\n",
       "      <th>applicantincome</th>\n",
       "      <th>coapplicantincome</th>\n",
       "      <th>loanamount</th>\n",
       "      <th>loan_amount_term</th>\n",
       "      <th>credit_history</th>\n",
       "      <th>property_area</th>\n",
       "      <th>loan_status</th>\n",
       "    </tr>\n",
       "  </thead>\n",
       "  <tbody>\n",
       "    <tr>\n",
       "      <th>0</th>\n",
       "      <td>LP001002</td>\n",
       "      <td>male</td>\n",
       "      <td>no</td>\n",
       "      <td>0</td>\n",
       "      <td>graduate</td>\n",
       "      <td>no</td>\n",
       "      <td>5849</td>\n",
       "      <td>0.0</td>\n",
       "      <td>NaN</td>\n",
       "      <td>360.0</td>\n",
       "      <td>1.0</td>\n",
       "      <td>urban</td>\n",
       "      <td>y</td>\n",
       "    </tr>\n",
       "    <tr>\n",
       "      <th>1</th>\n",
       "      <td>LP001003</td>\n",
       "      <td>male</td>\n",
       "      <td>yes</td>\n",
       "      <td>1</td>\n",
       "      <td>graduate</td>\n",
       "      <td>no</td>\n",
       "      <td>4583</td>\n",
       "      <td>1508.0</td>\n",
       "      <td>128.0</td>\n",
       "      <td>360.0</td>\n",
       "      <td>1.0</td>\n",
       "      <td>rural</td>\n",
       "      <td>n</td>\n",
       "    </tr>\n",
       "    <tr>\n",
       "      <th>2</th>\n",
       "      <td>LP001005</td>\n",
       "      <td>male</td>\n",
       "      <td>yes</td>\n",
       "      <td>0</td>\n",
       "      <td>graduate</td>\n",
       "      <td>yes</td>\n",
       "      <td>3000</td>\n",
       "      <td>0.0</td>\n",
       "      <td>66.0</td>\n",
       "      <td>360.0</td>\n",
       "      <td>1.0</td>\n",
       "      <td>urban</td>\n",
       "      <td>y</td>\n",
       "    </tr>\n",
       "    <tr>\n",
       "      <th>3</th>\n",
       "      <td>LP001006</td>\n",
       "      <td>male</td>\n",
       "      <td>yes</td>\n",
       "      <td>0</td>\n",
       "      <td>not_graduate</td>\n",
       "      <td>no</td>\n",
       "      <td>2583</td>\n",
       "      <td>2358.0</td>\n",
       "      <td>120.0</td>\n",
       "      <td>360.0</td>\n",
       "      <td>1.0</td>\n",
       "      <td>urban</td>\n",
       "      <td>y</td>\n",
       "    </tr>\n",
       "    <tr>\n",
       "      <th>4</th>\n",
       "      <td>LP001008</td>\n",
       "      <td>male</td>\n",
       "      <td>no</td>\n",
       "      <td>0</td>\n",
       "      <td>graduate</td>\n",
       "      <td>no</td>\n",
       "      <td>6000</td>\n",
       "      <td>0.0</td>\n",
       "      <td>141.0</td>\n",
       "      <td>360.0</td>\n",
       "      <td>1.0</td>\n",
       "      <td>urban</td>\n",
       "      <td>y</td>\n",
       "    </tr>\n",
       "  </tbody>\n",
       "</table>\n",
       "</div>"
      ],
      "text/plain": [
       "    loan_id gender married dependents     education self_employed  \\\n",
       "0  LP001002   male      no          0      graduate            no   \n",
       "1  LP001003   male     yes          1      graduate            no   \n",
       "2  LP001005   male     yes          0      graduate           yes   \n",
       "3  LP001006   male     yes          0  not_graduate            no   \n",
       "4  LP001008   male      no          0      graduate            no   \n",
       "\n",
       "   applicantincome  coapplicantincome  loanamount  loan_amount_term  \\\n",
       "0             5849                0.0         NaN             360.0   \n",
       "1             4583             1508.0       128.0             360.0   \n",
       "2             3000                0.0        66.0             360.0   \n",
       "3             2583             2358.0       120.0             360.0   \n",
       "4             6000                0.0       141.0             360.0   \n",
       "\n",
       "   credit_history property_area loan_status  \n",
       "0             1.0         urban           y  \n",
       "1             1.0         rural           n  \n",
       "2             1.0         urban           y  \n",
       "3             1.0         urban           y  \n",
       "4             1.0         urban           y  "
      ]
     },
     "metadata": {},
     "output_type": "display_data"
    }
   ],
   "source": [
    "# Uniform Values of Dataset \n",
    "for col in string_columns:\n",
    "    loans[col] = loans[col].str.lower().str.replace(\" \",\"_\")\n",
    "display(loans.head())"
   ]
  },
  {
   "cell_type": "code",
   "execution_count": 10,
   "id": "4edbbbb8",
   "metadata": {
    "scrolled": false
   },
   "outputs": [
    {
     "name": "stdout",
     "output_type": "stream",
     "text": [
      "Name of column: gender\n",
      "unique values : 2\n",
      "['male' 'female' nan]\n",
      "\n",
      "Name of column: married\n",
      "unique values : 2\n",
      "['no' 'yes' nan]\n",
      "\n",
      "Name of column: dependents\n",
      "unique values : 4\n",
      "['0' '1' '2' '3+' nan]\n",
      "\n",
      "Name of column: education\n",
      "unique values : 2\n",
      "['graduate' 'not_graduate']\n",
      "\n",
      "Name of column: self_employed\n",
      "unique values : 2\n",
      "['no' 'yes' nan]\n",
      "\n",
      "Name of column: property_area\n",
      "unique values : 3\n",
      "['urban' 'rural' 'semiurban']\n",
      "\n",
      "Name of column: loan_status\n",
      "unique values : 2\n",
      "['y' 'n']\n",
      "\n"
     ]
    }
   ],
   "source": [
    "# check unique values to spot abnormal values\n",
    "\n",
    "for i in string_columns:\n",
    "    print(f'Name of column: {i}')\n",
    "    print(f'unique values : {loans[i].nunique()}')\n",
    "    print(f'{loans[i].unique()}\\n')"
   ]
  },
  {
   "cell_type": "markdown",
   "id": "d287dddc",
   "metadata": {},
   "source": [
    "# 1.2.2) Dealing with outliers"
   ]
  },
  {
   "cell_type": "code",
   "execution_count": 11,
   "id": "0bcf032b",
   "metadata": {
    "scrolled": true
   },
   "outputs": [],
   "source": [
    "# Replacing abnormal value of dependents column\n",
    "loans.dependents = loans.dependents.replace('3+',4)"
   ]
  },
  {
   "cell_type": "markdown",
   "id": "592b3604",
   "metadata": {},
   "source": [
    "# 1.2.3) Data Casting "
   ]
  },
  {
   "cell_type": "code",
   "execution_count": 12,
   "id": "132b6a49",
   "metadata": {
    "scrolled": true
   },
   "outputs": [],
   "source": [
    "# columns casting from object to numeric  \n",
    "loans.dependents = pd.to_numeric(loans.dependents)\n",
    "loans.loan_status = ((loans.loan_status == 'y').astype(int))\n"
   ]
  },
  {
   "cell_type": "code",
   "execution_count": 14,
   "id": "6a29777a",
   "metadata": {},
   "outputs": [
    {
     "data": {
      "text/plain": [
       "loan_status\n",
       "1    422\n",
       "0    192\n",
       "Name: count, dtype: int64"
      ]
     },
     "execution_count": 14,
     "metadata": {},
     "output_type": "execute_result"
    }
   ],
   "source": [
    "loans.loan_status.value_counts()"
   ]
  },
  {
   "cell_type": "code",
   "execution_count": 15,
   "id": "c43c3684",
   "metadata": {
    "scrolled": true
   },
   "outputs": [
    {
     "data": {
      "text/plain": [
       "loan_id               object\n",
       "gender                object\n",
       "married               object\n",
       "dependents           float64\n",
       "education             object\n",
       "self_employed         object\n",
       "applicantincome        int64\n",
       "coapplicantincome    float64\n",
       "loanamount           float64\n",
       "loan_amount_term     float64\n",
       "credit_history       float64\n",
       "property_area         object\n",
       "loan_status            int32\n",
       "dtype: object"
      ]
     },
     "execution_count": 15,
     "metadata": {},
     "output_type": "execute_result"
    }
   ],
   "source": [
    "# data types\n",
    "loans.dtypes"
   ]
  },
  {
   "cell_type": "markdown",
   "id": "19a55c18",
   "metadata": {},
   "source": [
    "# 1.2.4) Dealing with missing values"
   ]
  },
  {
   "cell_type": "code",
   "execution_count": 19,
   "id": "a19a12f5",
   "metadata": {
    "scrolled": true
   },
   "outputs": [
    {
     "name": "stdout",
     "output_type": "stream",
     "text": [
      "loan_id              0\n",
      "gender               0\n",
      "married              0\n",
      "dependents           0\n",
      "education            0\n",
      "self_employed        0\n",
      "applicantincome      0\n",
      "coapplicantincome    0\n",
      "loanamount           0\n",
      "loan_amount_term     0\n",
      "credit_history       0\n",
      "property_area        0\n",
      "loan_status          0\n",
      "dtype: int64\n"
     ]
    }
   ],
   "source": [
    "# check the missing values per each columns \n",
    "print(loans.isnull().sum())\n"
   ]
  },
  {
   "cell_type": "code",
   "execution_count": 17,
   "id": "12c56560",
   "metadata": {
    "scrolled": false
   },
   "outputs": [
    {
     "name": "stderr",
     "output_type": "stream",
     "text": [
      "C:\\Users\\kanch\\AppData\\Local\\Temp\\ipykernel_2888\\2277635878.py:9: FutureWarning: A value is trying to be set on a copy of a DataFrame or Series through chained assignment using an inplace method.\n",
      "The behavior will change in pandas 3.0. This inplace method will never work because the intermediate object on which we are setting values always behaves as a copy.\n",
      "\n",
      "For example, when doing 'df[col].method(value, inplace=True)', try using 'df.method({col: value}, inplace=True)' or df[col] = df[col].method(value) instead, to perform the operation inplace on the original object.\n",
      "\n",
      "\n",
      "  loans[col].fillna(loans[col].mode().iloc[0], inplace =True)\n",
      "C:\\Users\\kanch\\AppData\\Local\\Temp\\ipykernel_2888\\2277635878.py:9: FutureWarning: A value is trying to be set on a copy of a DataFrame or Series through chained assignment using an inplace method.\n",
      "The behavior will change in pandas 3.0. This inplace method will never work because the intermediate object on which we are setting values always behaves as a copy.\n",
      "\n",
      "For example, when doing 'df[col].method(value, inplace=True)', try using 'df.method({col: value}, inplace=True)' or df[col] = df[col].method(value) instead, to perform the operation inplace on the original object.\n",
      "\n",
      "\n",
      "  loans[col].fillna(loans[col].mode().iloc[0], inplace =True)\n",
      "C:\\Users\\kanch\\AppData\\Local\\Temp\\ipykernel_2888\\2277635878.py:13: FutureWarning: A value is trying to be set on a copy of a DataFrame or Series through chained assignment using an inplace method.\n",
      "The behavior will change in pandas 3.0. This inplace method will never work because the intermediate object on which we are setting values always behaves as a copy.\n",
      "\n",
      "For example, when doing 'df[col].method(value, inplace=True)', try using 'df.method({col: value}, inplace=True)' or df[col] = df[col].method(value) instead, to perform the operation inplace on the original object.\n",
      "\n",
      "\n",
      "  loans[col].fillna(loans[col].mean(), inplace=True)\n"
     ]
    }
   ],
   "source": [
    "# Define Categorical and numerical columns that contains missing values\n",
    "categorical = ['gender', 'married','dependents','education',\n",
    "       'self_employed','credit_history', 'property_area','loan_status']\n",
    "\n",
    "numerical = ['applicantincome', 'coapplicantincome', 'loanamount','loan_amount_term']\n",
    "\n",
    "# Filing missing values for categorical data\n",
    "for col in categorical:\n",
    "    loans[col].fillna(loans[col].mode().iloc[0], inplace =True)\n",
    "    \n",
    "# Filing missing values for numerical data\n",
    "for col in numerical:\n",
    "    loans[col].fillna(loans[col].mean(), inplace=True)"
   ]
  },
  {
   "cell_type": "code",
   "execution_count": 13,
   "id": "14656d94",
   "metadata": {
    "scrolled": false
   },
   "outputs": [
    {
     "data": {
      "text/plain": [
       "loan_id               0\n",
       "gender               13\n",
       "married               3\n",
       "dependents           15\n",
       "education             0\n",
       "self_employed        32\n",
       "applicantincome       0\n",
       "coapplicantincome     0\n",
       "loanamount           22\n",
       "loan_amount_term     14\n",
       "credit_history       50\n",
       "property_area         0\n",
       "loan_status           0\n",
       "dtype: int64"
      ]
     },
     "execution_count": 13,
     "metadata": {},
     "output_type": "execute_result"
    }
   ],
   "source": [
    "# No missing values now \n",
    "loans.isnull().sum()"
   ]
  },
  {
   "cell_type": "markdown",
   "id": "9d319a4d",
   "metadata": {},
   "source": [
    "# Explotary Data Analysis"
   ]
  },
  {
   "cell_type": "code",
   "execution_count": 14,
   "id": "85c79a20",
   "metadata": {
    "scrolled": true
   },
   "outputs": [
    {
     "data": {
      "text/plain": [
       "loan_status\n",
       "1    0.687296\n",
       "0    0.312704\n",
       "Name: proportion, dtype: float64"
      ]
     },
     "execution_count": 14,
     "metadata": {},
     "output_type": "execute_result"
    }
   ],
   "source": [
    "loans.loan_status.value_counts(normalize=True)"
   ]
  },
  {
   "cell_type": "code",
   "execution_count": 15,
   "id": "876bccc9",
   "metadata": {},
   "outputs": [
    {
     "data": {
      "image/png": "[encoded data removed]",
      "text/plain": [
       "<Figure size 640x480 with 1 Axes>"
      ]
     },
     "metadata": {},
     "output_type": "display_data"
    }
   ],
   "source": [
    "import matplotlib.pyplot as plt\n",
    "\n",
    "# Data for the pie chart\n",
    "labels = ['Approved (Y)', 'Not Approved (N)']\n",
    "sizes = [68.73, 31.27]\n",
    "colors = ['#66b3ff', '#ff9999']\n",
    "explode = (0.1, 0)  # Explode the first slice\n",
    "\n",
    "# Create the pie chart\n",
    "plt.pie(sizes, explode=explode, labels=labels, colors=colors, autopct='%1.1f%%',\n",
    "        startangle=90)\n",
    "\n",
    "# Add a title\n",
    "plt.title('Loan Status Distribution')\n",
    "\n",
    "# Equal aspect ratio ensures that pie is drawn as a circle\n",
    "plt.axis('equal')\n",
    "\n",
    "# Display the chart\n",
    "plt.show()\n"
   ]
  },
  {
   "cell_type": "markdown",
   "id": "097d20c7",
   "metadata": {},
   "source": [
    "- The dataset contains two categories for loan_status: 1 and 0.\n",
    "- The value count shows that approximately 68.73% of the loans in the dataset have a loan_status of 1, indicating approved loans, while approximately 31.27% have a loan_status of 0, indicating not approved loans."
   ]
  },
  {
   "cell_type": "markdown",
   "id": "c9a47f2d",
   "metadata": {},
   "source": [
    "# 2) Feature Importance "
   ]
  },
  {
   "cell_type": "code",
   "execution_count": 17,
   "id": "964a1fd7",
   "metadata": {
    "scrolled": false
   },
   "outputs": [
    {
     "name": "stdout",
     "output_type": "stream",
     "text": [
      "gender == female: 0.67\n",
      "gender == male: 0.693\n"
     ]
    }
   ],
   "source": [
    "female_yes = loans[loans.gender == 'female'].loan_status.mean()\n",
    "print('gender == female:', round(female_yes, 3))\n",
    "\n",
    "male_yes = loans[loans.gender == 'male'].loan_status.mean()\n",
    "print('gender == male:', round(male_yes, 3))"
   ]
  },
  {
   "cell_type": "markdown",
   "id": "7ed9f833",
   "metadata": {},
   "source": [
    "### Risk ratio"
   ]
  },
  {
   "cell_type": "code",
   "execution_count": 19,
   "id": "512c391e",
   "metadata": {
    "scrolled": true
   },
   "outputs": [
    {
     "data": {
      "text/plain": [
       "0.6872964169381107"
      ]
     },
     "execution_count": 19,
     "metadata": {},
     "output_type": "execute_result"
    }
   ],
   "source": [
    "global_mean = loans.loan_status.mean()\n",
    "global_mean"
   ]
  },
  {
   "cell_type": "code",
   "execution_count": 21,
   "id": "b0c36be7",
   "metadata": {
    "scrolled": false
   },
   "outputs": [
    {
     "data": {
      "text/plain": [
       "credit_history    2\n",
       "property_area     3\n",
       "married           2\n",
       "education         2\n",
       "dependents        4\n",
       "gender            2\n",
       "self_employed     2\n",
       "dtype: int64"
      ]
     },
     "execution_count": 21,
     "metadata": {},
     "output_type": "execute_result"
    }
   ],
   "source": [
    "# preparing categorical and numberical data for analysis\n",
    "categorical_cols = ['credit_history', 'property_area', 'married', 'education', 'dependents',\n",
    "       'gender', 'self_employed']\n",
    "numerical_cols = ['applicantincome', 'coapplicantincome', 'loanamount','loan_amount_term']\n",
    "# number of unique values per categorical datasset\n",
    "loans[categorical_cols].nunique()"
   ]
  },
  {
   "cell_type": "markdown",
   "id": "0234026c",
   "metadata": {},
   "source": [
    "# 2.1) Feature importance: Status rate and risk ratio "
   ]
  },
  {
   "cell_type": "code",
   "execution_count": 22,
   "id": "ff2899ad",
   "metadata": {
    "scrolled": true
   },
   "outputs": [],
   "source": [
    "# import IPthon library to display \n",
    "from IPython.display import display"
   ]
  },
  {
   "cell_type": "code",
   "execution_count": 23,
   "id": "18717106",
   "metadata": {
    "scrolled": false
   },
   "outputs": [
    {
     "data": {
      "application/vnd.microsoft.datawrangler.viewer.v0+json": {
       "columns": [
        {
         "name": "credit_history",
         "rawType": "float64",
         "type": "float"
        },
        {
         "name": "mean",
         "rawType": "float64",
         "type": "float"
        },
        {
         "name": "count",
         "rawType": "int64",
         "type": "integer"
        },
        {
         "name": "diff",
         "rawType": "float64",
         "type": "float"
        },
        {
         "name": "risk",
         "rawType": "float64",
         "type": "float"
        }
       ],
       "conversionMethod": "pd.DataFrame",
       "ref": "27af76b8-d30c-45eb-8bd4-6c5a881fd7ff",
       "rows": [
        [
         "0.0",
         "0.07865168539325842",
         "89",
         "-0.6086447315448523",
         "0.11443633846317695"
        ],
        [
         "1.0",
         "0.7957894736842105",
         "475",
         "0.10849305674609977",
         "1.15785482664006"
        ]
       ],
       "shape": {
        "columns": 4,
        "rows": 2
       }
      },
      "text/html": [
       "<div>\n",
       "<style scoped>\n",
       "    .dataframe tbody tr th:only-of-type {\n",
       "        vertical-align: middle;\n",
       "    }\n",
       "\n",
       "    .dataframe tbody tr th {\n",
       "        vertical-align: top;\n",
       "    }\n",
       "\n",
       "    .dataframe thead th {\n",
       "        text-align: right;\n",
       "    }\n",
       "</style>\n",
       "<table border=\"1\" class=\"dataframe\">\n",
       "  <thead>\n",
       "    <tr style=\"text-align: right;\">\n",
       "      <th></th>\n",
       "      <th>mean</th>\n",
       "      <th>count</th>\n",
       "      <th>diff</th>\n",
       "      <th>risk</th>\n",
       "    </tr>\n",
       "    <tr>\n",
       "      <th>credit_history</th>\n",
       "      <th></th>\n",
       "      <th></th>\n",
       "      <th></th>\n",
       "      <th></th>\n",
       "    </tr>\n",
       "  </thead>\n",
       "  <tbody>\n",
       "    <tr>\n",
       "      <th>0.0</th>\n",
       "      <td>0.078652</td>\n",
       "      <td>89</td>\n",
       "      <td>-0.608645</td>\n",
       "      <td>0.114436</td>\n",
       "    </tr>\n",
       "    <tr>\n",
       "      <th>1.0</th>\n",
       "      <td>0.795789</td>\n",
       "      <td>475</td>\n",
       "      <td>0.108493</td>\n",
       "      <td>1.157855</td>\n",
       "    </tr>\n",
       "  </tbody>\n",
       "</table>\n",
       "</div>"
      ],
      "text/plain": [
       "                    mean  count      diff      risk\n",
       "credit_history                                     \n",
       "0.0             0.078652     89 -0.608645  0.114436\n",
       "1.0             0.795789    475  0.108493  1.157855"
      ]
     },
     "metadata": {},
     "output_type": "display_data"
    },
    {
     "data": {
      "application/vnd.microsoft.datawrangler.viewer.v0+json": {
       "columns": [
        {
         "name": "property_area",
         "rawType": "object",
         "type": "string"
        },
        {
         "name": "mean",
         "rawType": "float64",
         "type": "float"
        },
        {
         "name": "count",
         "rawType": "int64",
         "type": "integer"
        },
        {
         "name": "diff",
         "rawType": "float64",
         "type": "float"
        },
        {
         "name": "risk",
         "rawType": "float64",
         "type": "float"
        }
       ],
       "conversionMethod": "pd.DataFrame",
       "ref": "386c373d-74cc-4ac3-86ab-f945bcacca5a",
       "rows": [
        [
         "rural",
         "0.6145251396648045",
         "179",
         "-0.07277127727330623",
         "0.8941195160051895"
        ],
        [
         "semiurban",
         "0.7682403433476395",
         "233",
         "0.08094392640952874",
         "1.1177714948233428"
        ],
        [
         "urban",
         "0.6584158415841584",
         "202",
         "-0.028880575353952276",
         "0.957979447233823"
        ]
       ],
       "shape": {
        "columns": 4,
        "rows": 3
       }
      },
      "text/html": [
       "<div>\n",
       "<style scoped>\n",
       "    .dataframe tbody tr th:only-of-type {\n",
       "        vertical-align: middle;\n",
       "    }\n",
       "\n",
       "    .dataframe tbody tr th {\n",
       "        vertical-align: top;\n",
       "    }\n",
       "\n",
       "    .dataframe thead th {\n",
       "        text-align: right;\n",
       "    }\n",
       "</style>\n",
       "<table border=\"1\" class=\"dataframe\">\n",
       "  <thead>\n",
       "    <tr style=\"text-align: right;\">\n",
       "      <th></th>\n",
       "      <th>mean</th>\n",
       "      <th>count</th>\n",
       "      <th>diff</th>\n",
       "      <th>risk</th>\n",
       "    </tr>\n",
       "    <tr>\n",
       "      <th>property_area</th>\n",
       "      <th></th>\n",
       "      <th></th>\n",
       "      <th></th>\n",
       "      <th></th>\n",
       "    </tr>\n",
       "  </thead>\n",
       "  <tbody>\n",
       "    <tr>\n",
       "      <th>rural</th>\n",
       "      <td>0.614525</td>\n",
       "      <td>179</td>\n",
       "      <td>-0.072771</td>\n",
       "      <td>0.894120</td>\n",
       "    </tr>\n",
       "    <tr>\n",
       "      <th>semiurban</th>\n",
       "      <td>0.768240</td>\n",
       "      <td>233</td>\n",
       "      <td>0.080944</td>\n",
       "      <td>1.117771</td>\n",
       "    </tr>\n",
       "    <tr>\n",
       "      <th>urban</th>\n",
       "      <td>0.658416</td>\n",
       "      <td>202</td>\n",
       "      <td>-0.028881</td>\n",
       "      <td>0.957979</td>\n",
       "    </tr>\n",
       "  </tbody>\n",
       "</table>\n",
       "</div>"
      ],
      "text/plain": [
       "                   mean  count      diff      risk\n",
       "property_area                                     \n",
       "rural          0.614525    179 -0.072771  0.894120\n",
       "semiurban      0.768240    233  0.080944  1.117771\n",
       "urban          0.658416    202 -0.028881  0.957979"
      ]
     },
     "metadata": {},
     "output_type": "display_data"
    },
    {
     "data": {
      "application/vnd.microsoft.datawrangler.viewer.v0+json": {
       "columns": [
        {
         "name": "married",
         "rawType": "object",
         "type": "string"
        },
        {
         "name": "mean",
         "rawType": "float64",
         "type": "float"
        },
        {
         "name": "count",
         "rawType": "int64",
         "type": "integer"
        },
        {
         "name": "diff",
         "rawType": "float64",
         "type": "float"
        },
        {
         "name": "risk",
         "rawType": "float64",
         "type": "float"
        }
       ],
       "conversionMethod": "pd.DataFrame",
       "ref": "f5f50b3f-f8a5-4ce5-aa2d-c33ed6af3534",
       "rows": [
        [
         "no",
         "0.6291079812206573",
         "213",
         "-0.05818843571745347",
         "0.9153372049039895"
        ],
        [
         "yes",
         "0.7160804020100503",
         "398",
         "0.028783985071939577",
         "1.0418800161947177"
        ]
       ],
       "shape": {
        "columns": 4,
        "rows": 2
       }
      },
      "text/html": [
       "<div>\n",
       "<style scoped>\n",
       "    .dataframe tbody tr th:only-of-type {\n",
       "        vertical-align: middle;\n",
       "    }\n",
       "\n",
       "    .dataframe tbody tr th {\n",
       "        vertical-align: top;\n",
       "    }\n",
       "\n",
       "    .dataframe thead th {\n",
       "        text-align: right;\n",
       "    }\n",
       "</style>\n",
       "<table border=\"1\" class=\"dataframe\">\n",
       "  <thead>\n",
       "    <tr style=\"text-align: right;\">\n",
       "      <th></th>\n",
       "      <th>mean</th>\n",
       "      <th>count</th>\n",
       "      <th>diff</th>\n",
       "      <th>risk</th>\n",
       "    </tr>\n",
       "    <tr>\n",
       "      <th>married</th>\n",
       "      <th></th>\n",
       "      <th></th>\n",
       "      <th></th>\n",
       "      <th></th>\n",
       "    </tr>\n",
       "  </thead>\n",
       "  <tbody>\n",
       "    <tr>\n",
       "      <th>no</th>\n",
       "      <td>0.629108</td>\n",
       "      <td>213</td>\n",
       "      <td>-0.058188</td>\n",
       "      <td>0.915337</td>\n",
       "    </tr>\n",
       "    <tr>\n",
       "      <th>yes</th>\n",
       "      <td>0.716080</td>\n",
       "      <td>398</td>\n",
       "      <td>0.028784</td>\n",
       "      <td>1.041880</td>\n",
       "    </tr>\n",
       "  </tbody>\n",
       "</table>\n",
       "</div>"
      ],
      "text/plain": [
       "             mean  count      diff      risk\n",
       "married                                     \n",
       "no       0.629108    213 -0.058188  0.915337\n",
       "yes      0.716080    398  0.028784  1.041880"
      ]
     },
     "metadata": {},
     "output_type": "display_data"
    },
    {
     "data": {
      "application/vnd.microsoft.datawrangler.viewer.v0+json": {
       "columns": [
        {
         "name": "education",
         "rawType": "object",
         "type": "string"
        },
        {
         "name": "mean",
         "rawType": "float64",
         "type": "float"
        },
        {
         "name": "count",
         "rawType": "int64",
         "type": "integer"
        },
        {
         "name": "diff",
         "rawType": "float64",
         "type": "float"
        },
        {
         "name": "risk",
         "rawType": "float64",
         "type": "float"
        }
       ],
       "conversionMethod": "pd.DataFrame",
       "ref": "be41122a-80ce-4232-a6e3-93e425e87b3b",
       "rows": [
        [
         "graduate",
         "0.7083333333333334",
         "480",
         "0.02103691639522265",
         "1.0306082148499212"
        ],
        [
         "not_graduate",
         "0.6119402985074627",
         "134",
         "-0.07535611843064804",
         "0.8903586333734173"
        ]
       ],
       "shape": {
        "columns": 4,
        "rows": 2
       }
      },
      "text/html": [
       "<div>\n",
       "<style scoped>\n",
       "    .dataframe tbody tr th:only-of-type {\n",
       "        vertical-align: middle;\n",
       "    }\n",
       "\n",
       "    .dataframe tbody tr th {\n",
       "        vertical-align: top;\n",
       "    }\n",
       "\n",
       "    .dataframe thead th {\n",
       "        text-align: right;\n",
       "    }\n",
       "</style>\n",
       "<table border=\"1\" class=\"dataframe\">\n",
       "  <thead>\n",
       "    <tr style=\"text-align: right;\">\n",
       "      <th></th>\n",
       "      <th>mean</th>\n",
       "      <th>count</th>\n",
       "      <th>diff</th>\n",
       "      <th>risk</th>\n",
       "    </tr>\n",
       "    <tr>\n",
       "      <th>education</th>\n",
       "      <th></th>\n",
       "      <th></th>\n",
       "      <th></th>\n",
       "      <th></th>\n",
       "    </tr>\n",
       "  </thead>\n",
       "  <tbody>\n",
       "    <tr>\n",
       "      <th>graduate</th>\n",
       "      <td>0.708333</td>\n",
       "      <td>480</td>\n",
       "      <td>0.021037</td>\n",
       "      <td>1.030608</td>\n",
       "    </tr>\n",
       "    <tr>\n",
       "      <th>not_graduate</th>\n",
       "      <td>0.611940</td>\n",
       "      <td>134</td>\n",
       "      <td>-0.075356</td>\n",
       "      <td>0.890359</td>\n",
       "    </tr>\n",
       "  </tbody>\n",
       "</table>\n",
       "</div>"
      ],
      "text/plain": [
       "                  mean  count      diff      risk\n",
       "education                                        \n",
       "graduate      0.708333    480  0.021037  1.030608\n",
       "not_graduate  0.611940    134 -0.075356  0.890359"
      ]
     },
     "metadata": {},
     "output_type": "display_data"
    },
    {
     "data": {
      "application/vnd.microsoft.datawrangler.viewer.v0+json": {
       "columns": [
        {
         "name": "dependents",
         "rawType": "float64",
         "type": "float"
        },
        {
         "name": "mean",
         "rawType": "float64",
         "type": "float"
        },
        {
         "name": "count",
         "rawType": "int64",
         "type": "integer"
        },
        {
         "name": "diff",
         "rawType": "float64",
         "type": "float"
        },
        {
         "name": "risk",
         "rawType": "float64",
         "type": "float"
        }
       ],
       "conversionMethod": "pd.DataFrame",
       "ref": "a00833e7-2f33-4c78-8698-21cfed96ae9d",
       "rows": [
        [
         "0.0",
         "0.6898550724637681",
         "345",
         "0.0025586555256573718",
         "1.0037227831581839"
        ],
        [
         "1.0",
         "0.6470588235294118",
         "102",
         "-0.040237593408698924",
         "0.9414552550878172"
        ],
        [
         "2.0",
         "0.7524752475247525",
         "101",
         "0.06517883058664176",
         "1.094833653981512"
        ],
        [
         "4.0",
         "0.6470588235294118",
         "51",
         "-0.040237593408698924",
         "0.9414552550878172"
        ]
       ],
       "shape": {
        "columns": 4,
        "rows": 4
       }
      },
      "text/html": [
       "<div>\n",
       "<style scoped>\n",
       "    .dataframe tbody tr th:only-of-type {\n",
       "        vertical-align: middle;\n",
       "    }\n",
       "\n",
       "    .dataframe tbody tr th {\n",
       "        vertical-align: top;\n",
       "    }\n",
       "\n",
       "    .dataframe thead th {\n",
       "        text-align: right;\n",
       "    }\n",
       "</style>\n",
       "<table border=\"1\" class=\"dataframe\">\n",
       "  <thead>\n",
       "    <tr style=\"text-align: right;\">\n",
       "      <th></th>\n",
       "      <th>mean</th>\n",
       "      <th>count</th>\n",
       "      <th>diff</th>\n",
       "      <th>risk</th>\n",
       "    </tr>\n",
       "    <tr>\n",
       "      <th>dependents</th>\n",
       "      <th></th>\n",
       "      <th></th>\n",
       "      <th></th>\n",
       "      <th></th>\n",
       "    </tr>\n",
       "  </thead>\n",
       "  <tbody>\n",
       "    <tr>\n",
       "      <th>0.0</th>\n",
       "      <td>0.689855</td>\n",
       "      <td>345</td>\n",
       "      <td>0.002559</td>\n",
       "      <td>1.003723</td>\n",
       "    </tr>\n",
       "    <tr>\n",
       "      <th>1.0</th>\n",
       "      <td>0.647059</td>\n",
       "      <td>102</td>\n",
       "      <td>-0.040238</td>\n",
       "      <td>0.941455</td>\n",
       "    </tr>\n",
       "    <tr>\n",
       "      <th>2.0</th>\n",
       "      <td>0.752475</td>\n",
       "      <td>101</td>\n",
       "      <td>0.065179</td>\n",
       "      <td>1.094834</td>\n",
       "    </tr>\n",
       "    <tr>\n",
       "      <th>4.0</th>\n",
       "      <td>0.647059</td>\n",
       "      <td>51</td>\n",
       "      <td>-0.040238</td>\n",
       "      <td>0.941455</td>\n",
       "    </tr>\n",
       "  </tbody>\n",
       "</table>\n",
       "</div>"
      ],
      "text/plain": [
       "                mean  count      diff      risk\n",
       "dependents                                     \n",
       "0.0         0.689855    345  0.002559  1.003723\n",
       "1.0         0.647059    102 -0.040238  0.941455\n",
       "2.0         0.752475    101  0.065179  1.094834\n",
       "4.0         0.647059     51 -0.040238  0.941455"
      ]
     },
     "metadata": {},
     "output_type": "display_data"
    },
    {
     "data": {
      "application/vnd.microsoft.datawrangler.viewer.v0+json": {
       "columns": [
        {
         "name": "gender",
         "rawType": "object",
         "type": "string"
        },
        {
         "name": "mean",
         "rawType": "float64",
         "type": "float"
        },
        {
         "name": "count",
         "rawType": "int64",
         "type": "integer"
        },
        {
         "name": "diff",
         "rawType": "float64",
         "type": "float"
        },
        {
         "name": "risk",
         "rawType": "float64",
         "type": "float"
        }
       ],
       "conversionMethod": "pd.DataFrame",
       "ref": "f1eb0dd4-ea95-4573-ab20-8eed63fe2aad",
       "rows": [
        [
         "female",
         "0.6696428571428571",
         "112",
         "-0.017653559795253626",
         "0.9743144888287069"
        ],
        [
         "male",
         "0.6932515337423313",
         "489",
         "0.0059551168042205616",
         "1.008664553833629"
        ]
       ],
       "shape": {
        "columns": 4,
        "rows": 2
       }
      },
      "text/html": [
       "<div>\n",
       "<style scoped>\n",
       "    .dataframe tbody tr th:only-of-type {\n",
       "        vertical-align: middle;\n",
       "    }\n",
       "\n",
       "    .dataframe tbody tr th {\n",
       "        vertical-align: top;\n",
       "    }\n",
       "\n",
       "    .dataframe thead th {\n",
       "        text-align: right;\n",
       "    }\n",
       "</style>\n",
       "<table border=\"1\" class=\"dataframe\">\n",
       "  <thead>\n",
       "    <tr style=\"text-align: right;\">\n",
       "      <th></th>\n",
       "      <th>mean</th>\n",
       "      <th>count</th>\n",
       "      <th>diff</th>\n",
       "      <th>risk</th>\n",
       "    </tr>\n",
       "    <tr>\n",
       "      <th>gender</th>\n",
       "      <th></th>\n",
       "      <th></th>\n",
       "      <th></th>\n",
       "      <th></th>\n",
       "    </tr>\n",
       "  </thead>\n",
       "  <tbody>\n",
       "    <tr>\n",
       "      <th>female</th>\n",
       "      <td>0.669643</td>\n",
       "      <td>112</td>\n",
       "      <td>-0.017654</td>\n",
       "      <td>0.974314</td>\n",
       "    </tr>\n",
       "    <tr>\n",
       "      <th>male</th>\n",
       "      <td>0.693252</td>\n",
       "      <td>489</td>\n",
       "      <td>0.005955</td>\n",
       "      <td>1.008665</td>\n",
       "    </tr>\n",
       "  </tbody>\n",
       "</table>\n",
       "</div>"
      ],
      "text/plain": [
       "            mean  count      diff      risk\n",
       "gender                                     \n",
       "female  0.669643    112 -0.017654  0.974314\n",
       "male    0.693252    489  0.005955  1.008665"
      ]
     },
     "metadata": {},
     "output_type": "display_data"
    },
    {
     "data": {
      "application/vnd.microsoft.datawrangler.viewer.v0+json": {
       "columns": [
        {
         "name": "self_employed",
         "rawType": "object",
         "type": "string"
        },
        {
         "name": "mean",
         "rawType": "float64",
         "type": "float"
        },
        {
         "name": "count",
         "rawType": "int64",
         "type": "integer"
        },
        {
         "name": "diff",
         "rawType": "float64",
         "type": "float"
        },
        {
         "name": "risk",
         "rawType": "float64",
         "type": "float"
        }
       ],
       "conversionMethod": "pd.DataFrame",
       "ref": "0aad22a9-2e48-4154-bde5-10dc1430e9c4",
       "rows": [
        [
         "no",
         "0.686",
         "500",
         "-0.0012964169381106672",
         "0.9981137440758295"
        ],
        [
         "yes",
         "0.6829268292682927",
         "82",
         "-0.004369587669817987",
         "0.9936423534851463"
        ]
       ],
       "shape": {
        "columns": 4,
        "rows": 2
       }
      },
      "text/html": [
       "<div>\n",
       "<style scoped>\n",
       "    .dataframe tbody tr th:only-of-type {\n",
       "        vertical-align: middle;\n",
       "    }\n",
       "\n",
       "    .dataframe tbody tr th {\n",
       "        vertical-align: top;\n",
       "    }\n",
       "\n",
       "    .dataframe thead th {\n",
       "        text-align: right;\n",
       "    }\n",
       "</style>\n",
       "<table border=\"1\" class=\"dataframe\">\n",
       "  <thead>\n",
       "    <tr style=\"text-align: right;\">\n",
       "      <th></th>\n",
       "      <th>mean</th>\n",
       "      <th>count</th>\n",
       "      <th>diff</th>\n",
       "      <th>risk</th>\n",
       "    </tr>\n",
       "    <tr>\n",
       "      <th>self_employed</th>\n",
       "      <th></th>\n",
       "      <th></th>\n",
       "      <th></th>\n",
       "      <th></th>\n",
       "    </tr>\n",
       "  </thead>\n",
       "  <tbody>\n",
       "    <tr>\n",
       "      <th>no</th>\n",
       "      <td>0.686000</td>\n",
       "      <td>500</td>\n",
       "      <td>-0.001296</td>\n",
       "      <td>0.998114</td>\n",
       "    </tr>\n",
       "    <tr>\n",
       "      <th>yes</th>\n",
       "      <td>0.682927</td>\n",
       "      <td>82</td>\n",
       "      <td>-0.004370</td>\n",
       "      <td>0.993642</td>\n",
       "    </tr>\n",
       "  </tbody>\n",
       "</table>\n",
       "</div>"
      ],
      "text/plain": [
       "                   mean  count      diff      risk\n",
       "self_employed                                     \n",
       "no             0.686000    500 -0.001296  0.998114\n",
       "yes            0.682927     82 -0.004370  0.993642"
      ]
     },
     "metadata": {},
     "output_type": "display_data"
    }
   ],
   "source": [
    "# Grouping Categorical Columnns by mean and count per loan status and check the status rate and risk ration for each group.\n",
    "for col in categorical_cols:\n",
    "    df_group = loans.groupby(by=col).loan_status.agg(['mean','count'])\n",
    "    df_group['diff'] = df_group['mean'] - global_mean\n",
    "    df_group['risk'] = df_group['mean'] / global_mean\n",
    "    display(df_group)"
   ]
  },
  {
   "cell_type": "markdown",
   "id": "f216a2dc",
   "metadata": {},
   "source": [
    "Concllusion:\n",
    "\n",
    "- Customers with a credit history of 1.0 (good credit history) have a higher loan approval rate compared to those with no credit history.\n",
    "- Customers in semiurban and urban areas have a higher loan approval rate compared to rural areas.\n",
    "- Married individuals, graduates, and customers with 2 dependents have a higher loan approval rate.\n",
    "- Gender and self-employment status have minimal impact on loan approval.\n",
    "- Consider focusing on customers with a good credit history, targeting semiurban and urban areas, and giving preference to married individuals and graduates for higher loan approval rates.\n",
    "\n",
    "\n",
    "Recommendations:\n",
    "- Focus on customers with a credit history of 1.0, as they have a significantly higher loan approval rate.\n",
    "- Consider targeting customers in semiurban and urban areas, as they have a higher loan approval rate.\n",
    "- Give preference to married individuals and graduates, as they have a higher loan approval rate.\n",
    "- Evaluate the risk associated with customers who have no credit history (0.0) or reside in rural areas.\n",
    "- Further analyze the factors influencing loan approval for customers with dependents and explore strategies to increase their loan approval rate.\n",
    "- Gender and self-employment status do not seem to have a significant impact on loan approval, but further analysis can be done to explore any potential correlations.\n",
    "\n",
    "These conclusions and recommendations are based on the analysis of the provided categorical columns and their relationship with loan approval. It is important to consider other factors and conduct further analysis to gain a comprehensive understanding of the loan approval process."
   ]
  },
  {
   "cell_type": "markdown",
   "id": "924fbe9c",
   "metadata": {},
   "source": [
    "# -----------------------"
   ]
  },
  {
   "cell_type": "code",
   "execution_count": 24,
   "id": "f0267420",
   "metadata": {},
   "outputs": [],
   "source": [
    "loans_analysis =  loans[['gender', 'married', 'dependents', 'education',\n",
    "       'self_employed', 'applicantincome', 'coapplicantincome', 'loanamount',\n",
    "       'loan_amount_term', 'credit_history', 'property_area', 'loan_status']]\n",
    "loans_analysis['total'] =loans_analysis.applicantincome + loans_analysis.coapplicantincome"
   ]
  },
  {
   "cell_type": "code",
   "execution_count": 185,
   "id": "467a5ffa",
   "metadata": {
    "scrolled": false
   },
   "outputs": [
    {
     "data": {
      "text/html": [
       "<div>\n",
       "<style scoped>\n",
       "    .dataframe tbody tr th:only-of-type {\n",
       "        vertical-align: middle;\n",
       "    }\n",
       "\n",
       "    .dataframe tbody tr th {\n",
       "        vertical-align: top;\n",
       "    }\n",
       "\n",
       "    .dataframe thead th {\n",
       "        text-align: right;\n",
       "    }\n",
       "</style>\n",
       "<table border=\"1\" class=\"dataframe\">\n",
       "  <thead>\n",
       "    <tr style=\"text-align: right;\">\n",
       "      <th></th>\n",
       "      <th>loan_id</th>\n",
       "      <th>gender</th>\n",
       "      <th>married</th>\n",
       "      <th>dependents</th>\n",
       "      <th>education</th>\n",
       "      <th>self_employed</th>\n",
       "      <th>applicantincome</th>\n",
       "      <th>coapplicantincome</th>\n",
       "      <th>loanamount</th>\n",
       "      <th>loan_amount_term</th>\n",
       "      <th>credit_history</th>\n",
       "      <th>property_area</th>\n",
       "      <th>loan_status</th>\n",
       "    </tr>\n",
       "  </thead>\n",
       "  <tbody>\n",
       "    <tr>\n",
       "      <th>155</th>\n",
       "      <td>LP001536</td>\n",
       "      <td>male</td>\n",
       "      <td>yes</td>\n",
       "      <td>4.0</td>\n",
       "      <td>graduate</td>\n",
       "      <td>no</td>\n",
       "      <td>39999</td>\n",
       "      <td>0.0</td>\n",
       "      <td>600.0</td>\n",
       "      <td>180.0</td>\n",
       "      <td>0.0</td>\n",
       "      <td>semiurban</td>\n",
       "      <td>1</td>\n",
       "    </tr>\n",
       "  </tbody>\n",
       "</table>\n",
       "</div>"
      ],
      "text/plain": [
       "      loan_id gender married  dependents education self_employed  \\\n",
       "155  LP001536   male     yes         4.0  graduate            no   \n",
       "\n",
       "     applicantincome  coapplicantincome  loanamount  loan_amount_term  \\\n",
       "155            39999                0.0       600.0             180.0   \n",
       "\n",
       "     credit_history property_area  loan_status  \n",
       "155             0.0     semiurban            1  "
      ]
     },
     "execution_count": 185,
     "metadata": {},
     "output_type": "execute_result"
    },
    {
     "data": {
      "image/png": "[encoded data removed]",
      "text/plain": [
       "<Figure size 640x480 with 1 Axes>"
      ]
     },
     "metadata": {},
     "output_type": "display_data"
    }
   ],
   "source": [
    "area_credhistory = loans.copy()\n",
    "area_credhistory = loans_analysis[(loans_analysis.loanamount > 400) & (area_credhistory.credit_history == 0)]\n",
    "# sns.boxenplot(data=area_credhistory, x='credit_history',y='property_area',hue='loan_status')\n",
    "# loans.pivot_table(values='loan_status', index=['credit_history','property_area'], aggfunc='sum')\n",
    "sns.boxenplot(data=loans, x= 'credit_history',y='loanamount',hue='loan_status')\n",
    "loans[(loans.loanamount == 600)& (loans.credit_history == 0)]"
   ]
  },
  {
   "cell_type": "markdown",
   "id": "62058141",
   "metadata": {},
   "source": [
    "### **1st insight**\n",
    " \n",
    " \n",
    "> Altough Credit History is the most important feature for loans to be approved , but one oof the applicants income is very high we give approval . we need to investigate futher ... \n",
    "\n"
   ]
  },
  {
   "cell_type": "code",
   "execution_count": 25,
   "id": "3684aa09",
   "metadata": {
    "scrolled": false
   },
   "outputs": [
    {
     "name": "stdout",
     "output_type": "stream",
     "text": [
      "avg income of approval :\n",
      " 2.333449521150979\n"
     ]
    },
    {
     "name": "stderr",
     "output_type": "stream",
     "text": [
      "C:\\Users\\kanch\\AppData\\Local\\Temp\\ipykernel_2500\\1346467030.py:2: SettingWithCopyWarning: \n",
      "A value is trying to be set on a copy of a slice from a DataFrame.\n",
      "Try using .loc[row_indexer,col_indexer] = value instead\n",
      "\n",
      "See the caveats in the documentation: https://pandas.pydata.org/pandas-docs/stable/user_guide/indexing.html#returning-a-view-versus-a-copy\n",
      "  amount_income['avg'] = amount_income.loanamount  / amount_income.total * 100\n"
     ]
    },
    {
     "data": {
      "text/plain": [
       "<Axes: xlabel='avg', ylabel='Count'>"
      ]
     },
     "execution_count": 25,
     "metadata": {},
     "output_type": "execute_result"
    },
    {
     "data": {
      "image/png": "[encoded data removed]",
      "text/plain": [
       "<Figure size 640x480 with 1 Axes>"
      ]
     },
     "metadata": {},
     "output_type": "display_data"
    }
   ],
   "source": [
    "amount_income = loans_analysis[(loans_analysis.loan_status == 1)]\n",
    "amount_income['avg'] = amount_income.loanamount  / amount_income.total * 100\n",
    "print(f'avg income of approval :\\n {amount_income[\"avg\"].mean()}')\n",
    "amount_income[['avg','loanamount','applicantincome']].sort_values(by='loanamount', ascending= False).describe()\n",
    "sns.histplot(amount_income.avg)"
   ]
  },
  {
   "cell_type": "markdown",
   "id": "3a70a62c",
   "metadata": {},
   "source": [
    "### 2nd insight\n",
    "> TO get approval,  loan amount on average is 2.34 of Total income (applicant income and Coapplicant income)  . Based on data we have , we don't give income more than 4 % of total income."
   ]
  },
  {
   "cell_type": "code",
   "execution_count": 26,
   "id": "f713ee56",
   "metadata": {},
   "outputs": [
    {
     "data": {
      "application/vnd.microsoft.datawrangler.viewer.v0+json": {
       "columns": [
        {
         "name": "index",
         "rawType": "int64",
         "type": "integer"
        },
        {
         "name": "loan_id",
         "rawType": "object",
         "type": "string"
        },
        {
         "name": "gender",
         "rawType": "object",
         "type": "string"
        },
        {
         "name": "married",
         "rawType": "object",
         "type": "string"
        },
        {
         "name": "dependents",
         "rawType": "float64",
         "type": "float"
        },
        {
         "name": "education",
         "rawType": "object",
         "type": "string"
        },
        {
         "name": "self_employed",
         "rawType": "object",
         "type": "string"
        },
        {
         "name": "applicantincome",
         "rawType": "int64",
         "type": "integer"
        },
        {
         "name": "coapplicantincome",
         "rawType": "float64",
         "type": "float"
        },
        {
         "name": "loanamount",
         "rawType": "float64",
         "type": "float"
        },
        {
         "name": "loan_amount_term",
         "rawType": "float64",
         "type": "float"
        },
        {
         "name": "credit_history",
         "rawType": "float64",
         "type": "float"
        },
        {
         "name": "property_area",
         "rawType": "object",
         "type": "string"
        },
        {
         "name": "loan_status",
         "rawType": "int32",
         "type": "integer"
        }
       ],
       "conversionMethod": "pd.DataFrame",
       "ref": "482e1b18-26bf-4c04-8c4b-514490d90e8e",
       "rows": [
        [
         "155",
         "LP001536",
         "male",
         "yes",
         "4.0",
         "graduate",
         "no",
         "39999",
         "0.0",
         "600.0",
         "180.0",
         "0.0",
         "semiurban",
         "1"
        ],
        [
         "267",
         "LP001882",
         "male",
         "yes",
         "4.0",
         "graduate",
         "no",
         "4333",
         "1811.0",
         "160.0",
         "360.0",
         "0.0",
         "urban",
         "1"
        ]
       ],
       "shape": {
        "columns": 13,
        "rows": 2
       }
      },
      "text/html": [
       "<div>\n",
       "<style scoped>\n",
       "    .dataframe tbody tr th:only-of-type {\n",
       "        vertical-align: middle;\n",
       "    }\n",
       "\n",
       "    .dataframe tbody tr th {\n",
       "        vertical-align: top;\n",
       "    }\n",
       "\n",
       "    .dataframe thead th {\n",
       "        text-align: right;\n",
       "    }\n",
       "</style>\n",
       "<table border=\"1\" class=\"dataframe\">\n",
       "  <thead>\n",
       "    <tr style=\"text-align: right;\">\n",
       "      <th></th>\n",
       "      <th>loan_id</th>\n",
       "      <th>gender</th>\n",
       "      <th>married</th>\n",
       "      <th>dependents</th>\n",
       "      <th>education</th>\n",
       "      <th>self_employed</th>\n",
       "      <th>applicantincome</th>\n",
       "      <th>coapplicantincome</th>\n",
       "      <th>loanamount</th>\n",
       "      <th>loan_amount_term</th>\n",
       "      <th>credit_history</th>\n",
       "      <th>property_area</th>\n",
       "      <th>loan_status</th>\n",
       "    </tr>\n",
       "  </thead>\n",
       "  <tbody>\n",
       "    <tr>\n",
       "      <th>155</th>\n",
       "      <td>LP001536</td>\n",
       "      <td>male</td>\n",
       "      <td>yes</td>\n",
       "      <td>4.0</td>\n",
       "      <td>graduate</td>\n",
       "      <td>no</td>\n",
       "      <td>39999</td>\n",
       "      <td>0.0</td>\n",
       "      <td>600.0</td>\n",
       "      <td>180.0</td>\n",
       "      <td>0.0</td>\n",
       "      <td>semiurban</td>\n",
       "      <td>1</td>\n",
       "    </tr>\n",
       "    <tr>\n",
       "      <th>267</th>\n",
       "      <td>LP001882</td>\n",
       "      <td>male</td>\n",
       "      <td>yes</td>\n",
       "      <td>4.0</td>\n",
       "      <td>graduate</td>\n",
       "      <td>no</td>\n",
       "      <td>4333</td>\n",
       "      <td>1811.0</td>\n",
       "      <td>160.0</td>\n",
       "      <td>360.0</td>\n",
       "      <td>0.0</td>\n",
       "      <td>urban</td>\n",
       "      <td>1</td>\n",
       "    </tr>\n",
       "  </tbody>\n",
       "</table>\n",
       "</div>"
      ],
      "text/plain": [
       "      loan_id gender married  dependents education self_employed  \\\n",
       "155  LP001536   male     yes         4.0  graduate            no   \n",
       "267  LP001882   male     yes         4.0  graduate            no   \n",
       "\n",
       "     applicantincome  coapplicantincome  loanamount  loan_amount_term  \\\n",
       "155            39999                0.0       600.0             180.0   \n",
       "267             4333             1811.0       160.0             360.0   \n",
       "\n",
       "     credit_history property_area  loan_status  \n",
       "155             0.0     semiurban            1  \n",
       "267             0.0         urban            1  "
      ]
     },
     "execution_count": 26,
     "metadata": {},
     "output_type": "execute_result"
    }
   ],
   "source": [
    "property_married = loans_analysis.copy()\n",
    "\n",
    "loans[(loans_analysis.credit_history == 0)& (loans_analysis.dependents == 4)&(loans.loan_status == 1)]"
   ]
  },
  {
   "cell_type": "markdown",
   "id": "34fe58dc",
   "metadata": {},
   "source": [
    "### 3rd insight\n",
    "\n",
    "> ### we should investigate about these 2 loan IDs if it should be approved or not as :\n",
    "> - Especially Loan ID (LP001882) the loan amount .\n",
    "> - Loan ID (LP001882) higher than applicant income plus applicant has bad credit history in addition not educated which all tends to not giving loan."
   ]
  },
  {
   "cell_type": "code",
   "execution_count": 27,
   "id": "3e1a7f27",
   "metadata": {},
   "outputs": [
    {
     "data": {
      "application/vnd.microsoft.datawrangler.viewer.v0+json": {
       "columns": [
        {
         "name": "index",
         "rawType": "int64",
         "type": "integer"
        },
        {
         "name": "gender",
         "rawType": "object",
         "type": "string"
        },
        {
         "name": "married",
         "rawType": "object",
         "type": "string"
        },
        {
         "name": "dependents",
         "rawType": "float64",
         "type": "float"
        },
        {
         "name": "education",
         "rawType": "object",
         "type": "string"
        },
        {
         "name": "self_employed",
         "rawType": "object",
         "type": "string"
        },
        {
         "name": "applicantincome",
         "rawType": "int64",
         "type": "integer"
        },
        {
         "name": "coapplicantincome",
         "rawType": "float64",
         "type": "float"
        },
        {
         "name": "loanamount",
         "rawType": "float64",
         "type": "float"
        },
        {
         "name": "loan_amount_term",
         "rawType": "float64",
         "type": "float"
        },
        {
         "name": "credit_history",
         "rawType": "float64",
         "type": "float"
        },
        {
         "name": "property_area",
         "rawType": "object",
         "type": "string"
        },
        {
         "name": "loan_status",
         "rawType": "int32",
         "type": "integer"
        },
        {
         "name": "total",
         "rawType": "float64",
         "type": "float"
        }
       ],
       "conversionMethod": "pd.DataFrame",
       "ref": "94a56b11-d854-4244-b296-9f59919d9dc0",
       "rows": [
        [
         "122",
         "female",
         "no",
         "0.0",
         "graduate",
         "no",
         "2137",
         "8980.0",
         "137.0",
         "360.0",
         "0.0",
         "semiurban",
         "1",
         "11117.0"
        ],
        [
         "201",
         "male",
         "no",
         "2.0",
         "graduate",
         "no",
         "4923",
         "0.0",
         "166.0",
         "360.0",
         "0.0",
         "semiurban",
         "1",
         "4923.0"
        ],
        [
         "326",
         "male",
         "no",
         "0.0",
         "graduate",
         "no",
         "4917",
         "0.0",
         "130.0",
         "360.0",
         "0.0",
         "rural",
         "1",
         "4917.0"
        ]
       ],
       "shape": {
        "columns": 13,
        "rows": 3
       }
      },
      "text/html": [
       "<div>\n",
       "<style scoped>\n",
       "    .dataframe tbody tr th:only-of-type {\n",
       "        vertical-align: middle;\n",
       "    }\n",
       "\n",
       "    .dataframe tbody tr th {\n",
       "        vertical-align: top;\n",
       "    }\n",
       "\n",
       "    .dataframe thead th {\n",
       "        text-align: right;\n",
       "    }\n",
       "</style>\n",
       "<table border=\"1\" class=\"dataframe\">\n",
       "  <thead>\n",
       "    <tr style=\"text-align: right;\">\n",
       "      <th></th>\n",
       "      <th>gender</th>\n",
       "      <th>married</th>\n",
       "      <th>dependents</th>\n",
       "      <th>education</th>\n",
       "      <th>self_employed</th>\n",
       "      <th>applicantincome</th>\n",
       "      <th>coapplicantincome</th>\n",
       "      <th>loanamount</th>\n",
       "      <th>loan_amount_term</th>\n",
       "      <th>credit_history</th>\n",
       "      <th>property_area</th>\n",
       "      <th>loan_status</th>\n",
       "      <th>total</th>\n",
       "    </tr>\n",
       "  </thead>\n",
       "  <tbody>\n",
       "    <tr>\n",
       "      <th>122</th>\n",
       "      <td>female</td>\n",
       "      <td>no</td>\n",
       "      <td>0.0</td>\n",
       "      <td>graduate</td>\n",
       "      <td>no</td>\n",
       "      <td>2137</td>\n",
       "      <td>8980.0</td>\n",
       "      <td>137.0</td>\n",
       "      <td>360.0</td>\n",
       "      <td>0.0</td>\n",
       "      <td>semiurban</td>\n",
       "      <td>1</td>\n",
       "      <td>11117.0</td>\n",
       "    </tr>\n",
       "    <tr>\n",
       "      <th>201</th>\n",
       "      <td>male</td>\n",
       "      <td>no</td>\n",
       "      <td>2.0</td>\n",
       "      <td>graduate</td>\n",
       "      <td>no</td>\n",
       "      <td>4923</td>\n",
       "      <td>0.0</td>\n",
       "      <td>166.0</td>\n",
       "      <td>360.0</td>\n",
       "      <td>0.0</td>\n",
       "      <td>semiurban</td>\n",
       "      <td>1</td>\n",
       "      <td>4923.0</td>\n",
       "    </tr>\n",
       "    <tr>\n",
       "      <th>326</th>\n",
       "      <td>male</td>\n",
       "      <td>no</td>\n",
       "      <td>0.0</td>\n",
       "      <td>graduate</td>\n",
       "      <td>no</td>\n",
       "      <td>4917</td>\n",
       "      <td>0.0</td>\n",
       "      <td>130.0</td>\n",
       "      <td>360.0</td>\n",
       "      <td>0.0</td>\n",
       "      <td>rural</td>\n",
       "      <td>1</td>\n",
       "      <td>4917.0</td>\n",
       "    </tr>\n",
       "  </tbody>\n",
       "</table>\n",
       "</div>"
      ],
      "text/plain": [
       "     gender married  dependents education self_employed  applicantincome  \\\n",
       "122  female      no         0.0  graduate            no             2137   \n",
       "201    male      no         2.0  graduate            no             4923   \n",
       "326    male      no         0.0  graduate            no             4917   \n",
       "\n",
       "     coapplicantincome  loanamount  loan_amount_term  credit_history  \\\n",
       "122             8980.0       137.0             360.0             0.0   \n",
       "201                0.0       166.0             360.0             0.0   \n",
       "326                0.0       130.0             360.0             0.0   \n",
       "\n",
       "    property_area  loan_status    total  \n",
       "122     semiurban            1  11117.0  \n",
       "201     semiurban            1   4923.0  \n",
       "326         rural            1   4917.0  "
      ]
     },
     "execution_count": 27,
     "metadata": {},
     "output_type": "execute_result"
    }
   ],
   "source": [
    "credit_col = loans_analysis[(loans_analysis.credit_history == 0)&(loans_analysis.married == 'no')&(loans_analysis.education == 'graduate')& (loans_analysis.loan_status ==1 )] \n",
    "# pd.crosstab([credit_col.education,credit_col.married],\n",
    "#             credit_col.loan_status, aggfunc=['count'], values= 'loan_status').plot(kind='barh')\n",
    "credit_col"
   ]
  },
  {
   "cell_type": "markdown",
   "id": "39a83569",
   "metadata": {},
   "source": [
    "### 4th insight\n",
    "> - applicants whose credit history is bad and not graduated also not married their loan got approved because the ration between loan amount / Total income is very small "
   ]
  },
  {
   "cell_type": "code",
   "execution_count": 28,
   "id": "d74cf986",
   "metadata": {},
   "outputs": [
    {
     "data": {
      "application/vnd.microsoft.datawrangler.viewer.v0+json": {
       "columns": [
        {
         "name": "property_area",
         "rawType": "object",
         "type": "string"
        },
        {
         "name": "('count', 0)",
         "rawType": "int64",
         "type": "integer"
        },
        {
         "name": "('count', 1)",
         "rawType": "int64",
         "type": "integer"
        }
       ],
       "conversionMethod": "pd.DataFrame",
       "ref": "39e296d0-9ae2-4ce8-a534-7592afee47d7",
       "rows": [
        [
         "rural",
         "69",
         "110"
        ],
        [
         "semiurban",
         "54",
         "179"
        ],
        [
         "urban",
         "69",
         "133"
        ]
       ],
       "shape": {
        "columns": 2,
        "rows": 3
       }
      },
      "text/html": [
       "<div>\n",
       "<style scoped>\n",
       "    .dataframe tbody tr th:only-of-type {\n",
       "        vertical-align: middle;\n",
       "    }\n",
       "\n",
       "    .dataframe tbody tr th {\n",
       "        vertical-align: top;\n",
       "    }\n",
       "\n",
       "    .dataframe thead tr th {\n",
       "        text-align: left;\n",
       "    }\n",
       "\n",
       "    .dataframe thead tr:last-of-type th {\n",
       "        text-align: right;\n",
       "    }\n",
       "</style>\n",
       "<table border=\"1\" class=\"dataframe\">\n",
       "  <thead>\n",
       "    <tr>\n",
       "      <th></th>\n",
       "      <th colspan=\"2\" halign=\"left\">count</th>\n",
       "    </tr>\n",
       "    <tr>\n",
       "      <th>loan_status</th>\n",
       "      <th>0</th>\n",
       "      <th>1</th>\n",
       "    </tr>\n",
       "    <tr>\n",
       "      <th>property_area</th>\n",
       "      <th></th>\n",
       "      <th></th>\n",
       "    </tr>\n",
       "  </thead>\n",
       "  <tbody>\n",
       "    <tr>\n",
       "      <th>rural</th>\n",
       "      <td>69</td>\n",
       "      <td>110</td>\n",
       "    </tr>\n",
       "    <tr>\n",
       "      <th>semiurban</th>\n",
       "      <td>54</td>\n",
       "      <td>179</td>\n",
       "    </tr>\n",
       "    <tr>\n",
       "      <th>urban</th>\n",
       "      <td>69</td>\n",
       "      <td>133</td>\n",
       "    </tr>\n",
       "  </tbody>\n",
       "</table>\n",
       "</div>"
      ],
      "text/plain": [
       "              count     \n",
       "loan_status       0    1\n",
       "property_area           \n",
       "rural            69  110\n",
       "semiurban        54  179\n",
       "urban            69  133"
      ]
     },
     "execution_count": 28,
     "metadata": {},
     "output_type": "execute_result"
    }
   ],
   "source": [
    "pd.crosstab(loans_analysis.property_area,\n",
    "            loans_analysis.loan_status, aggfunc=['count'], values= 'loan_status')"
   ]
  },
  {
   "cell_type": "markdown",
   "id": "d0f65d11",
   "metadata": {},
   "source": [
    "# -----------------------"
   ]
  },
  {
   "cell_type": "code",
   "execution_count": 29,
   "id": "8cf7bba9",
   "metadata": {
    "scrolled": true
   },
   "outputs": [
    {
     "data": {
      "application/vnd.microsoft.datawrangler.viewer.v0+json": {
       "columns": [
        {
         "name": "index",
         "rawType": "int64",
         "type": "integer"
        },
        {
         "name": "loan_id",
         "rawType": "object",
         "type": "string"
        },
        {
         "name": "gender",
         "rawType": "object",
         "type": "unknown"
        },
        {
         "name": "married",
         "rawType": "object",
         "type": "string"
        },
        {
         "name": "dependents",
         "rawType": "float64",
         "type": "float"
        },
        {
         "name": "education",
         "rawType": "object",
         "type": "string"
        },
        {
         "name": "self_employed",
         "rawType": "object",
         "type": "unknown"
        },
        {
         "name": "applicantincome",
         "rawType": "int64",
         "type": "integer"
        },
        {
         "name": "coapplicantincome",
         "rawType": "float64",
         "type": "float"
        },
        {
         "name": "loanamount",
         "rawType": "float64",
         "type": "float"
        },
        {
         "name": "loan_amount_term",
         "rawType": "float64",
         "type": "float"
        },
        {
         "name": "credit_history",
         "rawType": "float64",
         "type": "float"
        },
        {
         "name": "property_area",
         "rawType": "object",
         "type": "string"
        },
        {
         "name": "loan_status",
         "rawType": "int32",
         "type": "integer"
        }
       ],
       "conversionMethod": "pd.DataFrame",
       "ref": "46fae7be-9353-4713-85b4-191b625834de",
       "rows": [
        [
         "7",
         "LP001014",
         "male",
         "yes",
         "4.0",
         "graduate",
         "no",
         "3036",
         "2504.0",
         "158.0",
         "360.0",
         "0.0",
         "semiurban",
         "0"
        ],
        [
         "17",
         "LP001036",
         "female",
         "no",
         "0.0",
         "graduate",
         "no",
         "3510",
         "0.0",
         "76.0",
         "360.0",
         "0.0",
         "urban",
         "0"
        ],
        [
         "20",
         "LP001043",
         "male",
         "yes",
         "0.0",
         "not_graduate",
         "no",
         "7660",
         "0.0",
         "104.0",
         "360.0",
         "0.0",
         "urban",
         "0"
        ],
        [
         "22",
         "LP001047",
         "male",
         "yes",
         "0.0",
         "not_graduate",
         "no",
         "2600",
         "1911.0",
         "116.0",
         "360.0",
         "0.0",
         "semiurban",
         "0"
        ],
        [
         "23",
         "LP001050",
         null,
         "yes",
         "2.0",
         "not_graduate",
         "no",
         "3365",
         "1917.0",
         "112.0",
         "360.0",
         "0.0",
         "rural",
         "0"
        ],
        [
         "36",
         "LP001109",
         "male",
         "yes",
         "0.0",
         "graduate",
         "no",
         "1828",
         "1330.0",
         "100.0",
         null,
         "0.0",
         "urban",
         "0"
        ],
        [
         "48",
         "LP001146",
         "female",
         "yes",
         "0.0",
         "graduate",
         "no",
         "2645",
         "3440.0",
         "120.0",
         "360.0",
         "0.0",
         "urban",
         "0"
        ],
        [
         "54",
         "LP001186",
         "female",
         "yes",
         "1.0",
         "graduate",
         "yes",
         "11500",
         "0.0",
         "286.0",
         "360.0",
         "0.0",
         "urban",
         "0"
        ],
        [
         "62",
         "LP001207",
         "male",
         "yes",
         "0.0",
         "not_graduate",
         "yes",
         "2609",
         "3449.0",
         "165.0",
         "180.0",
         "0.0",
         "rural",
         "0"
        ],
        [
         "64",
         "LP001222",
         "female",
         "no",
         "0.0",
         "graduate",
         "no",
         "4166",
         "0.0",
         "116.0",
         "360.0",
         "0.0",
         "semiurban",
         "0"
        ],
        [
         "66",
         "LP001228",
         "male",
         "no",
         "0.0",
         "not_graduate",
         "no",
         "3200",
         "2254.0",
         "126.0",
         "180.0",
         "0.0",
         "urban",
         "0"
        ],
        [
         "69",
         "LP001241",
         "female",
         "no",
         "0.0",
         "graduate",
         "no",
         "4300",
         "0.0",
         "136.0",
         "360.0",
         "0.0",
         "semiurban",
         "0"
        ],
        [
         "73",
         "LP001250",
         "male",
         "yes",
         "4.0",
         "not_graduate",
         "no",
         "4755",
         "0.0",
         "95.0",
         null,
         "0.0",
         "semiurban",
         "0"
        ],
        [
         "78",
         "LP001263",
         "male",
         "yes",
         "4.0",
         "graduate",
         "no",
         "3167",
         "4000.0",
         "180.0",
         "300.0",
         "0.0",
         "semiurban",
         "0"
        ],
        [
         "108",
         "LP001379",
         "male",
         "yes",
         "2.0",
         "graduate",
         "no",
         "3800",
         "3600.0",
         "216.0",
         "360.0",
         "0.0",
         "urban",
         "0"
        ],
        [
         "112",
         "LP001391",
         "male",
         "yes",
         "0.0",
         "not_graduate",
         "no",
         "3572",
         "4114.0",
         "152.0",
         null,
         "0.0",
         "rural",
         "0"
        ],
        [
         "128",
         "LP001451",
         "male",
         "yes",
         "1.0",
         "graduate",
         "yes",
         "10513",
         "3850.0",
         "160.0",
         "180.0",
         "0.0",
         "urban",
         "0"
        ],
        [
         "138",
         "LP001492",
         "male",
         "no",
         "0.0",
         "graduate",
         "no",
         "14999",
         "0.0",
         "242.0",
         "360.0",
         "0.0",
         "semiurban",
         "0"
        ],
        [
         "150",
         "LP001528",
         "male",
         "no",
         "0.0",
         "graduate",
         "no",
         "6277",
         "0.0",
         "118.0",
         "360.0",
         "0.0",
         "rural",
         "0"
        ],
        [
         "162",
         "LP001565",
         "male",
         "yes",
         "1.0",
         "graduate",
         "no",
         "3089",
         "1280.0",
         "121.0",
         "360.0",
         "0.0",
         "semiurban",
         "0"
        ],
        [
         "168",
         "LP001579",
         "male",
         "no",
         "0.0",
         "graduate",
         "no",
         "2237",
         "0.0",
         "63.0",
         "480.0",
         "0.0",
         "semiurban",
         "0"
        ],
        [
         "179",
         "LP001630",
         "male",
         "no",
         "0.0",
         "not_graduate",
         "no",
         "2333",
         "1451.0",
         "102.0",
         "480.0",
         "0.0",
         "urban",
         "0"
        ],
        [
         "180",
         "LP001633",
         "male",
         "yes",
         "1.0",
         "graduate",
         "no",
         "6400",
         "7250.0",
         "180.0",
         "360.0",
         "0.0",
         "urban",
         "0"
        ],
        [
         "186",
         "LP001641",
         "male",
         "yes",
         "1.0",
         "graduate",
         "yes",
         "2178",
         "0.0",
         "66.0",
         "300.0",
         "0.0",
         "rural",
         "0"
        ],
        [
         "211",
         "LP001711",
         "male",
         "yes",
         "4.0",
         "graduate",
         "no",
         "3430",
         "1250.0",
         "128.0",
         "360.0",
         "0.0",
         "semiurban",
         "0"
        ],
        [
         "218",
         "LP001732",
         "male",
         "yes",
         "2.0",
         "graduate",
         null,
         "5000",
         "0.0",
         "72.0",
         "360.0",
         "0.0",
         "semiurban",
         "0"
        ],
        [
         "220",
         "LP001736",
         "male",
         "yes",
         "0.0",
         "graduate",
         "no",
         "2221",
         "0.0",
         "60.0",
         "360.0",
         "0.0",
         "urban",
         "0"
        ],
        [
         "250",
         "LP001835",
         "male",
         "yes",
         "0.0",
         "not_graduate",
         "no",
         "1668",
         "3890.0",
         "201.0",
         "360.0",
         "0.0",
         "semiurban",
         "0"
        ],
        [
         "254",
         "LP001844",
         "male",
         "no",
         "0.0",
         "graduate",
         "yes",
         "16250",
         "0.0",
         "192.0",
         "360.0",
         "0.0",
         "urban",
         "0"
        ],
        [
         "256",
         "LP001849",
         "male",
         "no",
         "0.0",
         "not_graduate",
         "no",
         "6045",
         "0.0",
         "115.0",
         "360.0",
         "0.0",
         "rural",
         "0"
        ],
        [
         "280",
         "LP001910",
         "male",
         "no",
         "1.0",
         "not_graduate",
         "yes",
         "4053",
         "2426.0",
         "158.0",
         "360.0",
         "0.0",
         "urban",
         "0"
        ],
        [
         "291",
         "LP001938",
         "male",
         "yes",
         "2.0",
         "graduate",
         "no",
         "4400",
         "0.0",
         "127.0",
         "360.0",
         "0.0",
         "semiurban",
         "0"
        ],
        [
         "293",
         "LP001945",
         "female",
         "no",
         null,
         "graduate",
         "no",
         "5417",
         "0.0",
         "143.0",
         "480.0",
         "0.0",
         "urban",
         "0"
        ],
        [
         "300",
         "LP001964",
         "male",
         "yes",
         "0.0",
         "not_graduate",
         "no",
         "1800",
         "2934.0",
         "93.0",
         "360.0",
         "0.0",
         "urban",
         "0"
        ],
        [
         "307",
         "LP001994",
         "female",
         "no",
         "0.0",
         "graduate",
         "no",
         "2400",
         "1863.0",
         "104.0",
         "360.0",
         "0.0",
         "urban",
         "0"
        ],
        [
         "346",
         "LP002130",
         "male",
         "yes",
         null,
         "not_graduate",
         "no",
         "3523",
         "3230.0",
         "152.0",
         "360.0",
         "0.0",
         "rural",
         "0"
        ],
        [
         "353",
         "LP002142",
         "female",
         "yes",
         "0.0",
         "graduate",
         "yes",
         "5500",
         "0.0",
         "105.0",
         "360.0",
         "0.0",
         "rural",
         "0"
        ],
        [
         "358",
         "LP002158",
         "male",
         "yes",
         "0.0",
         "not_graduate",
         "no",
         "3000",
         "1666.0",
         "100.0",
         "480.0",
         "0.0",
         "urban",
         "0"
        ],
        [
         "367",
         "LP002188",
         "male",
         "no",
         "0.0",
         "graduate",
         "no",
         "5124",
         "0.0",
         "124.0",
         null,
         "0.0",
         "rural",
         "0"
        ],
        [
         "373",
         "LP002205",
         "male",
         "no",
         "1.0",
         "graduate",
         "no",
         "3062",
         "1987.0",
         "111.0",
         "180.0",
         "0.0",
         "urban",
         "0"
        ],
        [
         "396",
         "LP002277",
         "female",
         "no",
         "0.0",
         "graduate",
         "no",
         "3180",
         "0.0",
         "71.0",
         "360.0",
         "0.0",
         "urban",
         "0"
        ],
        [
         "399",
         "LP002287",
         "female",
         "no",
         "0.0",
         "graduate",
         "no",
         "1500",
         "1800.0",
         "103.0",
         "360.0",
         "0.0",
         "semiurban",
         "0"
        ],
        [
         "400",
         "LP002288",
         "male",
         "yes",
         "2.0",
         "not_graduate",
         "no",
         "2889",
         "0.0",
         "45.0",
         "180.0",
         "0.0",
         "urban",
         "0"
        ],
        [
         "408",
         "LP002315",
         "male",
         "yes",
         "1.0",
         "graduate",
         "no",
         "8300",
         "0.0",
         "152.0",
         "300.0",
         "0.0",
         "semiurban",
         "0"
        ],
        [
         "412",
         "LP002328",
         "male",
         "yes",
         "0.0",
         "not_graduate",
         "no",
         "6096",
         "0.0",
         "218.0",
         "360.0",
         "0.0",
         "rural",
         "0"
        ],
        [
         "414",
         "LP002335",
         "female",
         "yes",
         "0.0",
         "not_graduate",
         "no",
         "2149",
         "3237.0",
         "178.0",
         "360.0",
         "0.0",
         "semiurban",
         "0"
        ],
        [
         "421",
         "LP002357",
         "female",
         "no",
         "0.0",
         "not_graduate",
         "no",
         "2720",
         "0.0",
         "80.0",
         null,
         "0.0",
         "urban",
         "0"
        ],
        [
         "423",
         "LP002362",
         "male",
         "yes",
         "1.0",
         "graduate",
         "no",
         "7250",
         "1667.0",
         "110.0",
         null,
         "0.0",
         "urban",
         "0"
        ],
        [
         "431",
         "LP002379",
         "male",
         "no",
         "0.0",
         "graduate",
         "no",
         "6500",
         "0.0",
         "105.0",
         "360.0",
         "0.0",
         "rural",
         "0"
        ],
        [
         "438",
         "LP002403",
         "male",
         "no",
         "0.0",
         "graduate",
         "yes",
         "10416",
         "0.0",
         "187.0",
         "360.0",
         "0.0",
         "urban",
         "0"
        ]
       ],
       "shape": {
        "columns": 13,
        "rows": 50
       }
      },
      "text/html": [
       "<div>\n",
       "<style scoped>\n",
       "    .dataframe tbody tr th:only-of-type {\n",
       "        vertical-align: middle;\n",
       "    }\n",
       "\n",
       "    .dataframe tbody tr th {\n",
       "        vertical-align: top;\n",
       "    }\n",
       "\n",
       "    .dataframe thead th {\n",
       "        text-align: right;\n",
       "    }\n",
       "</style>\n",
       "<table border=\"1\" class=\"dataframe\">\n",
       "  <thead>\n",
       "    <tr style=\"text-align: right;\">\n",
       "      <th></th>\n",
       "      <th>loan_id</th>\n",
       "      <th>gender</th>\n",
       "      <th>married</th>\n",
       "      <th>dependents</th>\n",
       "      <th>education</th>\n",
       "      <th>self_employed</th>\n",
       "      <th>applicantincome</th>\n",
       "      <th>coapplicantincome</th>\n",
       "      <th>loanamount</th>\n",
       "      <th>loan_amount_term</th>\n",
       "      <th>credit_history</th>\n",
       "      <th>property_area</th>\n",
       "      <th>loan_status</th>\n",
       "    </tr>\n",
       "  </thead>\n",
       "  <tbody>\n",
       "    <tr>\n",
       "      <th>7</th>\n",
       "      <td>LP001014</td>\n",
       "      <td>male</td>\n",
       "      <td>yes</td>\n",
       "      <td>4.0</td>\n",
       "      <td>graduate</td>\n",
       "      <td>no</td>\n",
       "      <td>3036</td>\n",
       "      <td>2504.0</td>\n",
       "      <td>158.0</td>\n",
       "      <td>360.0</td>\n",
       "      <td>0.0</td>\n",
       "      <td>semiurban</td>\n",
       "      <td>0</td>\n",
       "    </tr>\n",
       "    <tr>\n",
       "      <th>17</th>\n",
       "      <td>LP001036</td>\n",
       "      <td>female</td>\n",
       "      <td>no</td>\n",
       "      <td>0.0</td>\n",
       "      <td>graduate</td>\n",
       "      <td>no</td>\n",
       "      <td>3510</td>\n",
       "      <td>0.0</td>\n",
       "      <td>76.0</td>\n",
       "      <td>360.0</td>\n",
       "      <td>0.0</td>\n",
       "      <td>urban</td>\n",
       "      <td>0</td>\n",
       "    </tr>\n",
       "    <tr>\n",
       "      <th>20</th>\n",
       "      <td>LP001043</td>\n",
       "      <td>male</td>\n",
       "      <td>yes</td>\n",
       "      <td>0.0</td>\n",
       "      <td>not_graduate</td>\n",
       "      <td>no</td>\n",
       "      <td>7660</td>\n",
       "      <td>0.0</td>\n",
       "      <td>104.0</td>\n",
       "      <td>360.0</td>\n",
       "      <td>0.0</td>\n",
       "      <td>urban</td>\n",
       "      <td>0</td>\n",
       "    </tr>\n",
       "    <tr>\n",
       "      <th>22</th>\n",
       "      <td>LP001047</td>\n",
       "      <td>male</td>\n",
       "      <td>yes</td>\n",
       "      <td>0.0</td>\n",
       "      <td>not_graduate</td>\n",
       "      <td>no</td>\n",
       "      <td>2600</td>\n",
       "      <td>1911.0</td>\n",
       "      <td>116.0</td>\n",
       "      <td>360.0</td>\n",
       "      <td>0.0</td>\n",
       "      <td>semiurban</td>\n",
       "      <td>0</td>\n",
       "    </tr>\n",
       "    <tr>\n",
       "      <th>23</th>\n",
       "      <td>LP001050</td>\n",
       "      <td>NaN</td>\n",
       "      <td>yes</td>\n",
       "      <td>2.0</td>\n",
       "      <td>not_graduate</td>\n",
       "      <td>no</td>\n",
       "      <td>3365</td>\n",
       "      <td>1917.0</td>\n",
       "      <td>112.0</td>\n",
       "      <td>360.0</td>\n",
       "      <td>0.0</td>\n",
       "      <td>rural</td>\n",
       "      <td>0</td>\n",
       "    </tr>\n",
       "    <tr>\n",
       "      <th>36</th>\n",
       "      <td>LP001109</td>\n",
       "      <td>male</td>\n",
       "      <td>yes</td>\n",
       "      <td>0.0</td>\n",
       "      <td>graduate</td>\n",
       "      <td>no</td>\n",
       "      <td>1828</td>\n",
       "      <td>1330.0</td>\n",
       "      <td>100.0</td>\n",
       "      <td>NaN</td>\n",
       "      <td>0.0</td>\n",
       "      <td>urban</td>\n",
       "      <td>0</td>\n",
       "    </tr>\n",
       "    <tr>\n",
       "      <th>48</th>\n",
       "      <td>LP001146</td>\n",
       "      <td>female</td>\n",
       "      <td>yes</td>\n",
       "      <td>0.0</td>\n",
       "      <td>graduate</td>\n",
       "      <td>no</td>\n",
       "      <td>2645</td>\n",
       "      <td>3440.0</td>\n",
       "      <td>120.0</td>\n",
       "      <td>360.0</td>\n",
       "      <td>0.0</td>\n",
       "      <td>urban</td>\n",
       "      <td>0</td>\n",
       "    </tr>\n",
       "    <tr>\n",
       "      <th>54</th>\n",
       "      <td>LP001186</td>\n",
       "      <td>female</td>\n",
       "      <td>yes</td>\n",
       "      <td>1.0</td>\n",
       "      <td>graduate</td>\n",
       "      <td>yes</td>\n",
       "      <td>11500</td>\n",
       "      <td>0.0</td>\n",
       "      <td>286.0</td>\n",
       "      <td>360.0</td>\n",
       "      <td>0.0</td>\n",
       "      <td>urban</td>\n",
       "      <td>0</td>\n",
       "    </tr>\n",
       "    <tr>\n",
       "      <th>62</th>\n",
       "      <td>LP001207</td>\n",
       "      <td>male</td>\n",
       "      <td>yes</td>\n",
       "      <td>0.0</td>\n",
       "      <td>not_graduate</td>\n",
       "      <td>yes</td>\n",
       "      <td>2609</td>\n",
       "      <td>3449.0</td>\n",
       "      <td>165.0</td>\n",
       "      <td>180.0</td>\n",
       "      <td>0.0</td>\n",
       "      <td>rural</td>\n",
       "      <td>0</td>\n",
       "    </tr>\n",
       "    <tr>\n",
       "      <th>64</th>\n",
       "      <td>LP001222</td>\n",
       "      <td>female</td>\n",
       "      <td>no</td>\n",
       "      <td>0.0</td>\n",
       "      <td>graduate</td>\n",
       "      <td>no</td>\n",
       "      <td>4166</td>\n",
       "      <td>0.0</td>\n",
       "      <td>116.0</td>\n",
       "      <td>360.0</td>\n",
       "      <td>0.0</td>\n",
       "      <td>semiurban</td>\n",
       "      <td>0</td>\n",
       "    </tr>\n",
       "    <tr>\n",
       "      <th>66</th>\n",
       "      <td>LP001228</td>\n",
       "      <td>male</td>\n",
       "      <td>no</td>\n",
       "      <td>0.0</td>\n",
       "      <td>not_graduate</td>\n",
       "      <td>no</td>\n",
       "      <td>3200</td>\n",
       "      <td>2254.0</td>\n",
       "      <td>126.0</td>\n",
       "      <td>180.0</td>\n",
       "      <td>0.0</td>\n",
       "      <td>urban</td>\n",
       "      <td>0</td>\n",
       "    </tr>\n",
       "    <tr>\n",
       "      <th>69</th>\n",
       "      <td>LP001241</td>\n",
       "      <td>female</td>\n",
       "      <td>no</td>\n",
       "      <td>0.0</td>\n",
       "      <td>graduate</td>\n",
       "      <td>no</td>\n",
       "      <td>4300</td>\n",
       "      <td>0.0</td>\n",
       "      <td>136.0</td>\n",
       "      <td>360.0</td>\n",
       "      <td>0.0</td>\n",
       "      <td>semiurban</td>\n",
       "      <td>0</td>\n",
       "    </tr>\n",
       "    <tr>\n",
       "      <th>73</th>\n",
       "      <td>LP001250</td>\n",
       "      <td>male</td>\n",
       "      <td>yes</td>\n",
       "      <td>4.0</td>\n",
       "      <td>not_graduate</td>\n",
       "      <td>no</td>\n",
       "      <td>4755</td>\n",
       "      <td>0.0</td>\n",
       "      <td>95.0</td>\n",
       "      <td>NaN</td>\n",
       "      <td>0.0</td>\n",
       "      <td>semiurban</td>\n",
       "      <td>0</td>\n",
       "    </tr>\n",
       "    <tr>\n",
       "      <th>78</th>\n",
       "      <td>LP001263</td>\n",
       "      <td>male</td>\n",
       "      <td>yes</td>\n",
       "      <td>4.0</td>\n",
       "      <td>graduate</td>\n",
       "      <td>no</td>\n",
       "      <td>3167</td>\n",
       "      <td>4000.0</td>\n",
       "      <td>180.0</td>\n",
       "      <td>300.0</td>\n",
       "      <td>0.0</td>\n",
       "      <td>semiurban</td>\n",
       "      <td>0</td>\n",
       "    </tr>\n",
       "    <tr>\n",
       "      <th>108</th>\n",
       "      <td>LP001379</td>\n",
       "      <td>male</td>\n",
       "      <td>yes</td>\n",
       "      <td>2.0</td>\n",
       "      <td>graduate</td>\n",
       "      <td>no</td>\n",
       "      <td>3800</td>\n",
       "      <td>3600.0</td>\n",
       "      <td>216.0</td>\n",
       "      <td>360.0</td>\n",
       "      <td>0.0</td>\n",
       "      <td>urban</td>\n",
       "      <td>0</td>\n",
       "    </tr>\n",
       "    <tr>\n",
       "      <th>112</th>\n",
       "      <td>LP001391</td>\n",
       "      <td>male</td>\n",
       "      <td>yes</td>\n",
       "      <td>0.0</td>\n",
       "      <td>not_graduate</td>\n",
       "      <td>no</td>\n",
       "      <td>3572</td>\n",
       "      <td>4114.0</td>\n",
       "      <td>152.0</td>\n",
       "      <td>NaN</td>\n",
       "      <td>0.0</td>\n",
       "      <td>rural</td>\n",
       "      <td>0</td>\n",
       "    </tr>\n",
       "    <tr>\n",
       "      <th>128</th>\n",
       "      <td>LP001451</td>\n",
       "      <td>male</td>\n",
       "      <td>yes</td>\n",
       "      <td>1.0</td>\n",
       "      <td>graduate</td>\n",
       "      <td>yes</td>\n",
       "      <td>10513</td>\n",
       "      <td>3850.0</td>\n",
       "      <td>160.0</td>\n",
       "      <td>180.0</td>\n",
       "      <td>0.0</td>\n",
       "      <td>urban</td>\n",
       "      <td>0</td>\n",
       "    </tr>\n",
       "    <tr>\n",
       "      <th>138</th>\n",
       "      <td>LP001492</td>\n",
       "      <td>male</td>\n",
       "      <td>no</td>\n",
       "      <td>0.0</td>\n",
       "      <td>graduate</td>\n",
       "      <td>no</td>\n",
       "      <td>14999</td>\n",
       "      <td>0.0</td>\n",
       "      <td>242.0</td>\n",
       "      <td>360.0</td>\n",
       "      <td>0.0</td>\n",
       "      <td>semiurban</td>\n",
       "      <td>0</td>\n",
       "    </tr>\n",
       "    <tr>\n",
       "      <th>150</th>\n",
       "      <td>LP001528</td>\n",
       "      <td>male</td>\n",
       "      <td>no</td>\n",
       "      <td>0.0</td>\n",
       "      <td>graduate</td>\n",
       "      <td>no</td>\n",
       "      <td>6277</td>\n",
       "      <td>0.0</td>\n",
       "      <td>118.0</td>\n",
       "      <td>360.0</td>\n",
       "      <td>0.0</td>\n",
       "      <td>rural</td>\n",
       "      <td>0</td>\n",
       "    </tr>\n",
       "    <tr>\n",
       "      <th>162</th>\n",
       "      <td>LP001565</td>\n",
       "      <td>male</td>\n",
       "      <td>yes</td>\n",
       "      <td>1.0</td>\n",
       "      <td>graduate</td>\n",
       "      <td>no</td>\n",
       "      <td>3089</td>\n",
       "      <td>1280.0</td>\n",
       "      <td>121.0</td>\n",
       "      <td>360.0</td>\n",
       "      <td>0.0</td>\n",
       "      <td>semiurban</td>\n",
       "      <td>0</td>\n",
       "    </tr>\n",
       "    <tr>\n",
       "      <th>168</th>\n",
       "      <td>LP001579</td>\n",
       "      <td>male</td>\n",
       "      <td>no</td>\n",
       "      <td>0.0</td>\n",
       "      <td>graduate</td>\n",
       "      <td>no</td>\n",
       "      <td>2237</td>\n",
       "      <td>0.0</td>\n",
       "      <td>63.0</td>\n",
       "      <td>480.0</td>\n",
       "      <td>0.0</td>\n",
       "      <td>semiurban</td>\n",
       "      <td>0</td>\n",
       "    </tr>\n",
       "    <tr>\n",
       "      <th>179</th>\n",
       "      <td>LP001630</td>\n",
       "      <td>male</td>\n",
       "      <td>no</td>\n",
       "      <td>0.0</td>\n",
       "      <td>not_graduate</td>\n",
       "      <td>no</td>\n",
       "      <td>2333</td>\n",
       "      <td>1451.0</td>\n",
       "      <td>102.0</td>\n",
       "      <td>480.0</td>\n",
       "      <td>0.0</td>\n",
       "      <td>urban</td>\n",
       "      <td>0</td>\n",
       "    </tr>\n",
       "    <tr>\n",
       "      <th>180</th>\n",
       "      <td>LP001633</td>\n",
       "      <td>male</td>\n",
       "      <td>yes</td>\n",
       "      <td>1.0</td>\n",
       "      <td>graduate</td>\n",
       "      <td>no</td>\n",
       "      <td>6400</td>\n",
       "      <td>7250.0</td>\n",
       "      <td>180.0</td>\n",
       "      <td>360.0</td>\n",
       "      <td>0.0</td>\n",
       "      <td>urban</td>\n",
       "      <td>0</td>\n",
       "    </tr>\n",
       "    <tr>\n",
       "      <th>186</th>\n",
       "      <td>LP001641</td>\n",
       "      <td>male</td>\n",
       "      <td>yes</td>\n",
       "      <td>1.0</td>\n",
       "      <td>graduate</td>\n",
       "      <td>yes</td>\n",
       "      <td>2178</td>\n",
       "      <td>0.0</td>\n",
       "      <td>66.0</td>\n",
       "      <td>300.0</td>\n",
       "      <td>0.0</td>\n",
       "      <td>rural</td>\n",
       "      <td>0</td>\n",
       "    </tr>\n",
       "    <tr>\n",
       "      <th>211</th>\n",
       "      <td>LP001711</td>\n",
       "      <td>male</td>\n",
       "      <td>yes</td>\n",
       "      <td>4.0</td>\n",
       "      <td>graduate</td>\n",
       "      <td>no</td>\n",
       "      <td>3430</td>\n",
       "      <td>1250.0</td>\n",
       "      <td>128.0</td>\n",
       "      <td>360.0</td>\n",
       "      <td>0.0</td>\n",
       "      <td>semiurban</td>\n",
       "      <td>0</td>\n",
       "    </tr>\n",
       "    <tr>\n",
       "      <th>218</th>\n",
       "      <td>LP001732</td>\n",
       "      <td>male</td>\n",
       "      <td>yes</td>\n",
       "      <td>2.0</td>\n",
       "      <td>graduate</td>\n",
       "      <td>NaN</td>\n",
       "      <td>5000</td>\n",
       "      <td>0.0</td>\n",
       "      <td>72.0</td>\n",
       "      <td>360.0</td>\n",
       "      <td>0.0</td>\n",
       "      <td>semiurban</td>\n",
       "      <td>0</td>\n",
       "    </tr>\n",
       "    <tr>\n",
       "      <th>220</th>\n",
       "      <td>LP001736</td>\n",
       "      <td>male</td>\n",
       "      <td>yes</td>\n",
       "      <td>0.0</td>\n",
       "      <td>graduate</td>\n",
       "      <td>no</td>\n",
       "      <td>2221</td>\n",
       "      <td>0.0</td>\n",
       "      <td>60.0</td>\n",
       "      <td>360.0</td>\n",
       "      <td>0.0</td>\n",
       "      <td>urban</td>\n",
       "      <td>0</td>\n",
       "    </tr>\n",
       "    <tr>\n",
       "      <th>250</th>\n",
       "      <td>LP001835</td>\n",
       "      <td>male</td>\n",
       "      <td>yes</td>\n",
       "      <td>0.0</td>\n",
       "      <td>not_graduate</td>\n",
       "      <td>no</td>\n",
       "      <td>1668</td>\n",
       "      <td>3890.0</td>\n",
       "      <td>201.0</td>\n",
       "      <td>360.0</td>\n",
       "      <td>0.0</td>\n",
       "      <td>semiurban</td>\n",
       "      <td>0</td>\n",
       "    </tr>\n",
       "    <tr>\n",
       "      <th>254</th>\n",
       "      <td>LP001844</td>\n",
       "      <td>male</td>\n",
       "      <td>no</td>\n",
       "      <td>0.0</td>\n",
       "      <td>graduate</td>\n",
       "      <td>yes</td>\n",
       "      <td>16250</td>\n",
       "      <td>0.0</td>\n",
       "      <td>192.0</td>\n",
       "      <td>360.0</td>\n",
       "      <td>0.0</td>\n",
       "      <td>urban</td>\n",
       "      <td>0</td>\n",
       "    </tr>\n",
       "    <tr>\n",
       "      <th>256</th>\n",
       "      <td>LP001849</td>\n",
       "      <td>male</td>\n",
       "      <td>no</td>\n",
       "      <td>0.0</td>\n",
       "      <td>not_graduate</td>\n",
       "      <td>no</td>\n",
       "      <td>6045</td>\n",
       "      <td>0.0</td>\n",
       "      <td>115.0</td>\n",
       "      <td>360.0</td>\n",
       "      <td>0.0</td>\n",
       "      <td>rural</td>\n",
       "      <td>0</td>\n",
       "    </tr>\n",
       "    <tr>\n",
       "      <th>280</th>\n",
       "      <td>LP001910</td>\n",
       "      <td>male</td>\n",
       "      <td>no</td>\n",
       "      <td>1.0</td>\n",
       "      <td>not_graduate</td>\n",
       "      <td>yes</td>\n",
       "      <td>4053</td>\n",
       "      <td>2426.0</td>\n",
       "      <td>158.0</td>\n",
       "      <td>360.0</td>\n",
       "      <td>0.0</td>\n",
       "      <td>urban</td>\n",
       "      <td>0</td>\n",
       "    </tr>\n",
       "    <tr>\n",
       "      <th>291</th>\n",
       "      <td>LP001938</td>\n",
       "      <td>male</td>\n",
       "      <td>yes</td>\n",
       "      <td>2.0</td>\n",
       "      <td>graduate</td>\n",
       "      <td>no</td>\n",
       "      <td>4400</td>\n",
       "      <td>0.0</td>\n",
       "      <td>127.0</td>\n",
       "      <td>360.0</td>\n",
       "      <td>0.0</td>\n",
       "      <td>semiurban</td>\n",
       "      <td>0</td>\n",
       "    </tr>\n",
       "    <tr>\n",
       "      <th>293</th>\n",
       "      <td>LP001945</td>\n",
       "      <td>female</td>\n",
       "      <td>no</td>\n",
       "      <td>NaN</td>\n",
       "      <td>graduate</td>\n",
       "      <td>no</td>\n",
       "      <td>5417</td>\n",
       "      <td>0.0</td>\n",
       "      <td>143.0</td>\n",
       "      <td>480.0</td>\n",
       "      <td>0.0</td>\n",
       "      <td>urban</td>\n",
       "      <td>0</td>\n",
       "    </tr>\n",
       "    <tr>\n",
       "      <th>300</th>\n",
       "      <td>LP001964</td>\n",
       "      <td>male</td>\n",
       "      <td>yes</td>\n",
       "      <td>0.0</td>\n",
       "      <td>not_graduate</td>\n",
       "      <td>no</td>\n",
       "      <td>1800</td>\n",
       "      <td>2934.0</td>\n",
       "      <td>93.0</td>\n",
       "      <td>360.0</td>\n",
       "      <td>0.0</td>\n",
       "      <td>urban</td>\n",
       "      <td>0</td>\n",
       "    </tr>\n",
       "    <tr>\n",
       "      <th>307</th>\n",
       "      <td>LP001994</td>\n",
       "      <td>female</td>\n",
       "      <td>no</td>\n",
       "      <td>0.0</td>\n",
       "      <td>graduate</td>\n",
       "      <td>no</td>\n",
       "      <td>2400</td>\n",
       "      <td>1863.0</td>\n",
       "      <td>104.0</td>\n",
       "      <td>360.0</td>\n",
       "      <td>0.0</td>\n",
       "      <td>urban</td>\n",
       "      <td>0</td>\n",
       "    </tr>\n",
       "    <tr>\n",
       "      <th>346</th>\n",
       "      <td>LP002130</td>\n",
       "      <td>male</td>\n",
       "      <td>yes</td>\n",
       "      <td>NaN</td>\n",
       "      <td>not_graduate</td>\n",
       "      <td>no</td>\n",
       "      <td>3523</td>\n",
       "      <td>3230.0</td>\n",
       "      <td>152.0</td>\n",
       "      <td>360.0</td>\n",
       "      <td>0.0</td>\n",
       "      <td>rural</td>\n",
       "      <td>0</td>\n",
       "    </tr>\n",
       "    <tr>\n",
       "      <th>353</th>\n",
       "      <td>LP002142</td>\n",
       "      <td>female</td>\n",
       "      <td>yes</td>\n",
       "      <td>0.0</td>\n",
       "      <td>graduate</td>\n",
       "      <td>yes</td>\n",
       "      <td>5500</td>\n",
       "      <td>0.0</td>\n",
       "      <td>105.0</td>\n",
       "      <td>360.0</td>\n",
       "      <td>0.0</td>\n",
       "      <td>rural</td>\n",
       "      <td>0</td>\n",
       "    </tr>\n",
       "    <tr>\n",
       "      <th>358</th>\n",
       "      <td>LP002158</td>\n",
       "      <td>male</td>\n",
       "      <td>yes</td>\n",
       "      <td>0.0</td>\n",
       "      <td>not_graduate</td>\n",
       "      <td>no</td>\n",
       "      <td>3000</td>\n",
       "      <td>1666.0</td>\n",
       "      <td>100.0</td>\n",
       "      <td>480.0</td>\n",
       "      <td>0.0</td>\n",
       "      <td>urban</td>\n",
       "      <td>0</td>\n",
       "    </tr>\n",
       "    <tr>\n",
       "      <th>367</th>\n",
       "      <td>LP002188</td>\n",
       "      <td>male</td>\n",
       "      <td>no</td>\n",
       "      <td>0.0</td>\n",
       "      <td>graduate</td>\n",
       "      <td>no</td>\n",
       "      <td>5124</td>\n",
       "      <td>0.0</td>\n",
       "      <td>124.0</td>\n",
       "      <td>NaN</td>\n",
       "      <td>0.0</td>\n",
       "      <td>rural</td>\n",
       "      <td>0</td>\n",
       "    </tr>\n",
       "    <tr>\n",
       "      <th>373</th>\n",
       "      <td>LP002205</td>\n",
       "      <td>male</td>\n",
       "      <td>no</td>\n",
       "      <td>1.0</td>\n",
       "      <td>graduate</td>\n",
       "      <td>no</td>\n",
       "      <td>3062</td>\n",
       "      <td>1987.0</td>\n",
       "      <td>111.0</td>\n",
       "      <td>180.0</td>\n",
       "      <td>0.0</td>\n",
       "      <td>urban</td>\n",
       "      <td>0</td>\n",
       "    </tr>\n",
       "    <tr>\n",
       "      <th>396</th>\n",
       "      <td>LP002277</td>\n",
       "      <td>female</td>\n",
       "      <td>no</td>\n",
       "      <td>0.0</td>\n",
       "      <td>graduate</td>\n",
       "      <td>no</td>\n",
       "      <td>3180</td>\n",
       "      <td>0.0</td>\n",
       "      <td>71.0</td>\n",
       "      <td>360.0</td>\n",
       "      <td>0.0</td>\n",
       "      <td>urban</td>\n",
       "      <td>0</td>\n",
       "    </tr>\n",
       "    <tr>\n",
       "      <th>399</th>\n",
       "      <td>LP002287</td>\n",
       "      <td>female</td>\n",
       "      <td>no</td>\n",
       "      <td>0.0</td>\n",
       "      <td>graduate</td>\n",
       "      <td>no</td>\n",
       "      <td>1500</td>\n",
       "      <td>1800.0</td>\n",
       "      <td>103.0</td>\n",
       "      <td>360.0</td>\n",
       "      <td>0.0</td>\n",
       "      <td>semiurban</td>\n",
       "      <td>0</td>\n",
       "    </tr>\n",
       "    <tr>\n",
       "      <th>400</th>\n",
       "      <td>LP002288</td>\n",
       "      <td>male</td>\n",
       "      <td>yes</td>\n",
       "      <td>2.0</td>\n",
       "      <td>not_graduate</td>\n",
       "      <td>no</td>\n",
       "      <td>2889</td>\n",
       "      <td>0.0</td>\n",
       "      <td>45.0</td>\n",
       "      <td>180.0</td>\n",
       "      <td>0.0</td>\n",
       "      <td>urban</td>\n",
       "      <td>0</td>\n",
       "    </tr>\n",
       "    <tr>\n",
       "      <th>408</th>\n",
       "      <td>LP002315</td>\n",
       "      <td>male</td>\n",
       "      <td>yes</td>\n",
       "      <td>1.0</td>\n",
       "      <td>graduate</td>\n",
       "      <td>no</td>\n",
       "      <td>8300</td>\n",
       "      <td>0.0</td>\n",
       "      <td>152.0</td>\n",
       "      <td>300.0</td>\n",
       "      <td>0.0</td>\n",
       "      <td>semiurban</td>\n",
       "      <td>0</td>\n",
       "    </tr>\n",
       "    <tr>\n",
       "      <th>412</th>\n",
       "      <td>LP002328</td>\n",
       "      <td>male</td>\n",
       "      <td>yes</td>\n",
       "      <td>0.0</td>\n",
       "      <td>not_graduate</td>\n",
       "      <td>no</td>\n",
       "      <td>6096</td>\n",
       "      <td>0.0</td>\n",
       "      <td>218.0</td>\n",
       "      <td>360.0</td>\n",
       "      <td>0.0</td>\n",
       "      <td>rural</td>\n",
       "      <td>0</td>\n",
       "    </tr>\n",
       "    <tr>\n",
       "      <th>414</th>\n",
       "      <td>LP002335</td>\n",
       "      <td>female</td>\n",
       "      <td>yes</td>\n",
       "      <td>0.0</td>\n",
       "      <td>not_graduate</td>\n",
       "      <td>no</td>\n",
       "      <td>2149</td>\n",
       "      <td>3237.0</td>\n",
       "      <td>178.0</td>\n",
       "      <td>360.0</td>\n",
       "      <td>0.0</td>\n",
       "      <td>semiurban</td>\n",
       "      <td>0</td>\n",
       "    </tr>\n",
       "    <tr>\n",
       "      <th>421</th>\n",
       "      <td>LP002357</td>\n",
       "      <td>female</td>\n",
       "      <td>no</td>\n",
       "      <td>0.0</td>\n",
       "      <td>not_graduate</td>\n",
       "      <td>no</td>\n",
       "      <td>2720</td>\n",
       "      <td>0.0</td>\n",
       "      <td>80.0</td>\n",
       "      <td>NaN</td>\n",
       "      <td>0.0</td>\n",
       "      <td>urban</td>\n",
       "      <td>0</td>\n",
       "    </tr>\n",
       "    <tr>\n",
       "      <th>423</th>\n",
       "      <td>LP002362</td>\n",
       "      <td>male</td>\n",
       "      <td>yes</td>\n",
       "      <td>1.0</td>\n",
       "      <td>graduate</td>\n",
       "      <td>no</td>\n",
       "      <td>7250</td>\n",
       "      <td>1667.0</td>\n",
       "      <td>110.0</td>\n",
       "      <td>NaN</td>\n",
       "      <td>0.0</td>\n",
       "      <td>urban</td>\n",
       "      <td>0</td>\n",
       "    </tr>\n",
       "    <tr>\n",
       "      <th>431</th>\n",
       "      <td>LP002379</td>\n",
       "      <td>male</td>\n",
       "      <td>no</td>\n",
       "      <td>0.0</td>\n",
       "      <td>graduate</td>\n",
       "      <td>no</td>\n",
       "      <td>6500</td>\n",
       "      <td>0.0</td>\n",
       "      <td>105.0</td>\n",
       "      <td>360.0</td>\n",
       "      <td>0.0</td>\n",
       "      <td>rural</td>\n",
       "      <td>0</td>\n",
       "    </tr>\n",
       "    <tr>\n",
       "      <th>438</th>\n",
       "      <td>LP002403</td>\n",
       "      <td>male</td>\n",
       "      <td>no</td>\n",
       "      <td>0.0</td>\n",
       "      <td>graduate</td>\n",
       "      <td>yes</td>\n",
       "      <td>10416</td>\n",
       "      <td>0.0</td>\n",
       "      <td>187.0</td>\n",
       "      <td>360.0</td>\n",
       "      <td>0.0</td>\n",
       "      <td>urban</td>\n",
       "      <td>0</td>\n",
       "    </tr>\n",
       "  </tbody>\n",
       "</table>\n",
       "</div>"
      ],
      "text/plain": [
       "      loan_id  gender married  dependents     education self_employed  \\\n",
       "7    LP001014    male     yes         4.0      graduate            no   \n",
       "17   LP001036  female      no         0.0      graduate            no   \n",
       "20   LP001043    male     yes         0.0  not_graduate            no   \n",
       "22   LP001047    male     yes         0.0  not_graduate            no   \n",
       "23   LP001050     NaN     yes         2.0  not_graduate            no   \n",
       "36   LP001109    male     yes         0.0      graduate            no   \n",
       "48   LP001146  female     yes         0.0      graduate            no   \n",
       "54   LP001186  female     yes         1.0      graduate           yes   \n",
       "62   LP001207    male     yes         0.0  not_graduate           yes   \n",
       "64   LP001222  female      no         0.0      graduate            no   \n",
       "66   LP001228    male      no         0.0  not_graduate            no   \n",
       "69   LP001241  female      no         0.0      graduate            no   \n",
       "73   LP001250    male     yes         4.0  not_graduate            no   \n",
       "78   LP001263    male     yes         4.0      graduate            no   \n",
       "108  LP001379    male     yes         2.0      graduate            no   \n",
       "112  LP001391    male     yes         0.0  not_graduate            no   \n",
       "128  LP001451    male     yes         1.0      graduate           yes   \n",
       "138  LP001492    male      no         0.0      graduate            no   \n",
       "150  LP001528    male      no         0.0      graduate            no   \n",
       "162  LP001565    male     yes         1.0      graduate            no   \n",
       "168  LP001579    male      no         0.0      graduate            no   \n",
       "179  LP001630    male      no         0.0  not_graduate            no   \n",
       "180  LP001633    male     yes         1.0      graduate            no   \n",
       "186  LP001641    male     yes         1.0      graduate           yes   \n",
       "211  LP001711    male     yes         4.0      graduate            no   \n",
       "218  LP001732    male     yes         2.0      graduate           NaN   \n",
       "220  LP001736    male     yes         0.0      graduate            no   \n",
       "250  LP001835    male     yes         0.0  not_graduate            no   \n",
       "254  LP001844    male      no         0.0      graduate           yes   \n",
       "256  LP001849    male      no         0.0  not_graduate            no   \n",
       "280  LP001910    male      no         1.0  not_graduate           yes   \n",
       "291  LP001938    male     yes         2.0      graduate            no   \n",
       "293  LP001945  female      no         NaN      graduate            no   \n",
       "300  LP001964    male     yes         0.0  not_graduate            no   \n",
       "307  LP001994  female      no         0.0      graduate            no   \n",
       "346  LP002130    male     yes         NaN  not_graduate            no   \n",
       "353  LP002142  female     yes         0.0      graduate           yes   \n",
       "358  LP002158    male     yes         0.0  not_graduate            no   \n",
       "367  LP002188    male      no         0.0      graduate            no   \n",
       "373  LP002205    male      no         1.0      graduate            no   \n",
       "396  LP002277  female      no         0.0      graduate            no   \n",
       "399  LP002287  female      no         0.0      graduate            no   \n",
       "400  LP002288    male     yes         2.0  not_graduate            no   \n",
       "408  LP002315    male     yes         1.0      graduate            no   \n",
       "412  LP002328    male     yes         0.0  not_graduate            no   \n",
       "414  LP002335  female     yes         0.0  not_graduate            no   \n",
       "421  LP002357  female      no         0.0  not_graduate            no   \n",
       "423  LP002362    male     yes         1.0      graduate            no   \n",
       "431  LP002379    male      no         0.0      graduate            no   \n",
       "438  LP002403    male      no         0.0      graduate           yes   \n",
       "\n",
       "     applicantincome  coapplicantincome  loanamount  loan_amount_term  \\\n",
       "7               3036             2504.0       158.0             360.0   \n",
       "17              3510                0.0        76.0             360.0   \n",
       "20              7660                0.0       104.0             360.0   \n",
       "22              2600             1911.0       116.0             360.0   \n",
       "23              3365             1917.0       112.0             360.0   \n",
       "36              1828             1330.0       100.0               NaN   \n",
       "48              2645             3440.0       120.0             360.0   \n",
       "54             11500                0.0       286.0             360.0   \n",
       "62              2609             3449.0       165.0             180.0   \n",
       "64              4166                0.0       116.0             360.0   \n",
       "66              3200             2254.0       126.0             180.0   \n",
       "69              4300                0.0       136.0             360.0   \n",
       "73              4755                0.0        95.0               NaN   \n",
       "78              3167             4000.0       180.0             300.0   \n",
       "108             3800             3600.0       216.0             360.0   \n",
       "112             3572             4114.0       152.0               NaN   \n",
       "128            10513             3850.0       160.0             180.0   \n",
       "138            14999                0.0       242.0             360.0   \n",
       "150             6277                0.0       118.0             360.0   \n",
       "162             3089             1280.0       121.0             360.0   \n",
       "168             2237                0.0        63.0             480.0   \n",
       "179             2333             1451.0       102.0             480.0   \n",
       "180             6400             7250.0       180.0             360.0   \n",
       "186             2178                0.0        66.0             300.0   \n",
       "211             3430             1250.0       128.0             360.0   \n",
       "218             5000                0.0        72.0             360.0   \n",
       "220             2221                0.0        60.0             360.0   \n",
       "250             1668             3890.0       201.0             360.0   \n",
       "254            16250                0.0       192.0             360.0   \n",
       "256             6045                0.0       115.0             360.0   \n",
       "280             4053             2426.0       158.0             360.0   \n",
       "291             4400                0.0       127.0             360.0   \n",
       "293             5417                0.0       143.0             480.0   \n",
       "300             1800             2934.0        93.0             360.0   \n",
       "307             2400             1863.0       104.0             360.0   \n",
       "346             3523             3230.0       152.0             360.0   \n",
       "353             5500                0.0       105.0             360.0   \n",
       "358             3000             1666.0       100.0             480.0   \n",
       "367             5124                0.0       124.0               NaN   \n",
       "373             3062             1987.0       111.0             180.0   \n",
       "396             3180                0.0        71.0             360.0   \n",
       "399             1500             1800.0       103.0             360.0   \n",
       "400             2889                0.0        45.0             180.0   \n",
       "408             8300                0.0       152.0             300.0   \n",
       "412             6096                0.0       218.0             360.0   \n",
       "414             2149             3237.0       178.0             360.0   \n",
       "421             2720                0.0        80.0               NaN   \n",
       "423             7250             1667.0       110.0               NaN   \n",
       "431             6500                0.0       105.0             360.0   \n",
       "438            10416                0.0       187.0             360.0   \n",
       "\n",
       "     credit_history property_area  loan_status  \n",
       "7               0.0     semiurban            0  \n",
       "17              0.0         urban            0  \n",
       "20              0.0         urban            0  \n",
       "22              0.0     semiurban            0  \n",
       "23              0.0         rural            0  \n",
       "36              0.0         urban            0  \n",
       "48              0.0         urban            0  \n",
       "54              0.0         urban            0  \n",
       "62              0.0         rural            0  \n",
       "64              0.0     semiurban            0  \n",
       "66              0.0         urban            0  \n",
       "69              0.0     semiurban            0  \n",
       "73              0.0     semiurban            0  \n",
       "78              0.0     semiurban            0  \n",
       "108             0.0         urban            0  \n",
       "112             0.0         rural            0  \n",
       "128             0.0         urban            0  \n",
       "138             0.0     semiurban            0  \n",
       "150             0.0         rural            0  \n",
       "162             0.0     semiurban            0  \n",
       "168             0.0     semiurban            0  \n",
       "179             0.0         urban            0  \n",
       "180             0.0         urban            0  \n",
       "186             0.0         rural            0  \n",
       "211             0.0     semiurban            0  \n",
       "218             0.0     semiurban            0  \n",
       "220             0.0         urban            0  \n",
       "250             0.0     semiurban            0  \n",
       "254             0.0         urban            0  \n",
       "256             0.0         rural            0  \n",
       "280             0.0         urban            0  \n",
       "291             0.0     semiurban            0  \n",
       "293             0.0         urban            0  \n",
       "300             0.0         urban            0  \n",
       "307             0.0         urban            0  \n",
       "346             0.0         rural            0  \n",
       "353             0.0         rural            0  \n",
       "358             0.0         urban            0  \n",
       "367             0.0         rural            0  \n",
       "373             0.0         urban            0  \n",
       "396             0.0         urban            0  \n",
       "399             0.0     semiurban            0  \n",
       "400             0.0         urban            0  \n",
       "408             0.0     semiurban            0  \n",
       "412             0.0         rural            0  \n",
       "414             0.0     semiurban            0  \n",
       "421             0.0         urban            0  \n",
       "423             0.0         urban            0  \n",
       "431             0.0         rural            0  \n",
       "438             0.0         urban            0  "
      ]
     },
     "execution_count": 29,
     "metadata": {},
     "output_type": "execute_result"
    }
   ],
   "source": [
    "loans[(loans.loan_status == 0) & (loans.loanamount < 300) & (loans.credit_history == 0 & (loans.education == 0))].head(50)"
   ]
  },
  {
   "cell_type": "code",
   "execution_count": 30,
   "id": "4b638492",
   "metadata": {
    "scrolled": false
   },
   "outputs": [
    {
     "data": {
      "application/vnd.microsoft.datawrangler.viewer.v0+json": {
       "columns": [
        {
         "name": "index",
         "rawType": "int64",
         "type": "integer"
        },
        {
         "name": "loan_id",
         "rawType": "object",
         "type": "string"
        },
        {
         "name": "gender",
         "rawType": "object",
         "type": "string"
        },
        {
         "name": "married",
         "rawType": "object",
         "type": "string"
        },
        {
         "name": "dependents",
         "rawType": "float64",
         "type": "float"
        },
        {
         "name": "education",
         "rawType": "object",
         "type": "string"
        },
        {
         "name": "self_employed",
         "rawType": "object",
         "type": "string"
        },
        {
         "name": "applicantincome",
         "rawType": "int64",
         "type": "integer"
        },
        {
         "name": "coapplicantincome",
         "rawType": "float64",
         "type": "float"
        },
        {
         "name": "loanamount",
         "rawType": "float64",
         "type": "float"
        },
        {
         "name": "loan_amount_term",
         "rawType": "float64",
         "type": "float"
        },
        {
         "name": "credit_history",
         "rawType": "float64",
         "type": "float"
        },
        {
         "name": "property_area",
         "rawType": "object",
         "type": "string"
        },
        {
         "name": "loan_status",
         "rawType": "int32",
         "type": "integer"
        }
       ],
       "conversionMethod": "pd.DataFrame",
       "ref": "39689ed7-81bf-4ba2-acd5-46495c4181ce",
       "rows": [],
       "shape": {
        "columns": 13,
        "rows": 0
       }
      },
      "text/html": [
       "<div>\n",
       "<style scoped>\n",
       "    .dataframe tbody tr th:only-of-type {\n",
       "        vertical-align: middle;\n",
       "    }\n",
       "\n",
       "    .dataframe tbody tr th {\n",
       "        vertical-align: top;\n",
       "    }\n",
       "\n",
       "    .dataframe thead th {\n",
       "        text-align: right;\n",
       "    }\n",
       "</style>\n",
       "<table border=\"1\" class=\"dataframe\">\n",
       "  <thead>\n",
       "    <tr style=\"text-align: right;\">\n",
       "      <th></th>\n",
       "      <th>loan_id</th>\n",
       "      <th>gender</th>\n",
       "      <th>married</th>\n",
       "      <th>dependents</th>\n",
       "      <th>education</th>\n",
       "      <th>self_employed</th>\n",
       "      <th>applicantincome</th>\n",
       "      <th>coapplicantincome</th>\n",
       "      <th>loanamount</th>\n",
       "      <th>loan_amount_term</th>\n",
       "      <th>credit_history</th>\n",
       "      <th>property_area</th>\n",
       "      <th>loan_status</th>\n",
       "    </tr>\n",
       "  </thead>\n",
       "  <tbody>\n",
       "  </tbody>\n",
       "</table>\n",
       "</div>"
      ],
      "text/plain": [
       "Empty DataFrame\n",
       "Columns: [loan_id, gender, married, dependents, education, self_employed, applicantincome, coapplicantincome, loanamount, loan_amount_term, credit_history, property_area, loan_status]\n",
       "Index: []"
      ]
     },
     "execution_count": 30,
     "metadata": {},
     "output_type": "execute_result"
    }
   ],
   "source": [
    "loans[(loans.applicantincome < 100 )&(loans.loan_amount_term < 200 )&(loans.loan_status == 0 ) ].head(50)"
   ]
  },
  {
   "cell_type": "code",
   "execution_count": 31,
   "id": "b98f99c4",
   "metadata": {
    "scrolled": true
   },
   "outputs": [
    {
     "data": {
      "application/vnd.microsoft.datawrangler.viewer.v0+json": {
       "columns": [
        {
         "name": "index",
         "rawType": "int64",
         "type": "integer"
        },
        {
         "name": "loan_id",
         "rawType": "object",
         "type": "string"
        },
        {
         "name": "gender",
         "rawType": "object",
         "type": "string"
        },
        {
         "name": "married",
         "rawType": "object",
         "type": "string"
        },
        {
         "name": "dependents",
         "rawType": "float64",
         "type": "float"
        },
        {
         "name": "education",
         "rawType": "object",
         "type": "string"
        },
        {
         "name": "self_employed",
         "rawType": "object",
         "type": "string"
        },
        {
         "name": "applicantincome",
         "rawType": "int64",
         "type": "integer"
        },
        {
         "name": "coapplicantincome",
         "rawType": "float64",
         "type": "float"
        },
        {
         "name": "loanamount",
         "rawType": "float64",
         "type": "float"
        },
        {
         "name": "loan_amount_term",
         "rawType": "float64",
         "type": "float"
        },
        {
         "name": "credit_history",
         "rawType": "float64",
         "type": "float"
        },
        {
         "name": "property_area",
         "rawType": "object",
         "type": "string"
        },
        {
         "name": "loan_status",
         "rawType": "int32",
         "type": "integer"
        }
       ],
       "conversionMethod": "pd.DataFrame",
       "ref": "e4a0771e-4bf8-45d2-9a80-214ff3da96a2",
       "rows": [
        [
         "122",
         "LP001431",
         "female",
         "no",
         "0.0",
         "graduate",
         "no",
         "2137",
         "8980.0",
         "137.0",
         "360.0",
         "0.0",
         "semiurban",
         "1"
        ],
        [
         "155",
         "LP001536",
         "male",
         "yes",
         "4.0",
         "graduate",
         "no",
         "39999",
         "0.0",
         "600.0",
         "180.0",
         "0.0",
         "semiurban",
         "1"
        ],
        [
         "201",
         "LP001677",
         "male",
         "no",
         "2.0",
         "graduate",
         "no",
         "4923",
         "0.0",
         "166.0",
         "360.0",
         "0.0",
         "semiurban",
         "1"
        ],
        [
         "267",
         "LP001882",
         "male",
         "yes",
         "4.0",
         "graduate",
         "no",
         "4333",
         "1811.0",
         "160.0",
         "360.0",
         "0.0",
         "urban",
         "1"
        ],
        [
         "326",
         "LP002068",
         "male",
         "no",
         "0.0",
         "graduate",
         "no",
         "4917",
         "0.0",
         "130.0",
         "360.0",
         "0.0",
         "rural",
         "1"
        ],
        [
         "453",
         "LP002449",
         "male",
         "yes",
         "0.0",
         "graduate",
         "no",
         "2483",
         "2466.0",
         "90.0",
         "180.0",
         "0.0",
         "rural",
         "1"
        ],
        [
         "527",
         "LP002706",
         "male",
         "yes",
         "1.0",
         "not_graduate",
         "no",
         "5285",
         "1430.0",
         "161.0",
         "360.0",
         "0.0",
         "semiurban",
         "1"
        ]
       ],
       "shape": {
        "columns": 13,
        "rows": 7
       }
      },
      "text/html": [
       "<div>\n",
       "<style scoped>\n",
       "    .dataframe tbody tr th:only-of-type {\n",
       "        vertical-align: middle;\n",
       "    }\n",
       "\n",
       "    .dataframe tbody tr th {\n",
       "        vertical-align: top;\n",
       "    }\n",
       "\n",
       "    .dataframe thead th {\n",
       "        text-align: right;\n",
       "    }\n",
       "</style>\n",
       "<table border=\"1\" class=\"dataframe\">\n",
       "  <thead>\n",
       "    <tr style=\"text-align: right;\">\n",
       "      <th></th>\n",
       "      <th>loan_id</th>\n",
       "      <th>gender</th>\n",
       "      <th>married</th>\n",
       "      <th>dependents</th>\n",
       "      <th>education</th>\n",
       "      <th>self_employed</th>\n",
       "      <th>applicantincome</th>\n",
       "      <th>coapplicantincome</th>\n",
       "      <th>loanamount</th>\n",
       "      <th>loan_amount_term</th>\n",
       "      <th>credit_history</th>\n",
       "      <th>property_area</th>\n",
       "      <th>loan_status</th>\n",
       "    </tr>\n",
       "  </thead>\n",
       "  <tbody>\n",
       "    <tr>\n",
       "      <th>122</th>\n",
       "      <td>LP001431</td>\n",
       "      <td>female</td>\n",
       "      <td>no</td>\n",
       "      <td>0.0</td>\n",
       "      <td>graduate</td>\n",
       "      <td>no</td>\n",
       "      <td>2137</td>\n",
       "      <td>8980.0</td>\n",
       "      <td>137.0</td>\n",
       "      <td>360.0</td>\n",
       "      <td>0.0</td>\n",
       "      <td>semiurban</td>\n",
       "      <td>1</td>\n",
       "    </tr>\n",
       "    <tr>\n",
       "      <th>155</th>\n",
       "      <td>LP001536</td>\n",
       "      <td>male</td>\n",
       "      <td>yes</td>\n",
       "      <td>4.0</td>\n",
       "      <td>graduate</td>\n",
       "      <td>no</td>\n",
       "      <td>39999</td>\n",
       "      <td>0.0</td>\n",
       "      <td>600.0</td>\n",
       "      <td>180.0</td>\n",
       "      <td>0.0</td>\n",
       "      <td>semiurban</td>\n",
       "      <td>1</td>\n",
       "    </tr>\n",
       "    <tr>\n",
       "      <th>201</th>\n",
       "      <td>LP001677</td>\n",
       "      <td>male</td>\n",
       "      <td>no</td>\n",
       "      <td>2.0</td>\n",
       "      <td>graduate</td>\n",
       "      <td>no</td>\n",
       "      <td>4923</td>\n",
       "      <td>0.0</td>\n",
       "      <td>166.0</td>\n",
       "      <td>360.0</td>\n",
       "      <td>0.0</td>\n",
       "      <td>semiurban</td>\n",
       "      <td>1</td>\n",
       "    </tr>\n",
       "    <tr>\n",
       "      <th>267</th>\n",
       "      <td>LP001882</td>\n",
       "      <td>male</td>\n",
       "      <td>yes</td>\n",
       "      <td>4.0</td>\n",
       "      <td>graduate</td>\n",
       "      <td>no</td>\n",
       "      <td>4333</td>\n",
       "      <td>1811.0</td>\n",
       "      <td>160.0</td>\n",
       "      <td>360.0</td>\n",
       "      <td>0.0</td>\n",
       "      <td>urban</td>\n",
       "      <td>1</td>\n",
       "    </tr>\n",
       "    <tr>\n",
       "      <th>326</th>\n",
       "      <td>LP002068</td>\n",
       "      <td>male</td>\n",
       "      <td>no</td>\n",
       "      <td>0.0</td>\n",
       "      <td>graduate</td>\n",
       "      <td>no</td>\n",
       "      <td>4917</td>\n",
       "      <td>0.0</td>\n",
       "      <td>130.0</td>\n",
       "      <td>360.0</td>\n",
       "      <td>0.0</td>\n",
       "      <td>rural</td>\n",
       "      <td>1</td>\n",
       "    </tr>\n",
       "    <tr>\n",
       "      <th>453</th>\n",
       "      <td>LP002449</td>\n",
       "      <td>male</td>\n",
       "      <td>yes</td>\n",
       "      <td>0.0</td>\n",
       "      <td>graduate</td>\n",
       "      <td>no</td>\n",
       "      <td>2483</td>\n",
       "      <td>2466.0</td>\n",
       "      <td>90.0</td>\n",
       "      <td>180.0</td>\n",
       "      <td>0.0</td>\n",
       "      <td>rural</td>\n",
       "      <td>1</td>\n",
       "    </tr>\n",
       "    <tr>\n",
       "      <th>527</th>\n",
       "      <td>LP002706</td>\n",
       "      <td>male</td>\n",
       "      <td>yes</td>\n",
       "      <td>1.0</td>\n",
       "      <td>not_graduate</td>\n",
       "      <td>no</td>\n",
       "      <td>5285</td>\n",
       "      <td>1430.0</td>\n",
       "      <td>161.0</td>\n",
       "      <td>360.0</td>\n",
       "      <td>0.0</td>\n",
       "      <td>semiurban</td>\n",
       "      <td>1</td>\n",
       "    </tr>\n",
       "  </tbody>\n",
       "</table>\n",
       "</div>"
      ],
      "text/plain": [
       "      loan_id  gender married  dependents     education self_employed  \\\n",
       "122  LP001431  female      no         0.0      graduate            no   \n",
       "155  LP001536    male     yes         4.0      graduate            no   \n",
       "201  LP001677    male      no         2.0      graduate            no   \n",
       "267  LP001882    male     yes         4.0      graduate            no   \n",
       "326  LP002068    male      no         0.0      graduate            no   \n",
       "453  LP002449    male     yes         0.0      graduate            no   \n",
       "527  LP002706    male     yes         1.0  not_graduate            no   \n",
       "\n",
       "     applicantincome  coapplicantincome  loanamount  loan_amount_term  \\\n",
       "122             2137             8980.0       137.0             360.0   \n",
       "155            39999                0.0       600.0             180.0   \n",
       "201             4923                0.0       166.0             360.0   \n",
       "267             4333             1811.0       160.0             360.0   \n",
       "326             4917                0.0       130.0             360.0   \n",
       "453             2483             2466.0        90.0             180.0   \n",
       "527             5285             1430.0       161.0             360.0   \n",
       "\n",
       "     credit_history property_area  loan_status  \n",
       "122             0.0     semiurban            1  \n",
       "155             0.0     semiurban            1  \n",
       "201             0.0     semiurban            1  \n",
       "267             0.0         urban            1  \n",
       "326             0.0         rural            1  \n",
       "453             0.0         rural            1  \n",
       "527             0.0     semiurban            1  "
      ]
     },
     "execution_count": 31,
     "metadata": {},
     "output_type": "execute_result"
    }
   ],
   "source": [
    "loans[(loans.applicantincome  < 200)& (loans.loanamount > 200)]  \n",
    "loans[(loans.credit_history  ==  0)& (loans.loan_status == 1)]  "
   ]
  },
  {
   "cell_type": "code",
   "execution_count": 32,
   "id": "aea2828a",
   "metadata": {
    "scrolled": false
   },
   "outputs": [
    {
     "data": {
      "text/plain": [
       "<Axes: xlabel='applicantincome', ylabel='loanamount'>"
      ]
     },
     "execution_count": 32,
     "metadata": {},
     "output_type": "execute_result"
    },
    {
     "data": {
      "image/png": "[encoded data removed]",
      "text/plain": [
       "<Figure size 640x480 with 1 Axes>"
      ]
     },
     "metadata": {},
     "output_type": "display_data"
    }
   ],
   "source": [
    "sns.scatterplot(x='applicantincome', y='loanamount', data=loans , hue = 'loan_amount_term')"
   ]
  },
  {
   "cell_type": "code",
   "execution_count": 33,
   "id": "7a70c14a",
   "metadata": {
    "scrolled": true
   },
   "outputs": [
    {
     "data": {
      "application/vnd.microsoft.datawrangler.viewer.v0+json": {
       "columns": [
        {
         "name": "index",
         "rawType": "int64",
         "type": "integer"
        },
        {
         "name": "loan_id",
         "rawType": "object",
         "type": "string"
        },
        {
         "name": "gender",
         "rawType": "object",
         "type": "string"
        },
        {
         "name": "married",
         "rawType": "object",
         "type": "string"
        },
        {
         "name": "dependents",
         "rawType": "float64",
         "type": "float"
        },
        {
         "name": "education",
         "rawType": "object",
         "type": "string"
        },
        {
         "name": "self_employed",
         "rawType": "object",
         "type": "string"
        },
        {
         "name": "applicantincome",
         "rawType": "int64",
         "type": "integer"
        },
        {
         "name": "coapplicantincome",
         "rawType": "float64",
         "type": "float"
        },
        {
         "name": "loanamount",
         "rawType": "float64",
         "type": "float"
        },
        {
         "name": "loan_amount_term",
         "rawType": "float64",
         "type": "float"
        },
        {
         "name": "credit_history",
         "rawType": "float64",
         "type": "float"
        },
        {
         "name": "property_area",
         "rawType": "object",
         "type": "string"
        },
        {
         "name": "loan_status",
         "rawType": "int32",
         "type": "integer"
        }
       ],
       "conversionMethod": "pd.DataFrame",
       "ref": "93dac513-dc7a-435e-8ffe-0c44d7edee9c",
       "rows": [
        [
         "122",
         "LP001431",
         "female",
         "no",
         "0.0",
         "graduate",
         "no",
         "2137",
         "8980.0",
         "137.0",
         "360.0",
         "0.0",
         "semiurban",
         "1"
        ],
        [
         "155",
         "LP001536",
         "male",
         "yes",
         "4.0",
         "graduate",
         "no",
         "39999",
         "0.0",
         "600.0",
         "180.0",
         "0.0",
         "semiurban",
         "1"
        ],
        [
         "201",
         "LP001677",
         "male",
         "no",
         "2.0",
         "graduate",
         "no",
         "4923",
         "0.0",
         "166.0",
         "360.0",
         "0.0",
         "semiurban",
         "1"
        ],
        [
         "267",
         "LP001882",
         "male",
         "yes",
         "4.0",
         "graduate",
         "no",
         "4333",
         "1811.0",
         "160.0",
         "360.0",
         "0.0",
         "urban",
         "1"
        ],
        [
         "326",
         "LP002068",
         "male",
         "no",
         "0.0",
         "graduate",
         "no",
         "4917",
         "0.0",
         "130.0",
         "360.0",
         "0.0",
         "rural",
         "1"
        ],
        [
         "453",
         "LP002449",
         "male",
         "yes",
         "0.0",
         "graduate",
         "no",
         "2483",
         "2466.0",
         "90.0",
         "180.0",
         "0.0",
         "rural",
         "1"
        ],
        [
         "527",
         "LP002706",
         "male",
         "yes",
         "1.0",
         "not_graduate",
         "no",
         "5285",
         "1430.0",
         "161.0",
         "360.0",
         "0.0",
         "semiurban",
         "1"
        ]
       ],
       "shape": {
        "columns": 13,
        "rows": 7
       }
      },
      "text/html": [
       "<div>\n",
       "<style scoped>\n",
       "    .dataframe tbody tr th:only-of-type {\n",
       "        vertical-align: middle;\n",
       "    }\n",
       "\n",
       "    .dataframe tbody tr th {\n",
       "        vertical-align: top;\n",
       "    }\n",
       "\n",
       "    .dataframe thead th {\n",
       "        text-align: right;\n",
       "    }\n",
       "</style>\n",
       "<table border=\"1\" class=\"dataframe\">\n",
       "  <thead>\n",
       "    <tr style=\"text-align: right;\">\n",
       "      <th></th>\n",
       "      <th>loan_id</th>\n",
       "      <th>gender</th>\n",
       "      <th>married</th>\n",
       "      <th>dependents</th>\n",
       "      <th>education</th>\n",
       "      <th>self_employed</th>\n",
       "      <th>applicantincome</th>\n",
       "      <th>coapplicantincome</th>\n",
       "      <th>loanamount</th>\n",
       "      <th>loan_amount_term</th>\n",
       "      <th>credit_history</th>\n",
       "      <th>property_area</th>\n",
       "      <th>loan_status</th>\n",
       "    </tr>\n",
       "  </thead>\n",
       "  <tbody>\n",
       "    <tr>\n",
       "      <th>122</th>\n",
       "      <td>LP001431</td>\n",
       "      <td>female</td>\n",
       "      <td>no</td>\n",
       "      <td>0.0</td>\n",
       "      <td>graduate</td>\n",
       "      <td>no</td>\n",
       "      <td>2137</td>\n",
       "      <td>8980.0</td>\n",
       "      <td>137.0</td>\n",
       "      <td>360.0</td>\n",
       "      <td>0.0</td>\n",
       "      <td>semiurban</td>\n",
       "      <td>1</td>\n",
       "    </tr>\n",
       "    <tr>\n",
       "      <th>155</th>\n",
       "      <td>LP001536</td>\n",
       "      <td>male</td>\n",
       "      <td>yes</td>\n",
       "      <td>4.0</td>\n",
       "      <td>graduate</td>\n",
       "      <td>no</td>\n",
       "      <td>39999</td>\n",
       "      <td>0.0</td>\n",
       "      <td>600.0</td>\n",
       "      <td>180.0</td>\n",
       "      <td>0.0</td>\n",
       "      <td>semiurban</td>\n",
       "      <td>1</td>\n",
       "    </tr>\n",
       "    <tr>\n",
       "      <th>201</th>\n",
       "      <td>LP001677</td>\n",
       "      <td>male</td>\n",
       "      <td>no</td>\n",
       "      <td>2.0</td>\n",
       "      <td>graduate</td>\n",
       "      <td>no</td>\n",
       "      <td>4923</td>\n",
       "      <td>0.0</td>\n",
       "      <td>166.0</td>\n",
       "      <td>360.0</td>\n",
       "      <td>0.0</td>\n",
       "      <td>semiurban</td>\n",
       "      <td>1</td>\n",
       "    </tr>\n",
       "    <tr>\n",
       "      <th>267</th>\n",
       "      <td>LP001882</td>\n",
       "      <td>male</td>\n",
       "      <td>yes</td>\n",
       "      <td>4.0</td>\n",
       "      <td>graduate</td>\n",
       "      <td>no</td>\n",
       "      <td>4333</td>\n",
       "      <td>1811.0</td>\n",
       "      <td>160.0</td>\n",
       "      <td>360.0</td>\n",
       "      <td>0.0</td>\n",
       "      <td>urban</td>\n",
       "      <td>1</td>\n",
       "    </tr>\n",
       "    <tr>\n",
       "      <th>326</th>\n",
       "      <td>LP002068</td>\n",
       "      <td>male</td>\n",
       "      <td>no</td>\n",
       "      <td>0.0</td>\n",
       "      <td>graduate</td>\n",
       "      <td>no</td>\n",
       "      <td>4917</td>\n",
       "      <td>0.0</td>\n",
       "      <td>130.0</td>\n",
       "      <td>360.0</td>\n",
       "      <td>0.0</td>\n",
       "      <td>rural</td>\n",
       "      <td>1</td>\n",
       "    </tr>\n",
       "    <tr>\n",
       "      <th>453</th>\n",
       "      <td>LP002449</td>\n",
       "      <td>male</td>\n",
       "      <td>yes</td>\n",
       "      <td>0.0</td>\n",
       "      <td>graduate</td>\n",
       "      <td>no</td>\n",
       "      <td>2483</td>\n",
       "      <td>2466.0</td>\n",
       "      <td>90.0</td>\n",
       "      <td>180.0</td>\n",
       "      <td>0.0</td>\n",
       "      <td>rural</td>\n",
       "      <td>1</td>\n",
       "    </tr>\n",
       "    <tr>\n",
       "      <th>527</th>\n",
       "      <td>LP002706</td>\n",
       "      <td>male</td>\n",
       "      <td>yes</td>\n",
       "      <td>1.0</td>\n",
       "      <td>not_graduate</td>\n",
       "      <td>no</td>\n",
       "      <td>5285</td>\n",
       "      <td>1430.0</td>\n",
       "      <td>161.0</td>\n",
       "      <td>360.0</td>\n",
       "      <td>0.0</td>\n",
       "      <td>semiurban</td>\n",
       "      <td>1</td>\n",
       "    </tr>\n",
       "  </tbody>\n",
       "</table>\n",
       "</div>"
      ],
      "text/plain": [
       "      loan_id  gender married  dependents     education self_employed  \\\n",
       "122  LP001431  female      no         0.0      graduate            no   \n",
       "155  LP001536    male     yes         4.0      graduate            no   \n",
       "201  LP001677    male      no         2.0      graduate            no   \n",
       "267  LP001882    male     yes         4.0      graduate            no   \n",
       "326  LP002068    male      no         0.0      graduate            no   \n",
       "453  LP002449    male     yes         0.0      graduate            no   \n",
       "527  LP002706    male     yes         1.0  not_graduate            no   \n",
       "\n",
       "     applicantincome  coapplicantincome  loanamount  loan_amount_term  \\\n",
       "122             2137             8980.0       137.0             360.0   \n",
       "155            39999                0.0       600.0             180.0   \n",
       "201             4923                0.0       166.0             360.0   \n",
       "267             4333             1811.0       160.0             360.0   \n",
       "326             4917                0.0       130.0             360.0   \n",
       "453             2483             2466.0        90.0             180.0   \n",
       "527             5285             1430.0       161.0             360.0   \n",
       "\n",
       "     credit_history property_area  loan_status  \n",
       "122             0.0     semiurban            1  \n",
       "155             0.0     semiurban            1  \n",
       "201             0.0     semiurban            1  \n",
       "267             0.0         urban            1  \n",
       "326             0.0         rural            1  \n",
       "453             0.0         rural            1  \n",
       "527             0.0     semiurban            1  "
      ]
     },
     "execution_count": 33,
     "metadata": {},
     "output_type": "execute_result"
    }
   ],
   "source": [
    "loans[(loans.loan_status == 1) & (loans.credit_history == 0)]"
   ]
  },
  {
   "cell_type": "code",
   "execution_count": 34,
   "id": "4cfcffec",
   "metadata": {
    "scrolled": true
   },
   "outputs": [
    {
     "data": {
      "application/vnd.microsoft.datawrangler.viewer.v0+json": {
       "columns": [
        {
         "name": "loan_status",
         "rawType": "int32",
         "type": "integer"
        },
        {
         "name": "0.0",
         "rawType": "int64",
         "type": "integer"
        },
        {
         "name": "1.0",
         "rawType": "int64",
         "type": "integer"
        }
       ],
       "conversionMethod": "pd.DataFrame",
       "ref": "9b45a57a-0335-4b5e-824d-d7b59378fc7a",
       "rows": [
        [
         "0",
         "82",
         "97"
        ],
        [
         "1",
         "7",
         "378"
        ]
       ],
       "shape": {
        "columns": 2,
        "rows": 2
       }
      },
      "text/html": [
       "<div>\n",
       "<style scoped>\n",
       "    .dataframe tbody tr th:only-of-type {\n",
       "        vertical-align: middle;\n",
       "    }\n",
       "\n",
       "    .dataframe tbody tr th {\n",
       "        vertical-align: top;\n",
       "    }\n",
       "\n",
       "    .dataframe thead th {\n",
       "        text-align: right;\n",
       "    }\n",
       "</style>\n",
       "<table border=\"1\" class=\"dataframe\">\n",
       "  <thead>\n",
       "    <tr style=\"text-align: right;\">\n",
       "      <th>credit_history</th>\n",
       "      <th>0.0</th>\n",
       "      <th>1.0</th>\n",
       "    </tr>\n",
       "    <tr>\n",
       "      <th>loan_status</th>\n",
       "      <th></th>\n",
       "      <th></th>\n",
       "    </tr>\n",
       "  </thead>\n",
       "  <tbody>\n",
       "    <tr>\n",
       "      <th>0</th>\n",
       "      <td>82</td>\n",
       "      <td>97</td>\n",
       "    </tr>\n",
       "    <tr>\n",
       "      <th>1</th>\n",
       "      <td>7</td>\n",
       "      <td>378</td>\n",
       "    </tr>\n",
       "  </tbody>\n",
       "</table>\n",
       "</div>"
      ],
      "text/plain": [
       "credit_history  0.0  1.0\n",
       "loan_status             \n",
       "0                82   97\n",
       "1                 7  378"
      ]
     },
     "execution_count": 34,
     "metadata": {},
     "output_type": "execute_result"
    }
   ],
   "source": [
    "pd.crosstab(loans.loan_status,loans.credit_history)"
   ]
  },
  {
   "cell_type": "code",
   "execution_count": 35,
   "id": "2ec535bc",
   "metadata": {
    "scrolled": true
   },
   "outputs": [
    {
     "data": {
      "application/vnd.microsoft.datawrangler.viewer.v0+json": {
       "columns": [
        {
         "name": "loan_amount_term",
         "rawType": "float64",
         "type": "float"
        },
        {
         "name": "0.0",
         "rawType": "int64",
         "type": "integer"
        },
        {
         "name": "1.0",
         "rawType": "int64",
         "type": "integer"
        },
        {
         "name": "2.0",
         "rawType": "int64",
         "type": "integer"
        },
        {
         "name": "4.0",
         "rawType": "int64",
         "type": "integer"
        }
       ],
       "conversionMethod": "pd.DataFrame",
       "ref": "26beac7d-df3a-4ed2-b0ad-afd9e98785c0",
       "rows": [
        [
         "36.0",
         "1",
         "1",
         "0",
         "0"
        ],
        [
         "84.0",
         "0",
         "1",
         "0",
         "0"
        ],
        [
         "180.0",
         "3",
         "1",
         "0",
         "2"
        ],
        [
         "240.0",
         "0",
         "0",
         "1",
         "0"
        ],
        [
         "300.0",
         "2",
         "0",
         "0",
         "0"
        ],
        [
         "360.0",
         "50",
         "14",
         "10",
         "5"
        ],
        [
         "480.0",
         "4",
         "0",
         "1",
         "0"
        ]
       ],
       "shape": {
        "columns": 4,
        "rows": 7
       }
      },
      "text/html": [
       "<div>\n",
       "<style scoped>\n",
       "    .dataframe tbody tr th:only-of-type {\n",
       "        vertical-align: middle;\n",
       "    }\n",
       "\n",
       "    .dataframe tbody tr th {\n",
       "        vertical-align: top;\n",
       "    }\n",
       "\n",
       "    .dataframe thead th {\n",
       "        text-align: right;\n",
       "    }\n",
       "</style>\n",
       "<table border=\"1\" class=\"dataframe\">\n",
       "  <thead>\n",
       "    <tr style=\"text-align: right;\">\n",
       "      <th>dependents</th>\n",
       "      <th>0.0</th>\n",
       "      <th>1.0</th>\n",
       "      <th>2.0</th>\n",
       "      <th>4.0</th>\n",
       "    </tr>\n",
       "    <tr>\n",
       "      <th>loan_amount_term</th>\n",
       "      <th></th>\n",
       "      <th></th>\n",
       "      <th></th>\n",
       "      <th></th>\n",
       "    </tr>\n",
       "  </thead>\n",
       "  <tbody>\n",
       "    <tr>\n",
       "      <th>36.0</th>\n",
       "      <td>1</td>\n",
       "      <td>1</td>\n",
       "      <td>0</td>\n",
       "      <td>0</td>\n",
       "    </tr>\n",
       "    <tr>\n",
       "      <th>84.0</th>\n",
       "      <td>0</td>\n",
       "      <td>1</td>\n",
       "      <td>0</td>\n",
       "      <td>0</td>\n",
       "    </tr>\n",
       "    <tr>\n",
       "      <th>180.0</th>\n",
       "      <td>3</td>\n",
       "      <td>1</td>\n",
       "      <td>0</td>\n",
       "      <td>2</td>\n",
       "    </tr>\n",
       "    <tr>\n",
       "      <th>240.0</th>\n",
       "      <td>0</td>\n",
       "      <td>0</td>\n",
       "      <td>1</td>\n",
       "      <td>0</td>\n",
       "    </tr>\n",
       "    <tr>\n",
       "      <th>300.0</th>\n",
       "      <td>2</td>\n",
       "      <td>0</td>\n",
       "      <td>0</td>\n",
       "      <td>0</td>\n",
       "    </tr>\n",
       "    <tr>\n",
       "      <th>360.0</th>\n",
       "      <td>50</td>\n",
       "      <td>14</td>\n",
       "      <td>10</td>\n",
       "      <td>5</td>\n",
       "    </tr>\n",
       "    <tr>\n",
       "      <th>480.0</th>\n",
       "      <td>4</td>\n",
       "      <td>0</td>\n",
       "      <td>1</td>\n",
       "      <td>0</td>\n",
       "    </tr>\n",
       "  </tbody>\n",
       "</table>\n",
       "</div>"
      ],
      "text/plain": [
       "dependents        0.0  1.0  2.0  4.0\n",
       "loan_amount_term                    \n",
       "36.0                1    1    0    0\n",
       "84.0                0    1    0    0\n",
       "180.0               3    1    0    2\n",
       "240.0               0    0    1    0\n",
       "300.0               2    0    0    0\n",
       "360.0              50   14   10    5\n",
       "480.0               4    0    1    0"
      ]
     },
     "execution_count": 35,
     "metadata": {},
     "output_type": "execute_result"
    }
   ],
   "source": [
    "hist_status = loans[(loans.credit_history == 1) &(loans.loan_status == 0) ]\n",
    "pd.crosstab(hist_status.loan_amount_term, hist_status.dependents )"
   ]
  },
  {
   "cell_type": "markdown",
   "id": "90eb8266",
   "metadata": {},
   "source": [
    "# -------------------"
   ]
  },
  {
   "cell_type": "code",
   "execution_count": 197,
   "id": "d65bf794",
   "metadata": {
    "scrolled": true
   },
   "outputs": [],
   "source": [
    "# COoments here\n",
    "# Multivariant Exploriation "
   ]
  },
  {
   "cell_type": "markdown",
   "id": "3916698e",
   "metadata": {},
   "source": [
    "# 2.2) Feature importance: Mutual Information "
   ]
  },
  {
   "cell_type": "code",
   "execution_count": 37,
   "id": "7f34361d",
   "metadata": {
    "scrolled": true
   },
   "outputs": [],
   "source": [
    "# import mutual_info_score to check the importance of features for categorical dataset\n",
    "from sklearn.metrics import mutual_info_score"
   ]
  },
  {
   "cell_type": "code",
   "execution_count": 38,
   "id": "e616b757",
   "metadata": {
    "scrolled": false
   },
   "outputs": [
    {
     "ename": "ValueError",
     "evalue": "Input contains NaN.",
     "output_type": "error",
     "traceback": [
      "\u001b[1;31m---------------------------------------------------------------------------\u001b[0m",
      "\u001b[1;31mValueError\u001b[0m                                Traceback (most recent call last)",
      "Cell \u001b[1;32mIn[38], line 7\u001b[0m\n\u001b[0;32m      4\u001b[0m     \u001b[38;5;28;01mreturn\u001b[39;00m mutual_info_score(series, loans\u001b[38;5;241m.\u001b[39mloan_status)\n\u001b[0;32m      6\u001b[0m \u001b[38;5;66;03m# appened function we created to apply function >> \u001b[39;00m\n\u001b[1;32m----> 7\u001b[0m df_mi \u001b[38;5;241m=\u001b[39m \u001b[43mloans\u001b[49m\u001b[43m[\u001b[49m\u001b[43mcategorical_cols\u001b[49m\u001b[43m]\u001b[49m\u001b[38;5;241;43m.\u001b[39;49m\u001b[43mapply\u001b[49m\u001b[43m(\u001b[49m\u001b[43mcalculate_mi\u001b[49m\u001b[43m)\u001b[49m\n\u001b[0;32m      8\u001b[0m df_mi \u001b[38;5;241m=\u001b[39m df_mi\u001b[38;5;241m.\u001b[39msort_values(ascending\u001b[38;5;241m=\u001b[39m\u001b[38;5;28;01mFalse\u001b[39;00m)\u001b[38;5;241m.\u001b[39mto_frame(name\u001b[38;5;241m=\u001b[39m\u001b[38;5;124m'\u001b[39m\u001b[38;5;124mMI\u001b[39m\u001b[38;5;124m'\u001b[39m)\n\u001b[0;32m     11\u001b[0m display(df_mi\u001b[38;5;241m.\u001b[39mhead(\u001b[38;5;241m10\u001b[39m))\n",
      "File \u001b[1;32mc:\\Users\\kanch\\anaconda3\\Lib\\site-packages\\pandas\\core\\frame.py:10374\u001b[0m, in \u001b[0;36mDataFrame.apply\u001b[1;34m(self, func, axis, raw, result_type, args, by_row, engine, engine_kwargs, **kwargs)\u001b[0m\n\u001b[0;32m  10360\u001b[0m \u001b[38;5;28;01mfrom\u001b[39;00m \u001b[38;5;21;01mpandas\u001b[39;00m\u001b[38;5;21;01m.\u001b[39;00m\u001b[38;5;21;01mcore\u001b[39;00m\u001b[38;5;21;01m.\u001b[39;00m\u001b[38;5;21;01mapply\u001b[39;00m \u001b[38;5;28;01mimport\u001b[39;00m frame_apply\n\u001b[0;32m  10362\u001b[0m op \u001b[38;5;241m=\u001b[39m frame_apply(\n\u001b[0;32m  10363\u001b[0m     \u001b[38;5;28mself\u001b[39m,\n\u001b[0;32m  10364\u001b[0m     func\u001b[38;5;241m=\u001b[39mfunc,\n\u001b[1;32m   (...)\u001b[0m\n\u001b[0;32m  10372\u001b[0m     kwargs\u001b[38;5;241m=\u001b[39mkwargs,\n\u001b[0;32m  10373\u001b[0m )\n\u001b[1;32m> 10374\u001b[0m \u001b[38;5;28;01mreturn\u001b[39;00m \u001b[43mop\u001b[49m\u001b[38;5;241;43m.\u001b[39;49m\u001b[43mapply\u001b[49m\u001b[43m(\u001b[49m\u001b[43m)\u001b[49m\u001b[38;5;241m.\u001b[39m__finalize__(\u001b[38;5;28mself\u001b[39m, method\u001b[38;5;241m=\u001b[39m\u001b[38;5;124m\"\u001b[39m\u001b[38;5;124mapply\u001b[39m\u001b[38;5;124m\"\u001b[39m)\n",
      "File \u001b[1;32mc:\\Users\\kanch\\anaconda3\\Lib\\site-packages\\pandas\\core\\apply.py:916\u001b[0m, in \u001b[0;36mFrameApply.apply\u001b[1;34m(self)\u001b[0m\n\u001b[0;32m    913\u001b[0m \u001b[38;5;28;01melif\u001b[39;00m \u001b[38;5;28mself\u001b[39m\u001b[38;5;241m.\u001b[39mraw:\n\u001b[0;32m    914\u001b[0m     \u001b[38;5;28;01mreturn\u001b[39;00m \u001b[38;5;28mself\u001b[39m\u001b[38;5;241m.\u001b[39mapply_raw(engine\u001b[38;5;241m=\u001b[39m\u001b[38;5;28mself\u001b[39m\u001b[38;5;241m.\u001b[39mengine, engine_kwargs\u001b[38;5;241m=\u001b[39m\u001b[38;5;28mself\u001b[39m\u001b[38;5;241m.\u001b[39mengine_kwargs)\n\u001b[1;32m--> 916\u001b[0m \u001b[38;5;28;01mreturn\u001b[39;00m \u001b[38;5;28;43mself\u001b[39;49m\u001b[38;5;241;43m.\u001b[39;49m\u001b[43mapply_standard\u001b[49m\u001b[43m(\u001b[49m\u001b[43m)\u001b[49m\n",
      "File \u001b[1;32mc:\\Users\\kanch\\anaconda3\\Lib\\site-packages\\pandas\\core\\apply.py:1063\u001b[0m, in \u001b[0;36mFrameApply.apply_standard\u001b[1;34m(self)\u001b[0m\n\u001b[0;32m   1061\u001b[0m \u001b[38;5;28;01mdef\u001b[39;00m \u001b[38;5;21mapply_standard\u001b[39m(\u001b[38;5;28mself\u001b[39m):\n\u001b[0;32m   1062\u001b[0m     \u001b[38;5;28;01mif\u001b[39;00m \u001b[38;5;28mself\u001b[39m\u001b[38;5;241m.\u001b[39mengine \u001b[38;5;241m==\u001b[39m \u001b[38;5;124m\"\u001b[39m\u001b[38;5;124mpython\u001b[39m\u001b[38;5;124m\"\u001b[39m:\n\u001b[1;32m-> 1063\u001b[0m         results, res_index \u001b[38;5;241m=\u001b[39m \u001b[38;5;28;43mself\u001b[39;49m\u001b[38;5;241;43m.\u001b[39;49m\u001b[43mapply_series_generator\u001b[49m\u001b[43m(\u001b[49m\u001b[43m)\u001b[49m\n\u001b[0;32m   1064\u001b[0m     \u001b[38;5;28;01melse\u001b[39;00m:\n\u001b[0;32m   1065\u001b[0m         results, res_index \u001b[38;5;241m=\u001b[39m \u001b[38;5;28mself\u001b[39m\u001b[38;5;241m.\u001b[39mapply_series_numba()\n",
      "File \u001b[1;32mc:\\Users\\kanch\\anaconda3\\Lib\\site-packages\\pandas\\core\\apply.py:1081\u001b[0m, in \u001b[0;36mFrameApply.apply_series_generator\u001b[1;34m(self)\u001b[0m\n\u001b[0;32m   1078\u001b[0m \u001b[38;5;28;01mwith\u001b[39;00m option_context(\u001b[38;5;124m\"\u001b[39m\u001b[38;5;124mmode.chained_assignment\u001b[39m\u001b[38;5;124m\"\u001b[39m, \u001b[38;5;28;01mNone\u001b[39;00m):\n\u001b[0;32m   1079\u001b[0m     \u001b[38;5;28;01mfor\u001b[39;00m i, v \u001b[38;5;129;01min\u001b[39;00m \u001b[38;5;28menumerate\u001b[39m(series_gen):\n\u001b[0;32m   1080\u001b[0m         \u001b[38;5;66;03m# ignore SettingWithCopy here in case the user mutates\u001b[39;00m\n\u001b[1;32m-> 1081\u001b[0m         results[i] \u001b[38;5;241m=\u001b[39m \u001b[38;5;28;43mself\u001b[39;49m\u001b[38;5;241;43m.\u001b[39;49m\u001b[43mfunc\u001b[49m\u001b[43m(\u001b[49m\u001b[43mv\u001b[49m\u001b[43m,\u001b[49m\u001b[43m \u001b[49m\u001b[38;5;241;43m*\u001b[39;49m\u001b[38;5;28;43mself\u001b[39;49m\u001b[38;5;241;43m.\u001b[39;49m\u001b[43margs\u001b[49m\u001b[43m,\u001b[49m\u001b[43m \u001b[49m\u001b[38;5;241;43m*\u001b[39;49m\u001b[38;5;241;43m*\u001b[39;49m\u001b[38;5;28;43mself\u001b[39;49m\u001b[38;5;241;43m.\u001b[39;49m\u001b[43mkwargs\u001b[49m\u001b[43m)\u001b[49m\n\u001b[0;32m   1082\u001b[0m         \u001b[38;5;28;01mif\u001b[39;00m \u001b[38;5;28misinstance\u001b[39m(results[i], ABCSeries):\n\u001b[0;32m   1083\u001b[0m             \u001b[38;5;66;03m# If we have a view on v, we need to make a copy because\u001b[39;00m\n\u001b[0;32m   1084\u001b[0m             \u001b[38;5;66;03m#  series_generator will swap out the underlying data\u001b[39;00m\n\u001b[0;32m   1085\u001b[0m             results[i] \u001b[38;5;241m=\u001b[39m results[i]\u001b[38;5;241m.\u001b[39mcopy(deep\u001b[38;5;241m=\u001b[39m\u001b[38;5;28;01mFalse\u001b[39;00m)\n",
      "Cell \u001b[1;32mIn[38], line 4\u001b[0m, in \u001b[0;36mcalculate_mi\u001b[1;34m(series)\u001b[0m\n\u001b[0;32m      3\u001b[0m \u001b[38;5;28;01mdef\u001b[39;00m \u001b[38;5;21mcalculate_mi\u001b[39m(series):\n\u001b[1;32m----> 4\u001b[0m     \u001b[38;5;28;01mreturn\u001b[39;00m \u001b[43mmutual_info_score\u001b[49m\u001b[43m(\u001b[49m\u001b[43mseries\u001b[49m\u001b[43m,\u001b[49m\u001b[43m \u001b[49m\u001b[43mloans\u001b[49m\u001b[38;5;241;43m.\u001b[39;49m\u001b[43mloan_status\u001b[49m\u001b[43m)\u001b[49m\n",
      "File \u001b[1;32mc:\\Users\\kanch\\anaconda3\\Lib\\site-packages\\sklearn\\utils\\_param_validation.py:213\u001b[0m, in \u001b[0;36mvalidate_params.<locals>.decorator.<locals>.wrapper\u001b[1;34m(*args, **kwargs)\u001b[0m\n\u001b[0;32m    207\u001b[0m \u001b[38;5;28;01mtry\u001b[39;00m:\n\u001b[0;32m    208\u001b[0m     \u001b[38;5;28;01mwith\u001b[39;00m config_context(\n\u001b[0;32m    209\u001b[0m         skip_parameter_validation\u001b[38;5;241m=\u001b[39m(\n\u001b[0;32m    210\u001b[0m             prefer_skip_nested_validation \u001b[38;5;129;01mor\u001b[39;00m global_skip_validation\n\u001b[0;32m    211\u001b[0m         )\n\u001b[0;32m    212\u001b[0m     ):\n\u001b[1;32m--> 213\u001b[0m         \u001b[38;5;28;01mreturn\u001b[39;00m \u001b[43mfunc\u001b[49m\u001b[43m(\u001b[49m\u001b[38;5;241;43m*\u001b[39;49m\u001b[43margs\u001b[49m\u001b[43m,\u001b[49m\u001b[43m \u001b[49m\u001b[38;5;241;43m*\u001b[39;49m\u001b[38;5;241;43m*\u001b[39;49m\u001b[43mkwargs\u001b[49m\u001b[43m)\u001b[49m\n\u001b[0;32m    214\u001b[0m \u001b[38;5;28;01mexcept\u001b[39;00m InvalidParameterError \u001b[38;5;28;01mas\u001b[39;00m e:\n\u001b[0;32m    215\u001b[0m     \u001b[38;5;66;03m# When the function is just a wrapper around an estimator, we allow\u001b[39;00m\n\u001b[0;32m    216\u001b[0m     \u001b[38;5;66;03m# the function to delegate validation to the estimator, but we replace\u001b[39;00m\n\u001b[0;32m    217\u001b[0m     \u001b[38;5;66;03m# the name of the estimator by the name of the function in the error\u001b[39;00m\n\u001b[0;32m    218\u001b[0m     \u001b[38;5;66;03m# message to avoid confusion.\u001b[39;00m\n\u001b[0;32m    219\u001b[0m     msg \u001b[38;5;241m=\u001b[39m re\u001b[38;5;241m.\u001b[39msub(\n\u001b[0;32m    220\u001b[0m         \u001b[38;5;124mr\u001b[39m\u001b[38;5;124m\"\u001b[39m\u001b[38;5;124mparameter of \u001b[39m\u001b[38;5;124m\\\u001b[39m\u001b[38;5;124mw+ must be\u001b[39m\u001b[38;5;124m\"\u001b[39m,\n\u001b[0;32m    221\u001b[0m         \u001b[38;5;124mf\u001b[39m\u001b[38;5;124m\"\u001b[39m\u001b[38;5;124mparameter of \u001b[39m\u001b[38;5;132;01m{\u001b[39;00mfunc\u001b[38;5;241m.\u001b[39m\u001b[38;5;18m__qualname__\u001b[39m\u001b[38;5;132;01m}\u001b[39;00m\u001b[38;5;124m must be\u001b[39m\u001b[38;5;124m\"\u001b[39m,\n\u001b[0;32m    222\u001b[0m         \u001b[38;5;28mstr\u001b[39m(e),\n\u001b[0;32m    223\u001b[0m     )\n",
      "File \u001b[1;32mc:\\Users\\kanch\\anaconda3\\Lib\\site-packages\\sklearn\\metrics\\cluster\\_supervised.py:887\u001b[0m, in \u001b[0;36mmutual_info_score\u001b[1;34m(labels_true, labels_pred, contingency)\u001b[0m\n\u001b[0;32m    821\u001b[0m \u001b[38;5;250m\u001b[39m\u001b[38;5;124;03m\"\"\"Mutual Information between two clusterings.\u001b[39;00m\n\u001b[0;32m    822\u001b[0m \n\u001b[0;32m    823\u001b[0m \u001b[38;5;124;03mThe Mutual Information is a measure of the similarity between two labels\u001b[39;00m\n\u001b[1;32m   (...)\u001b[0m\n\u001b[0;32m    884\u001b[0m \u001b[38;5;124;03m0.056...\u001b[39;00m\n\u001b[0;32m    885\u001b[0m \u001b[38;5;124;03m\"\"\"\u001b[39;00m\n\u001b[0;32m    886\u001b[0m \u001b[38;5;28;01mif\u001b[39;00m contingency \u001b[38;5;129;01mis\u001b[39;00m \u001b[38;5;28;01mNone\u001b[39;00m:\n\u001b[1;32m--> 887\u001b[0m     labels_true, labels_pred \u001b[38;5;241m=\u001b[39m \u001b[43mcheck_clusterings\u001b[49m\u001b[43m(\u001b[49m\u001b[43mlabels_true\u001b[49m\u001b[43m,\u001b[49m\u001b[43m \u001b[49m\u001b[43mlabels_pred\u001b[49m\u001b[43m)\u001b[49m\n\u001b[0;32m    888\u001b[0m     contingency \u001b[38;5;241m=\u001b[39m contingency_matrix(labels_true, labels_pred, sparse\u001b[38;5;241m=\u001b[39m\u001b[38;5;28;01mTrue\u001b[39;00m)\n\u001b[0;32m    889\u001b[0m \u001b[38;5;28;01melse\u001b[39;00m:\n",
      "File \u001b[1;32mc:\\Users\\kanch\\anaconda3\\Lib\\site-packages\\sklearn\\metrics\\cluster\\_supervised.py:43\u001b[0m, in \u001b[0;36mcheck_clusterings\u001b[1;34m(labels_true, labels_pred)\u001b[0m\n\u001b[0;32m     32\u001b[0m \u001b[38;5;28;01mdef\u001b[39;00m \u001b[38;5;21mcheck_clusterings\u001b[39m(labels_true, labels_pred):\n\u001b[0;32m     33\u001b[0m \u001b[38;5;250m    \u001b[39m\u001b[38;5;124;03m\"\"\"Check that the labels arrays are 1D and of same dimension.\u001b[39;00m\n\u001b[0;32m     34\u001b[0m \n\u001b[0;32m     35\u001b[0m \u001b[38;5;124;03m    Parameters\u001b[39;00m\n\u001b[1;32m   (...)\u001b[0m\n\u001b[0;32m     41\u001b[0m \u001b[38;5;124;03m        The predicted labels.\u001b[39;00m\n\u001b[0;32m     42\u001b[0m \u001b[38;5;124;03m    \"\"\"\u001b[39;00m\n\u001b[1;32m---> 43\u001b[0m     labels_true \u001b[38;5;241m=\u001b[39m \u001b[43mcheck_array\u001b[49m\u001b[43m(\u001b[49m\n\u001b[0;32m     44\u001b[0m \u001b[43m        \u001b[49m\u001b[43mlabels_true\u001b[49m\u001b[43m,\u001b[49m\n\u001b[0;32m     45\u001b[0m \u001b[43m        \u001b[49m\u001b[43mensure_2d\u001b[49m\u001b[38;5;241;43m=\u001b[39;49m\u001b[38;5;28;43;01mFalse\u001b[39;49;00m\u001b[43m,\u001b[49m\n\u001b[0;32m     46\u001b[0m \u001b[43m        \u001b[49m\u001b[43mensure_min_samples\u001b[49m\u001b[38;5;241;43m=\u001b[39;49m\u001b[38;5;241;43m0\u001b[39;49m\u001b[43m,\u001b[49m\n\u001b[0;32m     47\u001b[0m \u001b[43m        \u001b[49m\u001b[43mdtype\u001b[49m\u001b[38;5;241;43m=\u001b[39;49m\u001b[38;5;28;43;01mNone\u001b[39;49;00m\u001b[43m,\u001b[49m\n\u001b[0;32m     48\u001b[0m \u001b[43m    \u001b[49m\u001b[43m)\u001b[49m\n\u001b[0;32m     50\u001b[0m     labels_pred \u001b[38;5;241m=\u001b[39m check_array(\n\u001b[0;32m     51\u001b[0m         labels_pred,\n\u001b[0;32m     52\u001b[0m         ensure_2d\u001b[38;5;241m=\u001b[39m\u001b[38;5;28;01mFalse\u001b[39;00m,\n\u001b[0;32m     53\u001b[0m         ensure_min_samples\u001b[38;5;241m=\u001b[39m\u001b[38;5;241m0\u001b[39m,\n\u001b[0;32m     54\u001b[0m         dtype\u001b[38;5;241m=\u001b[39m\u001b[38;5;28;01mNone\u001b[39;00m,\n\u001b[0;32m     55\u001b[0m     )\n\u001b[0;32m     57\u001b[0m     type_label \u001b[38;5;241m=\u001b[39m type_of_target(labels_true)\n",
      "File \u001b[1;32mc:\\Users\\kanch\\anaconda3\\Lib\\site-packages\\sklearn\\utils\\validation.py:1049\u001b[0m, in \u001b[0;36mcheck_array\u001b[1;34m(array, accept_sparse, accept_large_sparse, dtype, order, copy, force_all_finite, ensure_2d, allow_nd, ensure_min_samples, ensure_min_features, estimator, input_name)\u001b[0m\n\u001b[0;32m   1043\u001b[0m     \u001b[38;5;28;01mraise\u001b[39;00m \u001b[38;5;167;01mValueError\u001b[39;00m(\n\u001b[0;32m   1044\u001b[0m         \u001b[38;5;124m\"\u001b[39m\u001b[38;5;124mFound array with dim \u001b[39m\u001b[38;5;132;01m%d\u001b[39;00m\u001b[38;5;124m. \u001b[39m\u001b[38;5;132;01m%s\u001b[39;00m\u001b[38;5;124m expected <= 2.\u001b[39m\u001b[38;5;124m\"\u001b[39m\n\u001b[0;32m   1045\u001b[0m         \u001b[38;5;241m%\u001b[39m (array\u001b[38;5;241m.\u001b[39mndim, estimator_name)\n\u001b[0;32m   1046\u001b[0m     )\n\u001b[0;32m   1048\u001b[0m \u001b[38;5;28;01mif\u001b[39;00m force_all_finite:\n\u001b[1;32m-> 1049\u001b[0m     \u001b[43m_assert_all_finite\u001b[49m\u001b[43m(\u001b[49m\n\u001b[0;32m   1050\u001b[0m \u001b[43m        \u001b[49m\u001b[43marray\u001b[49m\u001b[43m,\u001b[49m\n\u001b[0;32m   1051\u001b[0m \u001b[43m        \u001b[49m\u001b[43minput_name\u001b[49m\u001b[38;5;241;43m=\u001b[39;49m\u001b[43minput_name\u001b[49m\u001b[43m,\u001b[49m\n\u001b[0;32m   1052\u001b[0m \u001b[43m        \u001b[49m\u001b[43mestimator_name\u001b[49m\u001b[38;5;241;43m=\u001b[39;49m\u001b[43mestimator_name\u001b[49m\u001b[43m,\u001b[49m\n\u001b[0;32m   1053\u001b[0m \u001b[43m        \u001b[49m\u001b[43mallow_nan\u001b[49m\u001b[38;5;241;43m=\u001b[39;49m\u001b[43mforce_all_finite\u001b[49m\u001b[43m \u001b[49m\u001b[38;5;241;43m==\u001b[39;49m\u001b[43m \u001b[49m\u001b[38;5;124;43m\"\u001b[39;49m\u001b[38;5;124;43mallow-nan\u001b[39;49m\u001b[38;5;124;43m\"\u001b[39;49m\u001b[43m,\u001b[49m\n\u001b[0;32m   1054\u001b[0m \u001b[43m    \u001b[49m\u001b[43m)\u001b[49m\n\u001b[0;32m   1056\u001b[0m \u001b[38;5;28;01mif\u001b[39;00m copy:\n\u001b[0;32m   1057\u001b[0m     \u001b[38;5;28;01mif\u001b[39;00m _is_numpy_namespace(xp):\n\u001b[0;32m   1058\u001b[0m         \u001b[38;5;66;03m# only make a copy if `array` and `array_orig` may share memory`\u001b[39;00m\n",
      "File \u001b[1;32mc:\\Users\\kanch\\anaconda3\\Lib\\site-packages\\sklearn\\utils\\validation.py:126\u001b[0m, in \u001b[0;36m_assert_all_finite\u001b[1;34m(X, allow_nan, msg_dtype, estimator_name, input_name)\u001b[0m\n\u001b[0;32m    123\u001b[0m \u001b[38;5;28;01mif\u001b[39;00m first_pass_isfinite:\n\u001b[0;32m    124\u001b[0m     \u001b[38;5;28;01mreturn\u001b[39;00m\n\u001b[1;32m--> 126\u001b[0m \u001b[43m_assert_all_finite_element_wise\u001b[49m\u001b[43m(\u001b[49m\n\u001b[0;32m    127\u001b[0m \u001b[43m    \u001b[49m\u001b[43mX\u001b[49m\u001b[43m,\u001b[49m\n\u001b[0;32m    128\u001b[0m \u001b[43m    \u001b[49m\u001b[43mxp\u001b[49m\u001b[38;5;241;43m=\u001b[39;49m\u001b[43mxp\u001b[49m\u001b[43m,\u001b[49m\n\u001b[0;32m    129\u001b[0m \u001b[43m    \u001b[49m\u001b[43mallow_nan\u001b[49m\u001b[38;5;241;43m=\u001b[39;49m\u001b[43mallow_nan\u001b[49m\u001b[43m,\u001b[49m\n\u001b[0;32m    130\u001b[0m \u001b[43m    \u001b[49m\u001b[43mmsg_dtype\u001b[49m\u001b[38;5;241;43m=\u001b[39;49m\u001b[43mmsg_dtype\u001b[49m\u001b[43m,\u001b[49m\n\u001b[0;32m    131\u001b[0m \u001b[43m    \u001b[49m\u001b[43mestimator_name\u001b[49m\u001b[38;5;241;43m=\u001b[39;49m\u001b[43mestimator_name\u001b[49m\u001b[43m,\u001b[49m\n\u001b[0;32m    132\u001b[0m \u001b[43m    \u001b[49m\u001b[43minput_name\u001b[49m\u001b[38;5;241;43m=\u001b[39;49m\u001b[43minput_name\u001b[49m\u001b[43m,\u001b[49m\n\u001b[0;32m    133\u001b[0m \u001b[43m\u001b[49m\u001b[43m)\u001b[49m\n",
      "File \u001b[1;32mc:\\Users\\kanch\\anaconda3\\Lib\\site-packages\\sklearn\\utils\\validation.py:175\u001b[0m, in \u001b[0;36m_assert_all_finite_element_wise\u001b[1;34m(X, xp, allow_nan, msg_dtype, estimator_name, input_name)\u001b[0m\n\u001b[0;32m    158\u001b[0m \u001b[38;5;28;01mif\u001b[39;00m estimator_name \u001b[38;5;129;01mand\u001b[39;00m input_name \u001b[38;5;241m==\u001b[39m \u001b[38;5;124m\"\u001b[39m\u001b[38;5;124mX\u001b[39m\u001b[38;5;124m\"\u001b[39m \u001b[38;5;129;01mand\u001b[39;00m has_nan_error:\n\u001b[0;32m    159\u001b[0m     \u001b[38;5;66;03m# Improve the error message on how to handle missing values in\u001b[39;00m\n\u001b[0;32m    160\u001b[0m     \u001b[38;5;66;03m# scikit-learn.\u001b[39;00m\n\u001b[0;32m    161\u001b[0m     msg_err \u001b[38;5;241m+\u001b[39m\u001b[38;5;241m=\u001b[39m (\n\u001b[0;32m    162\u001b[0m         \u001b[38;5;124mf\u001b[39m\u001b[38;5;124m\"\u001b[39m\u001b[38;5;130;01m\\n\u001b[39;00m\u001b[38;5;132;01m{\u001b[39;00mestimator_name\u001b[38;5;132;01m}\u001b[39;00m\u001b[38;5;124m does not accept missing values\u001b[39m\u001b[38;5;124m\"\u001b[39m\n\u001b[0;32m    163\u001b[0m         \u001b[38;5;124m\"\u001b[39m\u001b[38;5;124m encoded as NaN natively. For supervised learning, you might want\u001b[39m\u001b[38;5;124m\"\u001b[39m\n\u001b[1;32m   (...)\u001b[0m\n\u001b[0;32m    173\u001b[0m         \u001b[38;5;124m\"\u001b[39m\u001b[38;5;124m#estimators-that-handle-nan-values\u001b[39m\u001b[38;5;124m\"\u001b[39m\n\u001b[0;32m    174\u001b[0m     )\n\u001b[1;32m--> 175\u001b[0m \u001b[38;5;28;01mraise\u001b[39;00m \u001b[38;5;167;01mValueError\u001b[39;00m(msg_err)\n",
      "\u001b[1;31mValueError\u001b[0m: Input contains NaN."
     ]
    }
   ],
   "source": [
    "# how much we konw abount Loan Status \n",
    "# create this function because apply function takes onlyl one argumnet and mutual_info_score takes two arguments. \n",
    "def calculate_mi(series):\n",
    "    return mutual_info_score(series, loans.loan_status)\n",
    "\n",
    "# appened function we created to apply function >> \n",
    "df_mi = loans[categorical_cols].apply(calculate_mi)\n",
    "df_mi = df_mi.sort_values(ascending=False).to_frame(name='MI')\n",
    "\n",
    "\n",
    "display(df_mi.head(10))"
   ]
  },
  {
   "cell_type": "markdown",
   "id": "cd87fc43",
   "metadata": {},
   "source": [
    "### Here we check how much we know about loan Status by checking the mean of the relation between the categorical features and Loan Status :\n",
    "-  the higher of mutual_info_score the more likely to take a loan. \n",
    "-  so here Credit History is the most important feature to determine if we will give a loan or not.\n",
    "-  then property area is less important than Credit  History and more important than Married Status and So on.\n",
    "-  the least important feature of our features is Self Employed and Gender we do not focus more on Gender and if he is self Employed or not.\n"
   ]
  },
  {
   "cell_type": "markdown",
   "id": "c6d058d0",
   "metadata": {},
   "source": [
    "# 2.3) Feature importance: Correlation "
   ]
  },
  {
   "cell_type": "markdown",
   "id": "75772541",
   "metadata": {},
   "source": [
    "- #### Correlaion Coefficient "
   ]
  },
  {
   "cell_type": "code",
   "execution_count": 200,
   "id": "cdb8ba84",
   "metadata": {
    "scrolled": true
   },
   "outputs": [
    {
     "data": {
      "text/html": [
       "<div>\n",
       "<style scoped>\n",
       "    .dataframe tbody tr th:only-of-type {\n",
       "        vertical-align: middle;\n",
       "    }\n",
       "\n",
       "    .dataframe tbody tr th {\n",
       "        vertical-align: top;\n",
       "    }\n",
       "\n",
       "    .dataframe thead th {\n",
       "        text-align: right;\n",
       "    }\n",
       "</style>\n",
       "<table border=\"1\" class=\"dataframe\">\n",
       "  <thead>\n",
       "    <tr style=\"text-align: right;\">\n",
       "      <th></th>\n",
       "      <th>correlation</th>\n",
       "    </tr>\n",
       "  </thead>\n",
       "  <tbody>\n",
       "    <tr>\n",
       "      <th>coapplicantincome</th>\n",
       "      <td>-0.059187</td>\n",
       "    </tr>\n",
       "    <tr>\n",
       "      <th>loanamount</th>\n",
       "      <td>-0.036416</td>\n",
       "    </tr>\n",
       "    <tr>\n",
       "      <th>loan_amount_term</th>\n",
       "      <td>-0.020974</td>\n",
       "    </tr>\n",
       "    <tr>\n",
       "      <th>applicantincome</th>\n",
       "      <td>-0.004710</td>\n",
       "    </tr>\n",
       "  </tbody>\n",
       "</table>\n",
       "</div>"
      ],
      "text/plain": [
       "                   correlation\n",
       "coapplicantincome    -0.059187\n",
       "loanamount           -0.036416\n",
       "loan_amount_term     -0.020974\n",
       "applicantincome      -0.004710"
      ]
     },
     "execution_count": 200,
     "metadata": {},
     "output_type": "execute_result"
    }
   ],
   "source": [
    "# Correation Coefficient between Numerical Featues and Loan Status\n",
    "loans[numerical_cols].corrwith(loans.loan_status).sort_values(ascending=True).to_frame('correlation')\n"
   ]
  },
  {
   "cell_type": "code",
   "execution_count": 201,
   "id": "05e0a285",
   "metadata": {
    "scrolled": true
   },
   "outputs": [
    {
     "data": {
      "text/html": [
       "<div>\n",
       "<style scoped>\n",
       "    .dataframe tbody tr th:only-of-type {\n",
       "        vertical-align: middle;\n",
       "    }\n",
       "\n",
       "    .dataframe tbody tr th {\n",
       "        vertical-align: top;\n",
       "    }\n",
       "\n",
       "    .dataframe thead th {\n",
       "        text-align: right;\n",
       "    }\n",
       "</style>\n",
       "<table border=\"1\" class=\"dataframe\">\n",
       "  <thead>\n",
       "    <tr style=\"text-align: right;\">\n",
       "      <th></th>\n",
       "      <th>applicantincome</th>\n",
       "      <th>coapplicantincome</th>\n",
       "      <th>loanamount</th>\n",
       "      <th>loan_amount_term</th>\n",
       "    </tr>\n",
       "  </thead>\n",
       "  <tbody>\n",
       "    <tr>\n",
       "      <th>applicantincome</th>\n",
       "      <td>1.000000</td>\n",
       "      <td>-0.116605</td>\n",
       "      <td>0.565620</td>\n",
       "      <td>-0.045242</td>\n",
       "    </tr>\n",
       "    <tr>\n",
       "      <th>coapplicantincome</th>\n",
       "      <td>-0.116605</td>\n",
       "      <td>1.000000</td>\n",
       "      <td>0.187828</td>\n",
       "      <td>-0.059675</td>\n",
       "    </tr>\n",
       "    <tr>\n",
       "      <th>loanamount</th>\n",
       "      <td>0.565620</td>\n",
       "      <td>0.187828</td>\n",
       "      <td>1.000000</td>\n",
       "      <td>0.038801</td>\n",
       "    </tr>\n",
       "    <tr>\n",
       "      <th>loan_amount_term</th>\n",
       "      <td>-0.045242</td>\n",
       "      <td>-0.059675</td>\n",
       "      <td>0.038801</td>\n",
       "      <td>1.000000</td>\n",
       "    </tr>\n",
       "  </tbody>\n",
       "</table>\n",
       "</div>"
      ],
      "text/plain": [
       "                   applicantincome  coapplicantincome  loanamount  \\\n",
       "applicantincome           1.000000          -0.116605    0.565620   \n",
       "coapplicantincome        -0.116605           1.000000    0.187828   \n",
       "loanamount                0.565620           0.187828    1.000000   \n",
       "loan_amount_term         -0.045242          -0.059675    0.038801   \n",
       "\n",
       "                   loan_amount_term  \n",
       "applicantincome           -0.045242  \n",
       "coapplicantincome         -0.059675  \n",
       "loanamount                 0.038801  \n",
       "loan_amount_term           1.000000  "
      ]
     },
     "execution_count": 201,
     "metadata": {},
     "output_type": "execute_result"
    }
   ],
   "source": [
    "loans[numerical_cols].corr()\n",
    "# statsmodel p-value"
   ]
  },
  {
   "cell_type": "markdown",
   "id": "8dac0b3c",
   "metadata": {},
   "source": [
    "## Correlation Coefficient is between -1 to 1 \n",
    "\n",
    "- #### let's say: \n",
    "- #### from 0.0 to 0.2 or 0.0 to -0.2 it's low correlation \n",
    "- #### from 0.2 to 0.5 or -0.2 to -0.5 it's moderate correlation \n",
    "- #### from 0.6 to 1.0 or -0.6 to -1.0 it's moderate correlation \n",
    "## so here negative correlation  :\n",
    "- #### the lower the correlation the higher percentage to give a loan\n",
    "- #### so here Credit History is the most important feature then laon amount and BTW it's all low correlation.\n",
    " "
   ]
  },
  {
   "cell_type": "code",
   "execution_count": 202,
   "id": "6491a970",
   "metadata": {
    "scrolled": false
   },
   "outputs": [
    {
     "data": {
      "text/html": [
       "<div>\n",
       "<style scoped>\n",
       "    .dataframe tbody tr th:only-of-type {\n",
       "        vertical-align: middle;\n",
       "    }\n",
       "\n",
       "    .dataframe tbody tr th {\n",
       "        vertical-align: top;\n",
       "    }\n",
       "\n",
       "    .dataframe thead th {\n",
       "        text-align: right;\n",
       "    }\n",
       "</style>\n",
       "<table border=\"1\" class=\"dataframe\">\n",
       "  <thead>\n",
       "    <tr style=\"text-align: right;\">\n",
       "      <th></th>\n",
       "      <th>applicantincome</th>\n",
       "      <th>coapplicantincome</th>\n",
       "      <th>loanamount</th>\n",
       "      <th>loan_amount_term</th>\n",
       "    </tr>\n",
       "    <tr>\n",
       "      <th>loan_status</th>\n",
       "      <th></th>\n",
       "      <th></th>\n",
       "      <th></th>\n",
       "      <th></th>\n",
       "    </tr>\n",
       "  </thead>\n",
       "  <tbody>\n",
       "    <tr>\n",
       "      <th>0</th>\n",
       "      <td>5446.078125</td>\n",
       "      <td>1877.807292</td>\n",
       "      <td>150.945488</td>\n",
       "      <td>344.000000</td>\n",
       "    </tr>\n",
       "    <tr>\n",
       "      <th>1</th>\n",
       "      <td>5384.068720</td>\n",
       "      <td>1504.516398</td>\n",
       "      <td>144.349606</td>\n",
       "      <td>341.090047</td>\n",
       "    </tr>\n",
       "  </tbody>\n",
       "</table>\n",
       "</div>"
      ],
      "text/plain": [
       "             applicantincome  coapplicantincome  loanamount  loan_amount_term\n",
       "loan_status                                                                  \n",
       "0                5446.078125        1877.807292  150.945488        344.000000\n",
       "1                5384.068720        1504.516398  144.349606        341.090047"
      ]
     },
     "execution_count": 202,
     "metadata": {},
     "output_type": "execute_result"
    }
   ],
   "source": [
    "loans.groupby(by='loan_status')[numerical].mean()\n"
   ]
  },
  {
   "cell_type": "markdown",
   "id": "a764330e",
   "metadata": {},
   "source": [
    "# 3) Label encoding"
   ]
  },
  {
   "cell_type": "markdown",
   "id": "94a1ad80",
   "metadata": {},
   "source": [
    " - #### encode categorical features"
   ]
  },
  {
   "cell_type": "code",
   "execution_count": 203,
   "id": "8939b29b",
   "metadata": {
    "scrolled": false
   },
   "outputs": [],
   "source": [
    "from sklearn.preprocessing import LabelEncoder\n",
    "#Initialize the label encoder\n",
    "label_encoder = LabelEncoder()\n",
    "# Apply label encoding to categorical columns\n",
    "loans['gender'] = label_encoder.fit_transform(loans['gender'])\n",
    "loans['self_employed'] = label_encoder.fit_transform(loans['self_employed'])\n",
    "loans['applicantincome'] = label_encoder.fit_transform(loans['applicantincome'])\n",
    "loans['property_area'] = label_encoder.fit_transform(loans['property_area'])\n",
    "loans['education'] = label_encoder.fit_transform(loans['education'])\n",
    "loans['married'] = label_encoder.fit_transform(loans['married'])\n"
   ]
  },
  {
   "cell_type": "code",
   "execution_count": 204,
   "id": "094675f0",
   "metadata": {
    "scrolled": true
   },
   "outputs": [],
   "source": [
    "X_values = loans[categorical_cols+numerical_cols]"
   ]
  },
  {
   "cell_type": "markdown",
   "id": "75ccab6c",
   "metadata": {},
   "source": [
    "#  feature Scaling"
   ]
  },
  {
   "cell_type": "code",
   "execution_count": 205,
   "id": "a47c70a0",
   "metadata": {
    "scrolled": true
   },
   "outputs": [],
   "source": [
    "# determine X , y \n",
    "x = X_values\n",
    "y = loans.loan_status"
   ]
  },
  {
   "cell_type": "code",
   "execution_count": 206,
   "id": "44818e7f",
   "metadata": {
    "scrolled": false
   },
   "outputs": [
    {
     "data": {
      "text/html": [
       "<div>\n",
       "<style scoped>\n",
       "    .dataframe tbody tr th:only-of-type {\n",
       "        vertical-align: middle;\n",
       "    }\n",
       "\n",
       "    .dataframe tbody tr th {\n",
       "        vertical-align: top;\n",
       "    }\n",
       "\n",
       "    .dataframe thead th {\n",
       "        text-align: right;\n",
       "    }\n",
       "</style>\n",
       "<table border=\"1\" class=\"dataframe\">\n",
       "  <thead>\n",
       "    <tr style=\"text-align: right;\">\n",
       "      <th></th>\n",
       "      <th>credit_history</th>\n",
       "      <th>property_area</th>\n",
       "      <th>married</th>\n",
       "      <th>education</th>\n",
       "      <th>dependents</th>\n",
       "      <th>gender</th>\n",
       "      <th>self_employed</th>\n",
       "      <th>applicantincome</th>\n",
       "      <th>coapplicantincome</th>\n",
       "      <th>loanamount</th>\n",
       "      <th>loan_amount_term</th>\n",
       "    </tr>\n",
       "  </thead>\n",
       "  <tbody>\n",
       "    <tr>\n",
       "      <th>0</th>\n",
       "      <td>1.0</td>\n",
       "      <td>2</td>\n",
       "      <td>0</td>\n",
       "      <td>0</td>\n",
       "      <td>0.0</td>\n",
       "      <td>1</td>\n",
       "      <td>0</td>\n",
       "      <td>376</td>\n",
       "      <td>0.0</td>\n",
       "      <td>146.412162</td>\n",
       "      <td>360.0</td>\n",
       "    </tr>\n",
       "    <tr>\n",
       "      <th>1</th>\n",
       "      <td>1.0</td>\n",
       "      <td>0</td>\n",
       "      <td>1</td>\n",
       "      <td>0</td>\n",
       "      <td>1.0</td>\n",
       "      <td>1</td>\n",
       "      <td>0</td>\n",
       "      <td>306</td>\n",
       "      <td>1508.0</td>\n",
       "      <td>128.000000</td>\n",
       "      <td>360.0</td>\n",
       "    </tr>\n",
       "    <tr>\n",
       "      <th>2</th>\n",
       "      <td>1.0</td>\n",
       "      <td>2</td>\n",
       "      <td>1</td>\n",
       "      <td>0</td>\n",
       "      <td>0.0</td>\n",
       "      <td>1</td>\n",
       "      <td>1</td>\n",
       "      <td>139</td>\n",
       "      <td>0.0</td>\n",
       "      <td>66.000000</td>\n",
       "      <td>360.0</td>\n",
       "    </tr>\n",
       "    <tr>\n",
       "      <th>3</th>\n",
       "      <td>1.0</td>\n",
       "      <td>2</td>\n",
       "      <td>1</td>\n",
       "      <td>1</td>\n",
       "      <td>0.0</td>\n",
       "      <td>1</td>\n",
       "      <td>0</td>\n",
       "      <td>90</td>\n",
       "      <td>2358.0</td>\n",
       "      <td>120.000000</td>\n",
       "      <td>360.0</td>\n",
       "    </tr>\n",
       "    <tr>\n",
       "      <th>4</th>\n",
       "      <td>1.0</td>\n",
       "      <td>2</td>\n",
       "      <td>0</td>\n",
       "      <td>0</td>\n",
       "      <td>0.0</td>\n",
       "      <td>1</td>\n",
       "      <td>0</td>\n",
       "      <td>381</td>\n",
       "      <td>0.0</td>\n",
       "      <td>141.000000</td>\n",
       "      <td>360.0</td>\n",
       "    </tr>\n",
       "    <tr>\n",
       "      <th>...</th>\n",
       "      <td>...</td>\n",
       "      <td>...</td>\n",
       "      <td>...</td>\n",
       "      <td>...</td>\n",
       "      <td>...</td>\n",
       "      <td>...</td>\n",
       "      <td>...</td>\n",
       "      <td>...</td>\n",
       "      <td>...</td>\n",
       "      <td>...</td>\n",
       "      <td>...</td>\n",
       "    </tr>\n",
       "    <tr>\n",
       "      <th>609</th>\n",
       "      <td>1.0</td>\n",
       "      <td>0</td>\n",
       "      <td>0</td>\n",
       "      <td>0</td>\n",
       "      <td>0.0</td>\n",
       "      <td>0</td>\n",
       "      <td>0</td>\n",
       "      <td>125</td>\n",
       "      <td>0.0</td>\n",
       "      <td>71.000000</td>\n",
       "      <td>360.0</td>\n",
       "    </tr>\n",
       "    <tr>\n",
       "      <th>610</th>\n",
       "      <td>1.0</td>\n",
       "      <td>0</td>\n",
       "      <td>1</td>\n",
       "      <td>0</td>\n",
       "      <td>4.0</td>\n",
       "      <td>1</td>\n",
       "      <td>0</td>\n",
       "      <td>275</td>\n",
       "      <td>0.0</td>\n",
       "      <td>40.000000</td>\n",
       "      <td>180.0</td>\n",
       "    </tr>\n",
       "    <tr>\n",
       "      <th>611</th>\n",
       "      <td>1.0</td>\n",
       "      <td>2</td>\n",
       "      <td>1</td>\n",
       "      <td>0</td>\n",
       "      <td>1.0</td>\n",
       "      <td>1</td>\n",
       "      <td>0</td>\n",
       "      <td>431</td>\n",
       "      <td>240.0</td>\n",
       "      <td>253.000000</td>\n",
       "      <td>360.0</td>\n",
       "    </tr>\n",
       "    <tr>\n",
       "      <th>612</th>\n",
       "      <td>1.0</td>\n",
       "      <td>2</td>\n",
       "      <td>1</td>\n",
       "      <td>0</td>\n",
       "      <td>2.0</td>\n",
       "      <td>1</td>\n",
       "      <td>0</td>\n",
       "      <td>422</td>\n",
       "      <td>0.0</td>\n",
       "      <td>187.000000</td>\n",
       "      <td>360.0</td>\n",
       "    </tr>\n",
       "    <tr>\n",
       "      <th>613</th>\n",
       "      <td>0.0</td>\n",
       "      <td>1</td>\n",
       "      <td>0</td>\n",
       "      <td>0</td>\n",
       "      <td>0.0</td>\n",
       "      <td>0</td>\n",
       "      <td>1</td>\n",
       "      <td>306</td>\n",
       "      <td>0.0</td>\n",
       "      <td>133.000000</td>\n",
       "      <td>360.0</td>\n",
       "    </tr>\n",
       "  </tbody>\n",
       "</table>\n",
       "<p>614 rows × 11 columns</p>\n",
       "</div>"
      ],
      "text/plain": [
       "     credit_history  property_area  married  education  dependents  gender  \\\n",
       "0               1.0              2        0          0         0.0       1   \n",
       "1               1.0              0        1          0         1.0       1   \n",
       "2               1.0              2        1          0         0.0       1   \n",
       "3               1.0              2        1          1         0.0       1   \n",
       "4               1.0              2        0          0         0.0       1   \n",
       "..              ...            ...      ...        ...         ...     ...   \n",
       "609             1.0              0        0          0         0.0       0   \n",
       "610             1.0              0        1          0         4.0       1   \n",
       "611             1.0              2        1          0         1.0       1   \n",
       "612             1.0              2        1          0         2.0       1   \n",
       "613             0.0              1        0          0         0.0       0   \n",
       "\n",
       "     self_employed  applicantincome  coapplicantincome  loanamount  \\\n",
       "0                0              376                0.0  146.412162   \n",
       "1                0              306             1508.0  128.000000   \n",
       "2                1              139                0.0   66.000000   \n",
       "3                0               90             2358.0  120.000000   \n",
       "4                0              381                0.0  141.000000   \n",
       "..             ...              ...                ...         ...   \n",
       "609              0              125                0.0   71.000000   \n",
       "610              0              275                0.0   40.000000   \n",
       "611              0              431              240.0  253.000000   \n",
       "612              0              422                0.0  187.000000   \n",
       "613              1              306                0.0  133.000000   \n",
       "\n",
       "     loan_amount_term  \n",
       "0               360.0  \n",
       "1               360.0  \n",
       "2               360.0  \n",
       "3               360.0  \n",
       "4               360.0  \n",
       "..                ...  \n",
       "609             360.0  \n",
       "610             180.0  \n",
       "611             360.0  \n",
       "612             360.0  \n",
       "613             360.0  \n",
       "\n",
       "[614 rows x 11 columns]"
      ]
     },
     "execution_count": 206,
     "metadata": {},
     "output_type": "execute_result"
    }
   ],
   "source": [
    "x"
   ]
  },
  {
   "cell_type": "code",
   "execution_count": 207,
   "id": "6f0415b5",
   "metadata": {
    "scrolled": true
   },
   "outputs": [
    {
     "name": "stdout",
     "output_type": "stream",
     "text": [
      "Normalized Dataset: \n",
      "   credit_history  property_area  married  education  dependents  gender  \\\n",
      "0             1.0              2        0          0         0.0       1   \n",
      "1             1.0              0        1          0         1.0       1   \n",
      "2             1.0              2        1          0         0.0       1   \n",
      "3             1.0              2        1          1         0.0       1   \n",
      "4             1.0              2        0          0         0.0       1   \n",
      "\n",
      "   self_employed  applicantincome  coapplicantincome  loanamount  \\\n",
      "0              0         0.898633          -0.554487    0.000000   \n",
      "1              0         0.410559          -0.038732   -0.219273   \n",
      "2              1        -0.753846          -0.554487   -0.957641   \n",
      "3              0        -1.095498           0.251980   -0.314547   \n",
      "4              0         0.933495          -0.554487   -0.064454   \n",
      "\n",
      "   loan_amount_term  \n",
      "0          0.279851  \n",
      "1          0.279851  \n",
      "2          0.279851  \n",
      "3          0.279851  \n",
      "4          0.279851  \n"
     ]
    },
    {
     "name": "stderr",
     "output_type": "stream",
     "text": [
      "C:\\Users\\Moga\\AppData\\Local\\Temp\\ipykernel_10064\\2160872824.py:5: SettingWithCopyWarning: \n",
      "A value is trying to be set on a copy of a slice from a DataFrame.\n",
      "Try using .loc[row_indexer,col_indexer] = value instead\n",
      "\n",
      "See the caveats in the documentation: https://pandas.pydata.org/pandas-docs/stable/user_guide/indexing.html#returning-a-view-versus-a-copy\n",
      "  x[Scaled_cols]=st.fit_transform(x[Scaled_cols])\n"
     ]
    }
   ],
   "source": [
    "Scaled_cols = ['applicantincome','coapplicantincome','loanamount','loan_amount_term']\n",
    "# perform MinMaxScaler on the selected collumns\n",
    "from sklearn.preprocessing import StandardScaler\n",
    "st = StandardScaler()\n",
    "x[Scaled_cols]=st.fit_transform(x[Scaled_cols])\n",
    "\n",
    "# print the normalized dataset \n",
    "print('Normalized Dataset: ')\n",
    "print(x.head())\n"
   ]
  },
  {
   "cell_type": "markdown",
   "id": "3b32d939",
   "metadata": {},
   "source": [
    "# 4) Splitting The Dataset Into The Training Set And Test Set & Applying K-Fold Cross Validation"
   ]
  },
  {
   "cell_type": "code",
   "execution_count": 208,
   "id": "80408a50",
   "metadata": {
    "scrolled": true
   },
   "outputs": [],
   "source": [
    "from sklearn.model_selection import train_test_split\n",
    "from sklearn.model_selection import cross_val_score\n",
    "from sklearn.metrics import accuracy_score\n",
    "import numpy as np"
   ]
  },
  {
   "cell_type": "code",
   "execution_count": 209,
   "id": "305b8897",
   "metadata": {
    "scrolled": true
   },
   "outputs": [],
   "source": [
    "X_train, X_test, y_train, y_test = train_test_split(x, y, test_size = 0.3, random_state = 0)"
   ]
  },
  {
   "cell_type": "markdown",
   "id": "a023c814",
   "metadata": {},
   "source": [
    "# 5) LogisticRegression"
   ]
  },
  {
   "cell_type": "code",
   "execution_count": 210,
   "id": "f3b98688",
   "metadata": {
    "scrolled": false
   },
   "outputs": [
    {
     "name": "stdout",
     "output_type": "stream",
     "text": [
      "Confusion Matrix is : \n",
      " [[ 26  25]\n",
      " [ 21 113]]\n"
     ]
    },
    {
     "data": {
      "image/png": "[encoded data removed]",
      "text/plain": [
       "<Figure size 640x480 with 2 Axes>"
      ]
     },
     "metadata": {},
     "output_type": "display_data"
    }
   ],
   "source": [
    "#Calculating Confusion Matrix\n",
    "CM = confusion_matrix(y_test, y_predict)\n",
    "print('Confusion Matrix is : \\n', CM)\n",
    "\n",
    "# drawing confusion matrix\n",
    "sns.heatmap(CM, center = True,cmap='coolwarm')\n",
    "plt.show()"
   ]
  },
  {
   "cell_type": "code",
   "execution_count": 211,
   "id": "a4e6c0e8",
   "metadata": {
    "scrolled": false
   },
   "outputs": [
    {
     "name": "stdout",
     "output_type": "stream",
     "text": [
      "              precision    recall  f1-score   support\n",
      "\n",
      "           0       0.67      0.51      0.58        51\n",
      "           1       0.83      0.90      0.86       134\n",
      "\n",
      "    accuracy                           0.79       185\n",
      "   macro avg       0.75      0.71      0.72       185\n",
      "weighted avg       0.78      0.79      0.79       185\n",
      "\n",
      "accuracy is 0.7945945945945946\n"
     ]
    }
   ],
   "source": [
    "LR = LogisticRegression(solver='liblinear', random_state=1,class_weight='balanced' )\n",
    "LR.fit(X_train, y_train)\n",
    "\n",
    "y_predict = LR.predict(X_test)\n",
    "\n",
    "#  prediction Summary by species\n",
    "print(classification_report(y_test, y_predict))\n",
    "\n",
    "# Accuracy score\n",
    "LR_SC = accuracy_score(y_predict,y_test)\n",
    "print('accuracy is',accuracy_score(y_predict,y_test))"
   ]
  },
  {
   "cell_type": "code",
   "execution_count": 212,
   "id": "7382be19",
   "metadata": {
    "scrolled": false
   },
   "outputs": [
    {
     "name": "stdout",
     "output_type": "stream",
     "text": [
      "Confusion Matrix is : \n",
      " [[ 26  25]\n",
      " [ 13 121]]\n"
     ]
    },
    {
     "data": {
      "image/png": "[encoded data removed]",
      "text/plain": [
       "<Figure size 640x480 with 2 Axes>"
      ]
     },
     "metadata": {},
     "output_type": "display_data"
    }
   ],
   "source": [
    "#Calculating Confusion Matrix\n",
    "CM = confusion_matrix(y_test, y_predict)\n",
    "print('Confusion Matrix is : \\n', CM)\n",
    "\n",
    "# drawing confusion matrix\n",
    "sns.heatmap(CM, center = True,cmap='coolwarm')\n",
    "plt.show()"
   ]
  },
  {
   "cell_type": "code",
   "execution_count": null,
   "id": "0f4442bd",
   "metadata": {
    "scrolled": true
   },
   "outputs": [],
   "source": []
  },
  {
   "cell_type": "code",
   "execution_count": 213,
   "id": "fbddce09",
   "metadata": {
    "scrolled": true
   },
   "outputs": [
    {
     "name": "stdout",
     "output_type": "stream",
     "text": [
      "              precision    recall  f1-score   support\n",
      "\n",
      "           0       0.55      0.51      0.53        51\n",
      "           1       0.82      0.84      0.83       134\n",
      "\n",
      "    accuracy                           0.75       185\n",
      "   macro avg       0.69      0.68      0.68       185\n",
      "weighted avg       0.75      0.75      0.75       185\n",
      "\n",
      "Accuracy: 0.7513513513513513\n"
     ]
    }
   ],
   "source": [
    "from imblearn.over_sampling import RandomOverSampler\n",
    "from sklearn.linear_model import LogisticRegression\n",
    "from sklearn.metrics import classification_report, accuracy_score\n",
    "\n",
    "# Create an instance of the RandomOverSampler\n",
    "oversampler = RandomOverSampler(random_state=1)\n",
    "\n",
    "# Apply oversampling to the training data\n",
    "X_train_resampled, y_train_resampled = oversampler.fit_resample(X_train, y_train)\n",
    "\n",
    "# Create an instance of LogisticRegression\n",
    "LR = LogisticRegression(solver='liblinear', random_state=1,class_weight='balanced')\n",
    "\n",
    "# Fit the logistic regression model on the resampled data\n",
    "LR.fit(X_train_resampled, y_train_resampled)\n",
    "\n",
    "# Make predictions on the test data\n",
    "y_predict = LR.predict(X_test)\n",
    "\n",
    "# Print classification report\n",
    "print(classification_report(y_test, y_predict))\n",
    "\n",
    "# Calculate and print accuracy score\n",
    "accuracy = accuracy_score(y_test, y_predict)\n",
    "print('Accuracy:', accuracy)"
   ]
  },
  {
   "cell_type": "code",
   "execution_count": 214,
   "id": "cc444f46",
   "metadata": {
    "scrolled": false
   },
   "outputs": [
    {
     "name": "stdout",
     "output_type": "stream",
     "text": [
      "Confusion Matrix is : \n",
      " [[ 26  25]\n",
      " [ 21 113]]\n"
     ]
    },
    {
     "data": {
      "image/png": "[encoded data removed]",
      "text/plain": [
       "<Figure size 640x480 with 2 Axes>"
      ]
     },
     "metadata": {},
     "output_type": "display_data"
    }
   ],
   "source": [
    "#Calculating Confusion Matrix\n",
    "CM = confusion_matrix(y_test, y_predict)\n",
    "print('Confusion Matrix is : \\n', CM)\n",
    "\n",
    "# drawing confusion matrix\n",
    "sns.heatmap(CM, center = True,cmap='coolwarm')\n",
    "plt.show()"
   ]
  },
  {
   "cell_type": "code",
   "execution_count": 215,
   "id": "48e7fa65",
   "metadata": {
    "scrolled": true
   },
   "outputs": [
    {
     "data": {
      "text/html": [
       "<div>\n",
       "<style scoped>\n",
       "    .dataframe tbody tr th:only-of-type {\n",
       "        vertical-align: middle;\n",
       "    }\n",
       "\n",
       "    .dataframe tbody tr th {\n",
       "        vertical-align: top;\n",
       "    }\n",
       "\n",
       "    .dataframe thead th {\n",
       "        text-align: right;\n",
       "    }\n",
       "</style>\n",
       "<table border=\"1\" class=\"dataframe\">\n",
       "  <thead>\n",
       "    <tr style=\"text-align: right;\">\n",
       "      <th></th>\n",
       "      <th>y_test</th>\n",
       "      <th>prediction</th>\n",
       "    </tr>\n",
       "  </thead>\n",
       "  <tbody>\n",
       "    <tr>\n",
       "      <th>454</th>\n",
       "      <td>1</td>\n",
       "      <td>1</td>\n",
       "    </tr>\n",
       "    <tr>\n",
       "      <th>52</th>\n",
       "      <td>0</td>\n",
       "      <td>1</td>\n",
       "    </tr>\n",
       "    <tr>\n",
       "      <th>536</th>\n",
       "      <td>1</td>\n",
       "      <td>1</td>\n",
       "    </tr>\n",
       "    <tr>\n",
       "      <th>469</th>\n",
       "      <td>0</td>\n",
       "      <td>1</td>\n",
       "    </tr>\n",
       "    <tr>\n",
       "      <th>55</th>\n",
       "      <td>1</td>\n",
       "      <td>1</td>\n",
       "    </tr>\n",
       "  </tbody>\n",
       "</table>\n",
       "</div>"
      ],
      "text/plain": [
       "     y_test  prediction\n",
       "454       1           1\n",
       "52        0           1\n",
       "536       1           1\n",
       "469       0           1\n",
       "55        1           1"
      ]
     },
     "execution_count": 215,
     "metadata": {},
     "output_type": "execute_result"
    }
   ],
   "source": [
    "Logistic_Regression=pd.DataFrame({'y_test':y_test,'prediction':y_predict})\n",
    "Logistic_Regression.head(5)"
   ]
  },
  {
   "cell_type": "markdown",
   "id": "908a7a34",
   "metadata": {},
   "source": [
    "# Adjusted Logistic Regression"
   ]
  },
  {
   "cell_type": "code",
   "execution_count": 216,
   "id": "1770aa77",
   "metadata": {},
   "outputs": [
    {
     "name": "stdout",
     "output_type": "stream",
     "text": [
      "              precision    recall  f1-score   support\n",
      "\n",
      "           0       0.60      0.53      0.56        51\n",
      "           1       0.83      0.87      0.85       134\n",
      "\n",
      "    accuracy                           0.77       185\n",
      "   macro avg       0.71      0.70      0.70       185\n",
      "weighted avg       0.77      0.77      0.77       185\n",
      "\n",
      "[[ 27  24]\n",
      " [ 18 116]]\n"
     ]
    },
    {
     "name": "stderr",
     "output_type": "stream",
     "text": [
      "C:\\Users\\Moga\\anaconda3\\envs\\sports_wear\\Lib\\site-packages\\sklearn\\model_selection\\_validation.py:425: FitFailedWarning: \n",
      "15 fits failed out of a total of 30.\n",
      "The score on these train-test partitions for these parameters will be set to nan.\n",
      "If these failures are not expected, you can try to debug them by setting error_score='raise'.\n",
      "\n",
      "Below are more details about the failures:\n",
      "--------------------------------------------------------------------------------\n",
      "15 fits failed with the following error:\n",
      "Traceback (most recent call last):\n",
      "  File \"C:\\Users\\Moga\\anaconda3\\envs\\sports_wear\\Lib\\site-packages\\sklearn\\model_selection\\_validation.py\", line 732, in _fit_and_score\n",
      "    estimator.fit(X_train, y_train, **fit_params)\n",
      "  File \"C:\\Users\\Moga\\anaconda3\\envs\\sports_wear\\Lib\\site-packages\\sklearn\\base.py\", line 1151, in wrapper\n",
      "    return fit_method(estimator, *args, **kwargs)\n",
      "           ^^^^^^^^^^^^^^^^^^^^^^^^^^^^^^^^^^^^^^\n",
      "  File \"C:\\Users\\Moga\\anaconda3\\envs\\sports_wear\\Lib\\site-packages\\sklearn\\linear_model\\_logistic.py\", line 1168, in fit\n",
      "    solver = _check_solver(self.solver, self.penalty, self.dual)\n",
      "             ^^^^^^^^^^^^^^^^^^^^^^^^^^^^^^^^^^^^^^^^^^^^^^^^^^^\n",
      "  File \"C:\\Users\\Moga\\anaconda3\\envs\\sports_wear\\Lib\\site-packages\\sklearn\\linear_model\\_logistic.py\", line 56, in _check_solver\n",
      "    raise ValueError(\n",
      "ValueError: Solver lbfgs supports only 'l2' or 'none' penalties, got l1 penalty.\n",
      "\n",
      "  warnings.warn(some_fits_failed_message, FitFailedWarning)\n",
      "C:\\Users\\Moga\\anaconda3\\envs\\sports_wear\\Lib\\site-packages\\sklearn\\model_selection\\_search.py:976: UserWarning: One or more of the test scores are non-finite: [       nan 0.79723666        nan 0.80191518        nan 0.80191518]\n",
      "  warnings.warn(\n"
     ]
    }
   ],
   "source": [
    "from sklearn.model_selection import GridSearchCV\n",
    "from sklearn.metrics import classification_report, confusion_matrix, accuracy_score\n",
    "\n",
    "# Create a Logistic Regression classifier\n",
    "LRclassifier = LogisticRegression()\n",
    "\n",
    "# Define the parameter grid to search\n",
    "param_grid = {\n",
    "    'penalty': ['l1', 'l2'],\n",
    "    'C': [0.1, 1, 10]\n",
    "}\n",
    "\n",
    "# Perform grid search with cross-validation\n",
    "grid_search = GridSearchCV(estimator=LRclassifier, param_grid=param_grid, cv=5)\n",
    "grid_search.fit(X_train, y_train)\n",
    "\n",
    "# Get the best parameters and best score\n",
    "best_params = grid_search.best_params_\n",
    "best_score = grid_search.best_score_\n",
    "\n",
    "# Create a new Logistic Regression classifier with the best parameters\n",
    "LRclassifier_best = LogisticRegression(**best_params, class_weight='balanced')\n",
    "\n",
    "# Fit the classifier to the training data\n",
    "LRclassifier_best.fit(X_train, y_train)\n",
    "\n",
    "# Make predictions on the test data\n",
    "y_pred = LRclassifier_best.predict(X_test)\n",
    "\n",
    "# Print classification report and confusion matrix\n",
    "print(classification_report(y_test, y_pred))\n",
    "print(confusion_matrix(y_test, y_pred))\n",
    "\n",
    "# Calculate accuracy\n",
    "accuracy = accuracy_score(y_test, y_pred)"
   ]
  },
  {
   "cell_type": "code",
   "execution_count": 217,
   "id": "e279e13e",
   "metadata": {},
   "outputs": [
    {
     "data": {
      "text/plain": [
       "0.772972972972973"
      ]
     },
     "execution_count": 217,
     "metadata": {},
     "output_type": "execute_result"
    }
   ],
   "source": [
    "accuracy"
   ]
  },
  {
   "cell_type": "markdown",
   "id": "e07f7b1b",
   "metadata": {},
   "source": [
    "# SVC"
   ]
  },
  {
   "cell_type": "code",
   "execution_count": 218,
   "id": "542c7edd",
   "metadata": {
    "scrolled": true
   },
   "outputs": [
    {
     "name": "stdout",
     "output_type": "stream",
     "text": [
      "              precision    recall  f1-score   support\n",
      "\n",
      "           0       0.67      0.43      0.52        51\n",
      "           1       0.81      0.92      0.86       134\n",
      "\n",
      "    accuracy                           0.78       185\n",
      "   macro avg       0.74      0.67      0.69       185\n",
      "weighted avg       0.77      0.78      0.77       185\n",
      "\n",
      "[[ 22  29]\n",
      " [ 11 123]]\n"
     ]
    }
   ],
   "source": [
    "#Support Vector Classifier \n",
    "from sklearn.svm import SVC\n",
    "from sklearn.preprocessing import MinMaxScaler\n",
    "\n",
    "SVCclassifier = SVC(kernel='rbf', max_iter=1000,class_weight='balanced')\n",
    "SVCclassifier.fit(X_train, y_train)\n",
    "\n",
    "\n",
    "y_pred = SVCclassifier.predict(X_test)\n",
    "\n",
    "print(classification_report(y_test, y_pred))\n",
    "print(confusion_matrix(y_test, y_pred))\n",
    "\n",
    "from sklearn.metrics import accuracy_score\n",
    "SVCAcc = accuracy_score(y_pred,y_test)"
   ]
  },
  {
   "cell_type": "code",
   "execution_count": 219,
   "id": "2f2ce6f9",
   "metadata": {
    "scrolled": true
   },
   "outputs": [],
   "source": [
    "from sklearn.metrics import accuracy_score\n",
    "SVCAcc = accuracy_score(y_pred,y_test)"
   ]
  },
  {
   "cell_type": "code",
   "execution_count": 220,
   "id": "103b54f8",
   "metadata": {
    "scrolled": true
   },
   "outputs": [
    {
     "data": {
      "text/plain": [
       "0.7837837837837838"
      ]
     },
     "execution_count": 220,
     "metadata": {},
     "output_type": "execute_result"
    }
   ],
   "source": [
    "SVCAcc"
   ]
  },
  {
   "cell_type": "markdown",
   "id": "59780e5e",
   "metadata": {},
   "source": [
    "# RandomForestClassifier"
   ]
  },
  {
   "cell_type": "code",
   "execution_count": 221,
   "id": "106a30e7",
   "metadata": {
    "scrolled": true
   },
   "outputs": [
    {
     "name": "stdout",
     "output_type": "stream",
     "text": [
      "              precision    recall  f1-score   support\n",
      "\n",
      "           0       0.68      0.45      0.54        51\n",
      "           1       0.81      0.92      0.86       134\n",
      "\n",
      "    accuracy                           0.79       185\n",
      "   macro avg       0.75      0.68      0.70       185\n",
      "weighted avg       0.78      0.79      0.77       185\n",
      "\n",
      "[[ 23  28]\n",
      " [ 11 123]]\n"
     ]
    }
   ],
   "source": [
    "from sklearn.ensemble import RandomForestClassifier\n",
    "from sklearn.metrics import classification_report, confusion_matrix, accuracy_score\n",
    "\n",
    "# Create a Random Forest classifier\n",
    "RFclassifier = RandomForestClassifier(n_estimators=100)\n",
    "\n",
    "# Fit the classifier to the training data\n",
    "RFclassifier.fit(X_train, y_train)\n",
    "\n",
    "# Make predictions on the test data\n",
    "y_pred = RFclassifier.predict(X_test)\n",
    "\n",
    "# Print classification report and confusion matrix\n",
    "print(classification_report(y_test, y_pred))\n",
    "print(confusion_matrix(y_test, y_pred))\n",
    "\n",
    "# Calculate accuracy\n",
    "RFacc = accuracy_score(y_pred, y_test)"
   ]
  },
  {
   "cell_type": "code",
   "execution_count": 222,
   "id": "5e866747",
   "metadata": {},
   "outputs": [
    {
     "data": {
      "text/plain": [
       "0.7891891891891892"
      ]
     },
     "execution_count": 222,
     "metadata": {},
     "output_type": "execute_result"
    }
   ],
   "source": [
    "RFacc"
   ]
  },
  {
   "cell_type": "code",
   "execution_count": 223,
   "id": "ee36dc30",
   "metadata": {
    "scrolled": false
   },
   "outputs": [
    {
     "name": "stdout",
     "output_type": "stream",
     "text": [
      "Confusion Matrix is : \n",
      " [[ 26  25]\n",
      " [ 21 113]]\n"
     ]
    },
    {
     "data": {
      "image/png": "[encoded data removed]",
      "text/plain": [
       "<Figure size 640x480 with 2 Axes>"
      ]
     },
     "metadata": {},
     "output_type": "display_data"
    }
   ],
   "source": [
    "#Calculating Confusion Matrix\n",
    "CM = confusion_matrix(y_test, y_predict)\n",
    "print('Confusion Matrix is : \\n', CM)\n",
    "\n",
    "# drawing confusion matrix\n",
    "sns.heatmap(CM, center = True,cmap='coolwarm')\n",
    "plt.show()"
   ]
  },
  {
   "cell_type": "markdown",
   "id": "c9dba07c",
   "metadata": {},
   "source": [
    "# XGboost"
   ]
  },
  {
   "cell_type": "code",
   "execution_count": 224,
   "id": "0a264d95",
   "metadata": {
    "scrolled": true
   },
   "outputs": [
    {
     "name": "stdout",
     "output_type": "stream",
     "text": [
      "              precision    recall  f1-score   support\n",
      "\n",
      "           0       0.70      0.55      0.62        51\n",
      "           1       0.84      0.91      0.87       134\n",
      "\n",
      "    accuracy                           0.81       185\n",
      "   macro avg       0.77      0.73      0.74       185\n",
      "weighted avg       0.80      0.81      0.80       185\n",
      "\n",
      "[[ 28  23]\n",
      " [ 12 122]]\n"
     ]
    }
   ],
   "source": [
    "from xgboost import XGBClassifier\n",
    "from sklearn.metrics import classification_report, confusion_matrix, accuracy_score\n",
    "\n",
    "# Create an XGBoost classifier\n",
    "XGBclassifier = XGBClassifier()\n",
    "\n",
    "# Fit the classifier to the training data\n",
    "XGBclassifier.fit(X_train, y_train)\n",
    "\n",
    "# Make predictions on the test data\n",
    "y_pred = XGBclassifier.predict(X_test)\n",
    "\n",
    "# Print classification report and confusion matrix\n",
    "print(classification_report(y_test, y_pred))\n",
    "print(confusion_matrix(y_test, y_pred))\n",
    "\n",
    "# Calculate accuracy\n",
    "XGBacc = accuracy_score(y_pred, y_test)"
   ]
  },
  {
   "cell_type": "code",
   "execution_count": 225,
   "id": "545eea62",
   "metadata": {},
   "outputs": [
    {
     "data": {
      "text/plain": [
       "0.8108108108108109"
      ]
     },
     "execution_count": 225,
     "metadata": {},
     "output_type": "execute_result"
    }
   ],
   "source": [
    "XGBacc"
   ]
  },
  {
   "cell_type": "code",
   "execution_count": 226,
   "id": "790d7639",
   "metadata": {
    "scrolled": false
   },
   "outputs": [
    {
     "name": "stdout",
     "output_type": "stream",
     "text": [
      "Confusion Matrix is : \n",
      " [[ 26  25]\n",
      " [ 21 113]]\n"
     ]
    },
    {
     "data": {
      "image/png": "[encoded data removed]",
      "text/plain": [
       "<Figure size 640x480 with 2 Axes>"
      ]
     },
     "metadata": {},
     "output_type": "display_data"
    }
   ],
   "source": [
    "#Calculating Confusion Matrix\n",
    "CM = confusion_matrix(y_test, y_predict)\n",
    "print('Confusion Matrix is : \\n', CM)\n",
    "\n",
    "# drawing confusion matrix\n",
    "sns.heatmap(CM, center = True,cmap='coolwarm')\n",
    "plt.show()"
   ]
  },
  {
   "cell_type": "markdown",
   "id": "9a56574d",
   "metadata": {},
   "source": [
    "# Adjusted xgboost"
   ]
  },
  {
   "cell_type": "code",
   "execution_count": 227,
   "id": "b67b457f",
   "metadata": {},
   "outputs": [
    {
     "name": "stdout",
     "output_type": "stream",
     "text": [
      "              precision    recall  f1-score   support\n",
      "\n",
      "           0       0.91      0.41      0.57        51\n",
      "           1       0.81      0.99      0.89       134\n",
      "\n",
      "    accuracy                           0.83       185\n",
      "   macro avg       0.86      0.70      0.73       185\n",
      "weighted avg       0.84      0.83      0.80       185\n",
      "\n",
      "[[ 21  30]\n",
      " [  2 132]]\n"
     ]
    },
    {
     "data": {
      "text/plain": [
       "0.827027027027027"
      ]
     },
     "execution_count": 227,
     "metadata": {},
     "output_type": "execute_result"
    }
   ],
   "source": [
    "from xgboost import XGBClassifier\n",
    "from sklearn.model_selection import GridSearchCV\n",
    "from sklearn.metrics import classification_report, confusion_matrix, accuracy_score\n",
    "\n",
    "\n",
    "XGBclassifier = XGBClassifier()\n",
    "\n",
    "# Define the parameter grid to search\n",
    "param_grid = {\n",
    "    'n_estimators': [100, 200, 300],  # Number of trees\n",
    "    'max_depth': [3, 4, 5],  # Maximum depth of each tree\n",
    "    'learning_rate': [0.1, 0.01, 0.001]  # Learning rate\n",
    "}\n",
    "\n",
    "# Perform grid search with cross-validation\n",
    "grid_search = GridSearchCV(estimator=XGBclassifier, param_grid=param_grid, cv=5)\n",
    "grid_search.fit(X_train, y_train)\n",
    "\n",
    "# Get the best parameters and best score\n",
    "best_params = grid_search.best_params_\n",
    "best_score = grid_search.best_score_\n",
    "\n",
    "# Create a new XGBoost classifier with the best parameters\n",
    "XGBclassifier_best = XGBClassifier(**best_params)\n",
    "\n",
    "# Fit the classifier to the training data\n",
    "XGBclassifier_best.fit(X_train, y_train)\n",
    "\n",
    "# Make predictions on the test data\n",
    "y_pred = XGBclassifier_best.predict(X_test)\n",
    "\n",
    "# Print classification report and confusion matrix\n",
    "print(classification_report(y_test, y_pred))\n",
    "print(confusion_matrix(y_test, y_pred))\n",
    "\n",
    "# Calculate accuracy\n",
    "accuracy = accuracy_score(y_test, y_pred)\n",
    "accuracy "
   ]
  },
  {
   "cell_type": "code",
   "execution_count": 228,
   "id": "2036fe8f",
   "metadata": {
    "scrolled": true
   },
   "outputs": [
    {
     "data": {
      "text/plain": [
       "0.827027027027027"
      ]
     },
     "execution_count": 228,
     "metadata": {},
     "output_type": "execute_result"
    }
   ],
   "source": [
    "accuracy"
   ]
  },
  {
   "cell_type": "code",
   "execution_count": 229,
   "id": "a75adef6",
   "metadata": {},
   "outputs": [
    {
     "name": "stdout",
     "output_type": "stream",
     "text": [
      "Confusion Matrix is : \n",
      " [[ 26  25]\n",
      " [ 21 113]]\n"
     ]
    },
    {
     "data": {
      "image/png": "[encoded data removed]",
      "text/plain": [
       "<Figure size 640x480 with 2 Axes>"
      ]
     },
     "metadata": {},
     "output_type": "display_data"
    }
   ],
   "source": [
    "#Calculating Confusion Matrix\n",
    "CM = confusion_matrix(y_test, y_predict)\n",
    "print('Confusion Matrix is : \\n', CM)\n",
    "\n",
    "# drawing confusion matrix\n",
    "sns.heatmap(CM, center = True,cmap='coolwarm')\n",
    "plt.show()"
   ]
  },
  {
   "cell_type": "markdown",
   "id": "5c915ef8",
   "metadata": {},
   "source": [
    "# Clustering"
   ]
  },
  {
   "cell_type": "code",
   "execution_count": 230,
   "id": "e4b93a00",
   "metadata": {},
   "outputs": [],
   "source": [
    "# import KMeans\n",
    "from sklearn.cluster import KMeans"
   ]
  },
  {
   "cell_type": "code",
   "execution_count": 231,
   "id": "efb1cb8a",
   "metadata": {},
   "outputs": [],
   "source": [
    "loans['totalincome'] = loans.applicantincome + loans.coapplicantincome\n",
    "# Select the features for clustering\n",
    "features = [ 'married', 'education','loanamount', 'loan_amount_term',\n",
    "            'credit_history', 'loan_status','totalincome']"
   ]
  },
  {
   "cell_type": "code",
   "execution_count": 232,
   "id": "72088a67",
   "metadata": {},
   "outputs": [],
   "source": [
    "# Extract the selected features from the DataFrame\n",
    "X_cluster = loans[features]"
   ]
  },
  {
   "cell_type": "code",
   "execution_count": 233,
   "id": "361d8102",
   "metadata": {},
   "outputs": [
    {
     "name": "stderr",
     "output_type": "stream",
     "text": [
      "C:\\Users\\Moga\\anaconda3\\envs\\sports_wear\\Lib\\site-packages\\sklearn\\cluster\\_kmeans.py:1412: FutureWarning: The default value of `n_init` will change from 10 to 'auto' in 1.4. Set the value of `n_init` explicitly to suppress the warning\n",
      "  super()._check_params_vs_input(X, default_n_init=10)\n",
      "C:\\Users\\Moga\\anaconda3\\envs\\sports_wear\\Lib\\site-packages\\sklearn\\cluster\\_kmeans.py:1412: FutureWarning: The default value of `n_init` will change from 10 to 'auto' in 1.4. Set the value of `n_init` explicitly to suppress the warning\n",
      "  super()._check_params_vs_input(X, default_n_init=10)\n",
      "C:\\Users\\Moga\\anaconda3\\envs\\sports_wear\\Lib\\site-packages\\sklearn\\cluster\\_kmeans.py:1412: FutureWarning: The default value of `n_init` will change from 10 to 'auto' in 1.4. Set the value of `n_init` explicitly to suppress the warning\n",
      "  super()._check_params_vs_input(X, default_n_init=10)\n",
      "C:\\Users\\Moga\\anaconda3\\envs\\sports_wear\\Lib\\site-packages\\sklearn\\cluster\\_kmeans.py:1412: FutureWarning: The default value of `n_init` will change from 10 to 'auto' in 1.4. Set the value of `n_init` explicitly to suppress the warning\n",
      "  super()._check_params_vs_input(X, default_n_init=10)\n",
      "C:\\Users\\Moga\\anaconda3\\envs\\sports_wear\\Lib\\site-packages\\sklearn\\cluster\\_kmeans.py:1412: FutureWarning: The default value of `n_init` will change from 10 to 'auto' in 1.4. Set the value of `n_init` explicitly to suppress the warning\n",
      "  super()._check_params_vs_input(X, default_n_init=10)\n",
      "C:\\Users\\Moga\\anaconda3\\envs\\sports_wear\\Lib\\site-packages\\sklearn\\cluster\\_kmeans.py:1412: FutureWarning: The default value of `n_init` will change from 10 to 'auto' in 1.4. Set the value of `n_init` explicitly to suppress the warning\n",
      "  super()._check_params_vs_input(X, default_n_init=10)\n",
      "C:\\Users\\Moga\\anaconda3\\envs\\sports_wear\\Lib\\site-packages\\sklearn\\cluster\\_kmeans.py:1412: FutureWarning: The default value of `n_init` will change from 10 to 'auto' in 1.4. Set the value of `n_init` explicitly to suppress the warning\n",
      "  super()._check_params_vs_input(X, default_n_init=10)\n",
      "C:\\Users\\Moga\\anaconda3\\envs\\sports_wear\\Lib\\site-packages\\sklearn\\cluster\\_kmeans.py:1412: FutureWarning: The default value of `n_init` will change from 10 to 'auto' in 1.4. Set the value of `n_init` explicitly to suppress the warning\n",
      "  super()._check_params_vs_input(X, default_n_init=10)\n",
      "C:\\Users\\Moga\\anaconda3\\envs\\sports_wear\\Lib\\site-packages\\sklearn\\cluster\\_kmeans.py:1412: FutureWarning: The default value of `n_init` will change from 10 to 'auto' in 1.4. Set the value of `n_init` explicitly to suppress the warning\n",
      "  super()._check_params_vs_input(X, default_n_init=10)\n",
      "C:\\Users\\Moga\\anaconda3\\envs\\sports_wear\\Lib\\site-packages\\sklearn\\cluster\\_kmeans.py:1412: FutureWarning: The default value of `n_init` will change from 10 to 'auto' in 1.4. Set the value of `n_init` explicitly to suppress the warning\n",
      "  super()._check_params_vs_input(X, default_n_init=10)\n"
     ]
    },
    {
     "data": {
      "image/png": "[encoded data removed]",
      "text/plain": [
       "<Figure size 640x480 with 1 Axes>"
      ]
     },
     "metadata": {},
     "output_type": "display_data"
    }
   ],
   "source": [
    "# Use the Elbow method to find the optimal number of clusters\n",
    "inertia = []\n",
    "for k in range(1, 11):\n",
    "    kmeans = KMeans(n_clusters=k, random_state=42)\n",
    "    kmeans.fit(X_cluster)\n",
    "    inertia.append(kmeans.inertia_)\n",
    "\n",
    "# Plot the Elbow curve\n",
    "import matplotlib.pyplot as plt\n",
    "plt.plot(range(1, 11), inertia, marker='o')\n",
    "plt.xlabel('Number of Clusters (k)')\n",
    "plt.ylabel('Within-Cluster Sum of Squares (Inertia)')\n",
    "plt.title('Elbow Curve')\n",
    "plt.show()"
   ]
  },
  {
   "cell_type": "code",
   "execution_count": 234,
   "id": "c08cbebe",
   "metadata": {},
   "outputs": [
    {
     "name": "stderr",
     "output_type": "stream",
     "text": [
      "C:\\Users\\Moga\\anaconda3\\envs\\sports_wear\\Lib\\site-packages\\sklearn\\cluster\\_kmeans.py:1412: FutureWarning: The default value of `n_init` will change from 10 to 'auto' in 1.4. Set the value of `n_init` explicitly to suppress the warning\n",
      "  super()._check_params_vs_input(X, default_n_init=10)\n"
     ]
    }
   ],
   "source": [
    "# Create a K-means clustering object\n",
    "kmeans = KMeans(n_clusters=4, random_state=42)\n",
    "\n",
    "# Fit the K-means model to the data\n",
    "kmeans.fit(X_cluster)\n",
    "\n",
    "# Get the cluster labels for each data point\n",
    "cluster_labels = kmeans.labels_"
   ]
  },
  {
   "cell_type": "code",
   "execution_count": 235,
   "id": "6b15d062",
   "metadata": {
    "scrolled": false
   },
   "outputs": [
    {
     "name": "stdout",
     "output_type": "stream",
     "text": [
      "          married  education  loanamount  loan_amount_term  credit_history  \\\n",
      "Cluster                                                                      \n",
      "0        0.526316   0.203947  141.326836           339.000        0.858553   \n",
      "1        0.250000   0.000000  195.500000           315.000        1.000000   \n",
      "2        0.792000   0.272000  135.418838           348.432        0.852000   \n",
      "3        0.750000   0.071429  219.589286           331.500        0.839286   \n",
      "\n",
      "         loan_status   totalincome  \n",
      "Cluster                             \n",
      "0           0.671053    377.091842  \n",
      "1           0.250000  28906.250000  \n",
      "2           0.716000   2371.476000  \n",
      "3           0.678571   5786.517857  \n"
     ]
    },
    {
     "data": {
      "image/png": "[encoded data removed]",
      "text/plain": [
       "<Figure size 640x480 with 1 Axes>"
      ]
     },
     "metadata": {},
     "output_type": "display_data"
    }
   ],
   "source": [
    "# Assign cluster labels to the original dataset\n",
    "loans['Cluster'] = cluster_labels\n",
    "\n",
    "# Perform further analysis or visualization based on the clusters\n",
    "# Example: Calculate cluster statistics\n",
    "cluster_stats = loans.groupby('Cluster')[features].mean()\n",
    "print(cluster_stats)\n",
    "\n",
    "# Example: Visualize the clusters\n",
    "sns.barplot(y=loans['loanamount'], x=(loans['credit_history']  ),data=loans, hue=loans['Cluster'])\n",
    "# plt.xlabel('loanamount')\n",
    "# plt.ylabel('loan_sta')\n",
    "# plt.title('Clustering Results')\n",
    "plt.show()"
   ]
  },
  {
   "cell_type": "code",
   "execution_count": null,
   "id": "309d8d22",
   "metadata": {},
   "outputs": [],
   "source": []
  },
  {
   "cell_type": "markdown",
   "id": "c51ed155",
   "metadata": {},
   "source": [
    "### **Overall Conclusion:**\n",
    "\n",
    "In this loan approval prediction project, we performed exploratory data analysis, feature importance analysis, and built machine learning models to predict loan approval. Here are the key findings and recommendations based on the analysis:\n",
    "\n",
    "1. Exploratory Data Analysis:\n",
    "   - The dataset consists of various features such as gender, marital status, dependents, education, income, loan amount, credit history, property area, and loan status.\n",
    "   - Approximately 68.73% of the loans in the dataset were approved (loan status = 1), while 31.27% were not approved (loan status = 0).\n",
    "   - Credit history, property area, marital status, education, and dependents showed variations in loan approval rates.\n",
    "\n",
    "2. Feature Importance:\n",
    "   - Credit history was found to be the most important feature influencing loan approval, with customers having a good credit history (credit_history = 1) having a higher approval rate.\n",
    "   - Property area, marital status, and education were also found to be significant factors affecting loan approval.\n",
    "   - Gender and self-employment status had minimal impact on loan approval.\n",
    "\n",
    "3. Loan Approval Insights:\n",
    "   - Customers with a good credit history (credit_history = 1) had a higher chance of loan approval.\n",
    "   - Applicants in semiurban and urban areas had higher loan approval rates compared to those in rural areas.\n",
    "   - Married individuals and graduates had higher loan approval rates.\n",
    "   - Income level and loan amount played important roles in loan approval decisions.\n",
    "\n",
    "4. Machine Learning Models:\n",
    "   - Logistic Regression, Support Vector Classifier (SVC), Random Forest Classifier, and XGBoost Classifier were trained and evaluated for loan approval prediction.\n",
    "   - The models achieved varying levels of accuracy, with Logistic Regression and XGBoost Classifier performing relatively well.\n",
    "   - Adjustments and hyperparameter tuning were applied to improve model performance.\n",
    "\n",
    "### Recommendations:\n",
    "   - Consider the credit history of loan applicants as the most important factor in loan approval decisions. Give preference to applicants with a good credit history.\n",
    "   - Focus on customers in semiurban and urban areas, as they tend to have higher loan approval rates.\n",
    "   - Pay attention to the marital status and education level of applicants, as these factors also influence loan approval.\n",
    "   - Evaluate the income level and loan amount carefully, ensuring that the loan amount is within a reasonable percentage of the total income (e.g., not more than 4%).\n",
    "   - Further analyze and explore the impact of other factors such as dependents, property area, and employment type to gain more insights into loan approval decisions.\n",
    "\n"
   ]
  },
  {
   "cell_type": "code",
   "execution_count": null,
   "id": "e38669a3",
   "metadata": {},
   "outputs": [],
   "source": []
  },
  {
   "cell_type": "code",
   "execution_count": null,
   "id": "52b61095",
   "metadata": {},
   "outputs": [],
   "source": []
  }
 ],
 "metadata": {
  "kernelspec": {
   "display_name": "base",
   "language": "python",
   "name": "python3"
  },
  "language_info": {
   "codemirror_mode": {
    "name": "ipython",
    "version": 3
   },
   "file_extension": ".py",
   "mimetype": "text/x-python",
   "name": "python",
   "nbconvert_exporter": "python",
   "pygments_lexer": "ipython3",
   "version": "3.12.4"
  }
 },
 "nbformat": 4,
 "nbformat_minor": 5
}
